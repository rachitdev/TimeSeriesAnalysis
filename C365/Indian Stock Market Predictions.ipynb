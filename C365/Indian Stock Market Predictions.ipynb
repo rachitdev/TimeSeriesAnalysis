{
 "cells": [
  {
   "cell_type": "markdown",
   "id": "906b6129",
   "metadata": {},
   "source": [
    "### Packages"
   ]
  },
  {
   "cell_type": "code",
   "execution_count": 1,
   "id": "00279e9e",
   "metadata": {},
   "outputs": [],
   "source": [
    "import numpy as np\n",
    "import pandas as pd\n",
    "import scipy\n",
    "import statsmodels.api as sm\n",
    "import matplotlib.pyplot as plt\n",
    "import seaborn as sns\n",
    "import sklearn\n",
    "import statsmodels.graphics.tsaplots as sgt\n",
    "import statsmodels.tsa.stattools as sts\n",
    "#from statsmodels.tsa.arima_model import ARIMA\n",
    "from statsmodels.tsa.arima.model import ARIMA\n",
    "from statsmodels.tsa.statespace.sarimax import SARIMAX\n",
    "#from statsmodels.tsa import SARIMAX\n",
    "from pmdarima.arima import auto_arima\n",
    "from arch import arch_model\n",
    "import yfinance\n",
    "import warnings\n",
    "warnings.filterwarnings(\"ignore\")\n",
    "sns.set()"
   ]
  },
  {
   "cell_type": "markdown",
   "id": "ef7de6d3",
   "metadata": {},
   "source": [
    "### Getting the Data from yFinance"
   ]
  },
  {
   "cell_type": "code",
   "execution_count": 2,
   "id": "b20da05e",
   "metadata": {},
   "outputs": [
    {
     "data": {
      "text/plain": [
       "datetime.date(2021, 12, 29)"
      ]
     },
     "execution_count": 2,
     "metadata": {},
     "output_type": "execute_result"
    }
   ],
   "source": [
    "# Getting the current date\n",
    "from datetime import date\n",
    "today = date.today()\n",
    "today"
   ]
  },
  {
   "cell_type": "code",
   "execution_count": null,
   "id": "e8aa2513",
   "metadata": {},
   "outputs": [],
   "source": [
    "raw_data = yfinance.download (tickers = \"^BSESN ^NSEI ^FTSE ^N225 ^NYA\", start = \"2008-09-29\", end = today,\n",
    "                              interval = \"1d\", group_by = 'ticker', auto_adjust = True, treads = True)"
   ]
  },
  {
   "cell_type": "code",
   "execution_count": null,
   "id": "5ab39e13",
   "metadata": {},
   "outputs": [],
   "source": [
    "raw_data.tail()"
   ]
  },
  {
   "cell_type": "markdown",
   "id": "3df7c7df",
   "metadata": {},
   "source": [
    "### Creating the Data"
   ]
  },
  {
   "cell_type": "code",
   "execution_count": null,
   "id": "eb276ca3",
   "metadata": {},
   "outputs": [],
   "source": [
    "df_comp = raw_data.copy()"
   ]
  },
  {
   "cell_type": "code",
   "execution_count": null,
   "id": "63ff1543",
   "metadata": {},
   "outputs": [],
   "source": [
    "df_comp['sensex'] = df_comp['^BSESN'].Close[:]\n",
    "df_comp['nifty'] = df_comp['^NSEI'].Close[:]\n",
    "df_comp['ftse'] = df_comp['^FTSE'].Close[:]\n",
    "df_comp['nikkei'] = df_comp['^N225'].Close[:]\n",
    "df_comp['nyse'] = df_comp['^NYA'].Close[:]"
   ]
  },
  {
   "cell_type": "code",
   "execution_count": null,
   "id": "5ec56a42",
   "metadata": {},
   "outputs": [],
   "source": [
    "df_comp = df_comp.iloc[1:]\n",
    "del df_comp['^BSESN']\n",
    "del df_comp['^NSEI']\n",
    "del df_comp['^FTSE']\n",
    "del df_comp['^N225']\n",
    "del df_comp['^NYA']\n",
    "df_comp=df_comp.asfreq('b')\n",
    "df_comp=df_comp.fillna(method='ffill')"
   ]
  },
  {
   "cell_type": "code",
   "execution_count": null,
   "id": "95b78235",
   "metadata": {},
   "outputs": [],
   "source": [
    "df_comp.tail()"
   ]
  },
  {
   "cell_type": "markdown",
   "id": "60876c67",
   "metadata": {},
   "source": [
    "### Creating Returns"
   ]
  },
  {
   "cell_type": "code",
   "execution_count": null,
   "id": "51b50530",
   "metadata": {},
   "outputs": [],
   "source": [
    "df_comp['ret_sensex'] = df_comp.sensex.pct_change(1).mul(100)\n",
    "df_comp['ret_nifty'] = df_comp.nifty.pct_change(1).mul(100)\n",
    "df_comp['ret_ftse'] = df_comp.ftse.pct_change(1).mul(100)\n",
    "df_comp['ret_nikkei'] = df_comp.nikkei.pct_change(1).mul(100)\n",
    "df_comp['ret_nyse'] = df_comp.nyse.pct_change(1).mul(100)"
   ]
  },
  {
   "cell_type": "code",
   "execution_count": null,
   "id": "a9bc070f",
   "metadata": {},
   "outputs": [],
   "source": [
    "df_comp['norm_ret_sensex'] = df_comp.sensex.div(df_comp.ret_sensex[1])*100\n",
    "df_comp['norm_ret_nifty'] = df_comp.nifty.div(df_comp.ret_nifty[1])*100\n",
    "df_comp['norm_ret_ftse'] = df_comp.ret_ftse.div(df_comp.ret_ftse[1])*100\n",
    "df_comp['norm_ret_nikkei'] = df_comp.ret_nikkei.div(df_comp.ret_nikkei[1])*100\n",
    "df_comp['norm_ret_nyse'] = df_comp.ret_nyse.div(df_comp.ret_nyse[1])*100"
   ]
  },
  {
   "cell_type": "code",
   "execution_count": null,
   "id": "e60043b9",
   "metadata": {},
   "outputs": [],
   "source": [
    "df_comp.tail()"
   ]
  },
  {
   "cell_type": "markdown",
   "id": "be175afc",
   "metadata": {},
   "source": [
    "### Splitting the Data"
   ]
  },
  {
   "cell_type": "code",
   "execution_count": null,
   "id": "2e58d81b",
   "metadata": {},
   "outputs": [],
   "source": [
    "size = int(len(df_comp)*0.8)\n",
    "df, df_test = df_comp.iloc[:size], df_comp.iloc[size:]"
   ]
  },
  {
   "cell_type": "code",
   "execution_count": null,
   "id": "666de36f",
   "metadata": {},
   "outputs": [],
   "source": [
    "df_test.head()"
   ]
  },
  {
   "cell_type": "markdown",
   "id": "43b16c60",
   "metadata": {},
   "source": [
    "### Fitting the Model"
   ]
  },
  {
   "cell_type": "markdown",
   "id": "f8d973d6",
   "metadata": {},
   "source": [
    "### ARMAX"
   ]
  },
  {
   "cell_type": "code",
   "execution_count": null,
   "id": "74ddf393",
   "metadata": {},
   "outputs": [],
   "source": [
    "start_date = \"2019-01-01\"\n",
    "end_date = \"2021-12-10\"\n",
    "model_ret_armax = ARIMA(df.ret_sensex[1:], exog = df[[\"ret_ftse\",\"ret_nikkei\",\"ret_nyse\"]][1:], order = (1,0,1))\n",
    "\n",
    "results_ret_armax = model_ret_armax.fit()\n",
    "\n",
    "df_pred_armax = results_ret_armax.predict(start = start_date, end = end_date, \n",
    "                                          exog = df_test[[\"ret_ftse\",\"ret_nikkei\",\"ret_nyse\"]][start_date:end_date]) \n",
    "\n",
    "df_pred_armax[start_date:end_date].plot(figsize = (20,5), color = \"red\")\n",
    "df_test.ret_sensex[start_date:end_date].plot(color = \"blue\")\n",
    "plt.title(\"Predictions vs Actual (Returns)\", size = 24)\n",
    "plt.show()"
   ]
  },
  {
   "cell_type": "code",
   "execution_count": null,
   "id": "8a221a1a",
   "metadata": {},
   "outputs": [],
   "source": [
    "# Lets zoom in a bit\n",
    "\n",
    "start_date = \"2019-04-01\"\n",
    "end_date = \"2020-07-01\"\n",
    "model_ret_armax = ARIMA(df.ret_sensex[1:], exog = df[[\"ret_ftse\",\"ret_nikkei\",\"ret_nyse\"]][1:], order = (1,0,1))\n",
    "\n",
    "results_ret_armax = model_ret_armax.fit()\n",
    "\n",
    "df_pred_armax = results_ret_armax.predict(start = start_date, end = end_date, \n",
    "                                          exog = df_test[[\"ret_ftse\",\"ret_nikkei\",\"ret_nyse\"]][start_date:end_date]) \n",
    "\n",
    "df_pred_armax[start_date:end_date].plot(figsize = (20,5), color = \"red\")\n",
    "df_test.ret_sensex[start_date:end_date].plot(color = \"blue\")\n",
    "plt.title(\"Predictions vs Actual (Returns)\", size = 24)\n",
    "plt.show()"
   ]
  },
  {
   "cell_type": "markdown",
   "id": "668594ba",
   "metadata": {},
   "source": [
    "### SARIMAX"
   ]
  },
  {
   "cell_type": "code",
   "execution_count": null,
   "id": "919c985f",
   "metadata": {},
   "outputs": [],
   "source": [
    "start_date = \"2019-04-01\"\n",
    "end_date = \"2020-07-01\"\n",
    "model_ret_sarimax = SARIMAX(df.ret_sensex[1:], exog = df[[\"ret_ftse\",\"ret_nikkei\",\"ret_nyse\"]][1:], \n",
    "                            order = (3,0,4), seasonal_order = (3,0,2,5))\n",
    "results_ret_sarimax = model_ret_sarimax.fit()\n",
    "\n",
    "df_pred_sarimax = results_ret_sarimax.predict(start = start_date, end = end_date, \n",
    "                                              exog = df_test[[\"ret_ftse\",\"ret_nikkei\",\"ret_nyse\"]][start_date:end_date]) \n",
    "\n",
    "df_pred_sarimax[start_date:end_date].plot(figsize = (20,5), color = \"red\")\n",
    "df_test.ret_sensex[start_date:end_date].plot(color = \"blue\")\n",
    "plt.title(\"Predictions vs Actual\", size = 24)\n",
    "plt.show()"
   ]
  },
  {
   "cell_type": "markdown",
   "id": "d413a208",
   "metadata": {},
   "source": [
    "### Auto ARIMA"
   ]
  },
  {
   "cell_type": "code",
   "execution_count": null,
   "id": "4293e761",
   "metadata": {},
   "outputs": [],
   "source": [
    "# model_auto = auto_arima(df.ret_sensex[1:], exogenous = df[['ret_ftse','ret_nikkei','ret_nyse']][1:],\n",
    "#                        m = 5, max_p = 5, max_q = 5, max_P = 5, max_Q = 5)"
   ]
  },
  {
   "cell_type": "code",
   "execution_count": null,
   "id": "f905a314",
   "metadata": {},
   "outputs": [],
   "source": [
    "# df_auto_pred = pd.DataFrame(model_auto.predict(n_periods = len(df_test[start_date:end_date]),\n",
    "#                             exogenous = df_test[['ret_ftse','ret_nikkei','ret_nyse']][start_date:end_date]),\n",
    "#                             index = df_test[start_date:end_date].index)"
   ]
  },
  {
   "cell_type": "code",
   "execution_count": null,
   "id": "c6bd2d48",
   "metadata": {},
   "outputs": [],
   "source": [
    "# df_auto_pred.plot(figsize = (20,5), color = \"red\")\n",
    "# df_test.ret_sensex[start_date:end_date].plot(color = \"blue\")\n",
    "# plt.title(\"Auto Model Predictions vs Real Data\", size = 24)\n",
    "# plt.show()"
   ]
  },
  {
   "cell_type": "markdown",
   "id": "2a2cd869",
   "metadata": {},
   "source": [
    "### FB Prophet Model for future predictions"
   ]
  },
  {
   "cell_type": "code",
   "execution_count": null,
   "id": "7ec7024e",
   "metadata": {},
   "outputs": [],
   "source": [
    "df_comp.head()"
   ]
  },
  {
   "cell_type": "code",
   "execution_count": null,
   "id": "c163d9f4",
   "metadata": {},
   "outputs": [],
   "source": [
    "df_comp = df_comp.iloc[1:]"
   ]
  },
  {
   "cell_type": "code",
   "execution_count": null,
   "id": "68ce9f25",
   "metadata": {},
   "outputs": [],
   "source": [
    "df_comp.head()"
   ]
  },
  {
   "cell_type": "code",
   "execution_count": null,
   "id": "d3be40d5",
   "metadata": {},
   "outputs": [],
   "source": [
    "df_nifty = df_comp[\"nifty\"]"
   ]
  },
  {
   "cell_type": "code",
   "execution_count": null,
   "id": "8b657ded",
   "metadata": {},
   "outputs": [],
   "source": [
    "df_nifty.head()"
   ]
  },
  {
   "cell_type": "code",
   "execution_count": null,
   "id": "557acf46",
   "metadata": {},
   "outputs": [],
   "source": [
    "df_nifty.reset_index()"
   ]
  },
  {
   "cell_type": "code",
   "execution_count": null,
   "id": "7354ca24",
   "metadata": {},
   "outputs": [],
   "source": [
    "df_nifty.columns = ['ds','y']"
   ]
  },
  {
   "cell_type": "code",
   "execution_count": null,
   "id": "fca706cf",
   "metadata": {},
   "outputs": [],
   "source": [
    "df_nifty.reset_index()"
   ]
  },
  {
   "cell_type": "code",
   "execution_count": null,
   "id": "a73640d1",
   "metadata": {},
   "outputs": [],
   "source": [
    "df_nifty.columns = ['DS', 'Y']"
   ]
  },
  {
   "cell_type": "code",
   "execution_count": null,
   "id": "44fb6728",
   "metadata": {},
   "outputs": [],
   "source": [
    "df_nifty.columns"
   ]
  },
  {
   "cell_type": "code",
   "execution_count": null,
   "id": "7e253bea",
   "metadata": {},
   "outputs": [],
   "source": [
    "from fbprophet import Prophet"
   ]
  },
  {
   "cell_type": "code",
   "execution_count": null,
   "id": "a557281a",
   "metadata": {},
   "outputs": [],
   "source": [
    "import matplotlib.pyplot as plt"
   ]
  },
  {
   "cell_type": "code",
   "execution_count": null,
   "id": "1ccc176c",
   "metadata": {},
   "outputs": [],
   "source": [
    "m = Prophet(\n",
    "    growth=\"linear\",\n",
    "    #holidays=holidays,\n",
    "    #seasonality_mode=\"multiplicative\",\n",
    "    changepoint_prior_scale=30,\n",
    "    seasonality_prior_scale=35,\n",
    "    ###cap=3.00,\n",
    "    ###floor=.65*125,\n",
    "    holidays_prior_scale=20,\n",
    "    daily_seasonality=False,\n",
    "    weekly_seasonality=False,\n",
    "    yearly_seasonality=False,\n",
    "    ).add_seasonality(\n",
    "        name='monthly',\n",
    "        period=30.5,\n",
    "        fourier_order=55\n",
    "    ).add_seasonality(\n",
    "        name='daily',\n",
    "        period=1,\n",
    "        fourier_order=15\n",
    "    ).add_seasonality(\n",
    "        name='weekly',\n",
    "        period=7,\n",
    "        fourier_order=20\n",
    "    ).add_seasonality(\n",
    "        name='yearly',\n",
    "        period=365.25,\n",
    "        fourier_order=20\n",
    "    ).add_seasonality(\n",
    "        name='quarterly',\n",
    "        period=365.25/4,\n",
    "        fourier_order=5,\n",
    "        prior_scale=15)"
   ]
  },
  {
   "cell_type": "code",
   "execution_count": null,
   "id": "4a4215c3",
   "metadata": {},
   "outputs": [],
   "source": [
    "m.fit(df_nifty)"
   ]
  },
  {
   "cell_type": "code",
   "execution_count": null,
   "id": "ca1c707e",
   "metadata": {},
   "outputs": [],
   "source": []
  }
 ],
 "metadata": {
  "kernelspec": {
   "display_name": "myenv",
   "language": "python",
   "name": "myenv"
  },
  "language_info": {
   "codemirror_mode": {
    "name": "ipython",
    "version": 3
   },
   "file_extension": ".py",
   "mimetype": "text/x-python",
   "name": "python",
   "nbconvert_exporter": "python",
   "pygments_lexer": "ipython3",
   "version": "3.8.12"
  }
 },
 "nbformat": 4,
 "nbformat_minor": 5
}
