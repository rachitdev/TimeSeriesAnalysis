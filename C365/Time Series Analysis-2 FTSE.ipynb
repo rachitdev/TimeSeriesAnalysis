{
 "cells": [
  {
   "cell_type": "markdown",
   "metadata": {},
   "source": [
    "## Importing Data"
   ]
  },
  {
   "cell_type": "code",
   "execution_count": 1,
   "metadata": {},
   "outputs": [],
   "source": [
    "import numpy as np\n",
    "import pandas as pd\n",
    "import yfinance \n",
    "\n",
    "# Ignoring warning messages\n",
    "import warnings \n",
    "warnings.filterwarnings(\"ignore\")"
   ]
  },
  {
   "cell_type": "code",
   "execution_count": 2,
   "metadata": {},
   "outputs": [
    {
     "data": {
      "text/plain": [
       "datetime.date(2020, 7, 16)"
      ]
     },
     "execution_count": 2,
     "metadata": {},
     "output_type": "execute_result"
    }
   ],
   "source": [
    "# Getting the current date\n",
    "from datetime import date\n",
    "today = date.today()\n",
    "today"
   ]
  },
  {
   "cell_type": "code",
   "execution_count": 3,
   "metadata": {},
   "outputs": [
    {
     "name": "stdout",
     "output_type": "stream",
     "text": [
      "[*********************100%***********************]  4 of 4 completed\n"
     ]
    }
   ],
   "source": [
    "# Using the .download() method to get our data\n",
    "\n",
    "raw_data = yfinance.download (tickers = \"^GSPC ^FTSE ^N225 ^GDAXI\", #The time series we are interested in - (in our case, these are the S&P, FTSE, NIKKEI and DAX)\n",
    "                              start = \"1994-01-07\", #The starting date of our data set\n",
    "                              end = today, #The ending date of our data set (at the time of upload, this is the current date)\n",
    "                              interval = \"1d\", #The distance in time between two recorded observations. Since we're using daily closing prices, we set it equal to \"1d\", which indicates 1 day. \n",
    "                              group_by = 'ticker', #The way we want to group the scraped data. Usually we want it to be \"ticker\", so that we have all the information about a time series in 1 variable.\n",
    "                              auto_adjust = True, #Automatically adjuss the closing prices for each period. \n",
    "                              treads = True) #Whether to use threads for mass downloading."
   ]
  },
  {
   "cell_type": "code",
   "execution_count": 4,
   "metadata": {},
   "outputs": [],
   "source": [
    "# Creating a back up copy in case we remove/alter elements of the data by mistake\n",
    "df_comp = raw_data.copy()"
   ]
  },
  {
   "cell_type": "code",
   "execution_count": 5,
   "metadata": {},
   "outputs": [],
   "source": [
    "# Adding new columns to the data set\n",
    "df_comp['spx'] = df_comp['^GSPC'].Close\n",
    "df_comp['dax'] = df_comp['^GDAXI'].Close\n",
    "df_comp['ftse'] = df_comp['^FTSE'].Close\n",
    "df_comp['nikkei'] = df_comp['^N225'].Close"
   ]
  },
  {
   "cell_type": "code",
   "execution_count": 6,
   "metadata": {},
   "outputs": [],
   "source": [
    "df_comp = df_comp.iloc[1:] # Removing the first elements, since we always start 1 period before the first, due to time zone differences of closing prices\n",
    "del df_comp['^N225']  # Removing the original tickers of the data set\n",
    "del df_comp['^GSPC']\n",
    "del df_comp['^GDAXI']\n",
    "del df_comp['^FTSE']\n",
    "df_comp=df_comp.asfreq('b') # Setting the frequency of the data\n",
    "df_comp=df_comp.fillna(method='ffill') # Filling any missing values"
   ]
  },
  {
   "cell_type": "code",
   "execution_count": 7,
   "metadata": {},
   "outputs": [
    {
     "name": "stdout",
     "output_type": "stream",
     "text": [
      "                   spx          dax         ftse        nikkei\n",
      "                                                              \n",
      "Date                                                          \n",
      "1994-01-07  469.899994  2224.949951  3446.000000  18124.009766\n",
      "1994-01-10  475.269989  2225.000000  3440.600098  18443.439453\n",
      "1994-01-11  474.130005  2228.100098  3413.800049  18485.250000\n",
      "1994-01-12  474.170013  2182.060059  3372.000000  18793.880859\n",
      "1994-01-13  472.470001  2142.370117  3360.000000  18577.259766\n",
      "                    spx           dax         ftse        nikkei\n",
      "                                                                \n",
      "Date                                                            \n",
      "2020-07-09  3152.050049  12489.459961  6049.600098  22529.289062\n",
      "2020-07-10  3185.040039  12633.709961  6095.399902  22290.810547\n",
      "2020-07-13  3155.219971  12799.969727  6176.200195  22784.740234\n",
      "2020-07-14  3197.520020  12697.360352  6179.799805  22587.009766\n",
      "2020-07-15  3225.570068  12930.980469  6292.649902  22945.500000\n"
     ]
    }
   ],
   "source": [
    "print (df_comp.head()) # Displaying the first 5 elements to make sure the data was scrapped correctly\n",
    "print (df_comp.tail()) # Making sure of the last day we're including in the series"
   ]
  },
  {
   "cell_type": "code",
   "execution_count": 8,
   "metadata": {},
   "outputs": [
    {
     "data": {
      "text/plain": [
       "MultiIndex([(   'spx', ''),\n",
       "            (   'dax', ''),\n",
       "            (  'ftse', ''),\n",
       "            ('nikkei', '')],\n",
       "           )"
      ]
     },
     "execution_count": 8,
     "metadata": {},
     "output_type": "execute_result"
    }
   ],
   "source": [
    "df_comp.columns"
   ]
  },
  {
   "cell_type": "code",
   "execution_count": 9,
   "metadata": {},
   "outputs": [
    {
     "data": {
      "text/plain": [
       "<bound method NDFrame.describe of                     spx           dax         ftse        nikkei\n",
       "                                                                \n",
       "Date                                                            \n",
       "1994-01-07   469.899994   2224.949951  3446.000000  18124.009766\n",
       "1994-01-10   475.269989   2225.000000  3440.600098  18443.439453\n",
       "1994-01-11   474.130005   2228.100098  3413.800049  18485.250000\n",
       "1994-01-12   474.170013   2182.060059  3372.000000  18793.880859\n",
       "1994-01-13   472.470001   2142.370117  3360.000000  18577.259766\n",
       "...                 ...           ...          ...           ...\n",
       "2020-07-09  3152.050049  12489.459961  6049.600098  22529.289062\n",
       "2020-07-10  3185.040039  12633.709961  6095.399902  22290.810547\n",
       "2020-07-13  3155.219971  12799.969727  6176.200195  22784.740234\n",
       "2020-07-14  3197.520020  12697.360352  6179.799805  22587.009766\n",
       "2020-07-15  3225.570068  12930.980469  6292.649902  22945.500000\n",
       "\n",
       "[6919 rows x 4 columns]>"
      ]
     },
     "execution_count": 9,
     "metadata": {},
     "output_type": "execute_result"
    }
   ],
   "source": [
    "df_comp.describe"
   ]
  },
  {
   "cell_type": "code",
   "execution_count": 10,
   "metadata": {},
   "outputs": [
    {
     "data": {
      "text/plain": [
       "spx         0\n",
       "dax         0\n",
       "ftse        0\n",
       "nikkei      0\n",
       "dtype: int64"
      ]
     },
     "execution_count": 10,
     "metadata": {},
     "output_type": "execute_result"
    }
   ],
   "source": [
    "df_comp.isna().sum()"
   ]
  },
  {
   "cell_type": "code",
   "execution_count": 11,
   "metadata": {},
   "outputs": [
    {
     "data": {
      "text/plain": [
       "0"
      ]
     },
     "execution_count": 11,
     "metadata": {},
     "output_type": "execute_result"
    }
   ],
   "source": [
    "# while dealing with huge database and you want to analyse only one column\n",
    "df_comp.spx.isna().sum()"
   ]
  },
  {
   "cell_type": "markdown",
   "metadata": {},
   "source": [
    "## Simplifying the DataSet"
   ]
  },
  {
   "cell_type": "code",
   "execution_count": 12,
   "metadata": {},
   "outputs": [
    {
     "data": {
      "text/html": [
       "<div>\n",
       "<style scoped>\n",
       "    .dataframe tbody tr th:only-of-type {\n",
       "        vertical-align: middle;\n",
       "    }\n",
       "\n",
       "    .dataframe tbody tr th {\n",
       "        vertical-align: top;\n",
       "    }\n",
       "\n",
       "    .dataframe thead tr th {\n",
       "        text-align: left;\n",
       "    }\n",
       "\n",
       "    .dataframe thead tr:last-of-type th {\n",
       "        text-align: right;\n",
       "    }\n",
       "</style>\n",
       "<table border=\"1\" class=\"dataframe\">\n",
       "  <thead>\n",
       "    <tr>\n",
       "      <th></th>\n",
       "      <th>spx</th>\n",
       "      <th>dax</th>\n",
       "      <th>ftse</th>\n",
       "      <th>nikkei</th>\n",
       "    </tr>\n",
       "    <tr>\n",
       "      <th></th>\n",
       "      <th></th>\n",
       "      <th></th>\n",
       "      <th></th>\n",
       "      <th></th>\n",
       "    </tr>\n",
       "    <tr>\n",
       "      <th>Date</th>\n",
       "      <th></th>\n",
       "      <th></th>\n",
       "      <th></th>\n",
       "      <th></th>\n",
       "    </tr>\n",
       "  </thead>\n",
       "  <tbody>\n",
       "    <tr>\n",
       "      <th>1994-01-07</th>\n",
       "      <td>469.899994</td>\n",
       "      <td>2224.949951</td>\n",
       "      <td>3446.000000</td>\n",
       "      <td>18124.009766</td>\n",
       "    </tr>\n",
       "    <tr>\n",
       "      <th>1994-01-10</th>\n",
       "      <td>475.269989</td>\n",
       "      <td>2225.000000</td>\n",
       "      <td>3440.600098</td>\n",
       "      <td>18443.439453</td>\n",
       "    </tr>\n",
       "    <tr>\n",
       "      <th>1994-01-11</th>\n",
       "      <td>474.130005</td>\n",
       "      <td>2228.100098</td>\n",
       "      <td>3413.800049</td>\n",
       "      <td>18485.250000</td>\n",
       "    </tr>\n",
       "    <tr>\n",
       "      <th>1994-01-12</th>\n",
       "      <td>474.170013</td>\n",
       "      <td>2182.060059</td>\n",
       "      <td>3372.000000</td>\n",
       "      <td>18793.880859</td>\n",
       "    </tr>\n",
       "    <tr>\n",
       "      <th>1994-01-13</th>\n",
       "      <td>472.470001</td>\n",
       "      <td>2142.370117</td>\n",
       "      <td>3360.000000</td>\n",
       "      <td>18577.259766</td>\n",
       "    </tr>\n",
       "  </tbody>\n",
       "</table>\n",
       "</div>"
      ],
      "text/plain": [
       "                   spx          dax         ftse        nikkei\n",
       "                                                              \n",
       "Date                                                          \n",
       "1994-01-07  469.899994  2224.949951  3446.000000  18124.009766\n",
       "1994-01-10  475.269989  2225.000000  3440.600098  18443.439453\n",
       "1994-01-11  474.130005  2228.100098  3413.800049  18485.250000\n",
       "1994-01-12  474.170013  2182.060059  3372.000000  18793.880859\n",
       "1994-01-13  472.470001  2142.370117  3360.000000  18577.259766"
      ]
     },
     "execution_count": 12,
     "metadata": {},
     "output_type": "execute_result"
    }
   ],
   "source": [
    "df_comp.head()"
   ]
  },
  {
   "cell_type": "code",
   "execution_count": 13,
   "metadata": {},
   "outputs": [],
   "source": [
    "df_comp['market_value'] = df_comp.ftse"
   ]
  },
  {
   "cell_type": "code",
   "execution_count": 14,
   "metadata": {},
   "outputs": [
    {
     "data": {
      "text/html": [
       "<div>\n",
       "<style scoped>\n",
       "    .dataframe tbody tr th:only-of-type {\n",
       "        vertical-align: middle;\n",
       "    }\n",
       "\n",
       "    .dataframe tbody tr th {\n",
       "        vertical-align: top;\n",
       "    }\n",
       "\n",
       "    .dataframe thead tr th {\n",
       "        text-align: left;\n",
       "    }\n",
       "\n",
       "    .dataframe thead tr:last-of-type th {\n",
       "        text-align: right;\n",
       "    }\n",
       "</style>\n",
       "<table border=\"1\" class=\"dataframe\">\n",
       "  <thead>\n",
       "    <tr>\n",
       "      <th></th>\n",
       "      <th>spx</th>\n",
       "      <th>dax</th>\n",
       "      <th>ftse</th>\n",
       "      <th>nikkei</th>\n",
       "      <th>market_value</th>\n",
       "    </tr>\n",
       "    <tr>\n",
       "      <th></th>\n",
       "      <th></th>\n",
       "      <th></th>\n",
       "      <th></th>\n",
       "      <th></th>\n",
       "      <th></th>\n",
       "    </tr>\n",
       "    <tr>\n",
       "      <th>Date</th>\n",
       "      <th></th>\n",
       "      <th></th>\n",
       "      <th></th>\n",
       "      <th></th>\n",
       "      <th></th>\n",
       "    </tr>\n",
       "  </thead>\n",
       "  <tbody>\n",
       "    <tr>\n",
       "      <th>1994-01-07</th>\n",
       "      <td>469.899994</td>\n",
       "      <td>2224.949951</td>\n",
       "      <td>3446.000000</td>\n",
       "      <td>18124.009766</td>\n",
       "      <td>3446.000000</td>\n",
       "    </tr>\n",
       "    <tr>\n",
       "      <th>1994-01-10</th>\n",
       "      <td>475.269989</td>\n",
       "      <td>2225.000000</td>\n",
       "      <td>3440.600098</td>\n",
       "      <td>18443.439453</td>\n",
       "      <td>3440.600098</td>\n",
       "    </tr>\n",
       "    <tr>\n",
       "      <th>1994-01-11</th>\n",
       "      <td>474.130005</td>\n",
       "      <td>2228.100098</td>\n",
       "      <td>3413.800049</td>\n",
       "      <td>18485.250000</td>\n",
       "      <td>3413.800049</td>\n",
       "    </tr>\n",
       "    <tr>\n",
       "      <th>1994-01-12</th>\n",
       "      <td>474.170013</td>\n",
       "      <td>2182.060059</td>\n",
       "      <td>3372.000000</td>\n",
       "      <td>18793.880859</td>\n",
       "      <td>3372.000000</td>\n",
       "    </tr>\n",
       "    <tr>\n",
       "      <th>1994-01-13</th>\n",
       "      <td>472.470001</td>\n",
       "      <td>2142.370117</td>\n",
       "      <td>3360.000000</td>\n",
       "      <td>18577.259766</td>\n",
       "      <td>3360.000000</td>\n",
       "    </tr>\n",
       "  </tbody>\n",
       "</table>\n",
       "</div>"
      ],
      "text/plain": [
       "                   spx          dax         ftse        nikkei market_value\n",
       "                                                                           \n",
       "Date                                                                       \n",
       "1994-01-07  469.899994  2224.949951  3446.000000  18124.009766  3446.000000\n",
       "1994-01-10  475.269989  2225.000000  3440.600098  18443.439453  3440.600098\n",
       "1994-01-11  474.130005  2228.100098  3413.800049  18485.250000  3413.800049\n",
       "1994-01-12  474.170013  2182.060059  3372.000000  18793.880859  3372.000000\n",
       "1994-01-13  472.470001  2142.370117  3360.000000  18577.259766  3360.000000"
      ]
     },
     "execution_count": 14,
     "metadata": {},
     "output_type": "execute_result"
    }
   ],
   "source": [
    "df_comp.head()"
   ]
  },
  {
   "cell_type": "code",
   "execution_count": 15,
   "metadata": {},
   "outputs": [],
   "source": [
    "col = [\"spx\", \"dax\", \"ftse\", \"nikkei\"]\n",
    "\n",
    "for x in col:\n",
    "    del df_comp[x]"
   ]
  },
  {
   "cell_type": "code",
   "execution_count": 16,
   "metadata": {},
   "outputs": [
    {
     "data": {
      "text/html": [
       "<div>\n",
       "<style scoped>\n",
       "    .dataframe tbody tr th:only-of-type {\n",
       "        vertical-align: middle;\n",
       "    }\n",
       "\n",
       "    .dataframe tbody tr th {\n",
       "        vertical-align: top;\n",
       "    }\n",
       "\n",
       "    .dataframe thead tr th {\n",
       "        text-align: left;\n",
       "    }\n",
       "\n",
       "    .dataframe thead tr:last-of-type th {\n",
       "        text-align: right;\n",
       "    }\n",
       "</style>\n",
       "<table border=\"1\" class=\"dataframe\">\n",
       "  <thead>\n",
       "    <tr>\n",
       "      <th></th>\n",
       "      <th>market_value</th>\n",
       "    </tr>\n",
       "    <tr>\n",
       "      <th></th>\n",
       "      <th></th>\n",
       "    </tr>\n",
       "    <tr>\n",
       "      <th>Date</th>\n",
       "      <th></th>\n",
       "    </tr>\n",
       "  </thead>\n",
       "  <tbody>\n",
       "    <tr>\n",
       "      <th>1994-01-07</th>\n",
       "      <td>3446.000000</td>\n",
       "    </tr>\n",
       "    <tr>\n",
       "      <th>1994-01-10</th>\n",
       "      <td>3440.600098</td>\n",
       "    </tr>\n",
       "    <tr>\n",
       "      <th>1994-01-11</th>\n",
       "      <td>3413.800049</td>\n",
       "    </tr>\n",
       "    <tr>\n",
       "      <th>1994-01-12</th>\n",
       "      <td>3372.000000</td>\n",
       "    </tr>\n",
       "    <tr>\n",
       "      <th>1994-01-13</th>\n",
       "      <td>3360.000000</td>\n",
       "    </tr>\n",
       "  </tbody>\n",
       "</table>\n",
       "</div>"
      ],
      "text/plain": [
       "           market_value\n",
       "                       \n",
       "Date                   \n",
       "1994-01-07  3446.000000\n",
       "1994-01-10  3440.600098\n",
       "1994-01-11  3413.800049\n",
       "1994-01-12  3372.000000\n",
       "1994-01-13  3360.000000"
      ]
     },
     "execution_count": 16,
     "metadata": {},
     "output_type": "execute_result"
    }
   ],
   "source": [
    "df_comp.head()"
   ]
  },
  {
   "cell_type": "markdown",
   "metadata": {},
   "source": [
    "## Test-Train Split\n",
    "\n",
    "We are going to use 80-20 train-test split. In time series analysis the split is performed sequentially. We do not split the data using other python methods because they split the data randomly."
   ]
  },
  {
   "cell_type": "code",
   "execution_count": 17,
   "metadata": {},
   "outputs": [],
   "source": [
    "train_size = int(len(df_comp)*0.8)"
   ]
  },
  {
   "cell_type": "code",
   "execution_count": 18,
   "metadata": {},
   "outputs": [],
   "source": [
    "df = df_comp.iloc[: train_size]"
   ]
  },
  {
   "cell_type": "code",
   "execution_count": 19,
   "metadata": {},
   "outputs": [],
   "source": [
    "df_test = df_comp.iloc[train_size :]"
   ]
  },
  {
   "cell_type": "code",
   "execution_count": 20,
   "metadata": {},
   "outputs": [
    {
     "data": {
      "text/html": [
       "<div>\n",
       "<style scoped>\n",
       "    .dataframe tbody tr th:only-of-type {\n",
       "        vertical-align: middle;\n",
       "    }\n",
       "\n",
       "    .dataframe tbody tr th {\n",
       "        vertical-align: top;\n",
       "    }\n",
       "\n",
       "    .dataframe thead tr th {\n",
       "        text-align: left;\n",
       "    }\n",
       "\n",
       "    .dataframe thead tr:last-of-type th {\n",
       "        text-align: right;\n",
       "    }\n",
       "</style>\n",
       "<table border=\"1\" class=\"dataframe\">\n",
       "  <thead>\n",
       "    <tr>\n",
       "      <th></th>\n",
       "      <th>market_value</th>\n",
       "    </tr>\n",
       "    <tr>\n",
       "      <th></th>\n",
       "      <th></th>\n",
       "    </tr>\n",
       "    <tr>\n",
       "      <th>Date</th>\n",
       "      <th></th>\n",
       "    </tr>\n",
       "  </thead>\n",
       "  <tbody>\n",
       "    <tr>\n",
       "      <th>2015-03-20</th>\n",
       "      <td>7022.500000</td>\n",
       "    </tr>\n",
       "    <tr>\n",
       "      <th>2015-03-23</th>\n",
       "      <td>7037.700195</td>\n",
       "    </tr>\n",
       "    <tr>\n",
       "      <th>2015-03-24</th>\n",
       "      <td>7019.700195</td>\n",
       "    </tr>\n",
       "    <tr>\n",
       "      <th>2015-03-25</th>\n",
       "      <td>6991.000000</td>\n",
       "    </tr>\n",
       "    <tr>\n",
       "      <th>2015-03-26</th>\n",
       "      <td>6895.299805</td>\n",
       "    </tr>\n",
       "  </tbody>\n",
       "</table>\n",
       "</div>"
      ],
      "text/plain": [
       "           market_value\n",
       "                       \n",
       "Date                   \n",
       "2015-03-20  7022.500000\n",
       "2015-03-23  7037.700195\n",
       "2015-03-24  7019.700195\n",
       "2015-03-25  6991.000000\n",
       "2015-03-26  6895.299805"
      ]
     },
     "execution_count": 20,
     "metadata": {},
     "output_type": "execute_result"
    }
   ],
   "source": [
    "df.tail()"
   ]
  },
  {
   "cell_type": "code",
   "execution_count": 21,
   "metadata": {},
   "outputs": [
    {
     "data": {
      "text/html": [
       "<div>\n",
       "<style scoped>\n",
       "    .dataframe tbody tr th:only-of-type {\n",
       "        vertical-align: middle;\n",
       "    }\n",
       "\n",
       "    .dataframe tbody tr th {\n",
       "        vertical-align: top;\n",
       "    }\n",
       "\n",
       "    .dataframe thead tr th {\n",
       "        text-align: left;\n",
       "    }\n",
       "\n",
       "    .dataframe thead tr:last-of-type th {\n",
       "        text-align: right;\n",
       "    }\n",
       "</style>\n",
       "<table border=\"1\" class=\"dataframe\">\n",
       "  <thead>\n",
       "    <tr>\n",
       "      <th></th>\n",
       "      <th>market_value</th>\n",
       "    </tr>\n",
       "    <tr>\n",
       "      <th></th>\n",
       "      <th></th>\n",
       "    </tr>\n",
       "    <tr>\n",
       "      <th>Date</th>\n",
       "      <th></th>\n",
       "    </tr>\n",
       "  </thead>\n",
       "  <tbody>\n",
       "    <tr>\n",
       "      <th>2015-03-27</th>\n",
       "      <td>6855.000000</td>\n",
       "    </tr>\n",
       "    <tr>\n",
       "      <th>2015-03-30</th>\n",
       "      <td>6891.399902</td>\n",
       "    </tr>\n",
       "    <tr>\n",
       "      <th>2015-03-31</th>\n",
       "      <td>6773.000000</td>\n",
       "    </tr>\n",
       "    <tr>\n",
       "      <th>2015-04-01</th>\n",
       "      <td>6809.500000</td>\n",
       "    </tr>\n",
       "    <tr>\n",
       "      <th>2015-04-02</th>\n",
       "      <td>6833.500000</td>\n",
       "    </tr>\n",
       "  </tbody>\n",
       "</table>\n",
       "</div>"
      ],
      "text/plain": [
       "           market_value\n",
       "                       \n",
       "Date                   \n",
       "2015-03-27  6855.000000\n",
       "2015-03-30  6891.399902\n",
       "2015-03-31  6773.000000\n",
       "2015-04-01  6809.500000\n",
       "2015-04-02  6833.500000"
      ]
     },
     "execution_count": 21,
     "metadata": {},
     "output_type": "execute_result"
    }
   ],
   "source": [
    "df_test.head()"
   ]
  },
  {
   "cell_type": "code",
   "execution_count": 22,
   "metadata": {},
   "outputs": [
    {
     "data": {
      "text/html": [
       "<div>\n",
       "<style scoped>\n",
       "    .dataframe tbody tr th:only-of-type {\n",
       "        vertical-align: middle;\n",
       "    }\n",
       "\n",
       "    .dataframe tbody tr th {\n",
       "        vertical-align: top;\n",
       "    }\n",
       "\n",
       "    .dataframe thead tr th {\n",
       "        text-align: left;\n",
       "    }\n",
       "\n",
       "    .dataframe thead tr:last-of-type th {\n",
       "        text-align: right;\n",
       "    }\n",
       "</style>\n",
       "<table border=\"1\" class=\"dataframe\">\n",
       "  <thead>\n",
       "    <tr>\n",
       "      <th></th>\n",
       "      <th>market_value</th>\n",
       "    </tr>\n",
       "    <tr>\n",
       "      <th></th>\n",
       "      <th></th>\n",
       "    </tr>\n",
       "    <tr>\n",
       "      <th>Date</th>\n",
       "      <th></th>\n",
       "    </tr>\n",
       "  </thead>\n",
       "  <tbody>\n",
       "    <tr>\n",
       "      <th>2020-07-09</th>\n",
       "      <td>6049.600098</td>\n",
       "    </tr>\n",
       "    <tr>\n",
       "      <th>2020-07-10</th>\n",
       "      <td>6095.399902</td>\n",
       "    </tr>\n",
       "    <tr>\n",
       "      <th>2020-07-13</th>\n",
       "      <td>6176.200195</td>\n",
       "    </tr>\n",
       "    <tr>\n",
       "      <th>2020-07-14</th>\n",
       "      <td>6179.799805</td>\n",
       "    </tr>\n",
       "    <tr>\n",
       "      <th>2020-07-15</th>\n",
       "      <td>6292.649902</td>\n",
       "    </tr>\n",
       "  </tbody>\n",
       "</table>\n",
       "</div>"
      ],
      "text/plain": [
       "           market_value\n",
       "                       \n",
       "Date                   \n",
       "2020-07-09  6049.600098\n",
       "2020-07-10  6095.399902\n",
       "2020-07-13  6176.200195\n",
       "2020-07-14  6179.799805\n",
       "2020-07-15  6292.649902"
      ]
     },
     "execution_count": 22,
     "metadata": {},
     "output_type": "execute_result"
    }
   ],
   "source": [
    "# testing the test set for latest data\n",
    "df_test.tail()"
   ]
  },
  {
   "cell_type": "markdown",
   "metadata": {},
   "source": [
    "## The DF Test"
   ]
  },
  {
   "cell_type": "code",
   "execution_count": 23,
   "metadata": {},
   "outputs": [],
   "source": [
    "import statsmodels.tsa.stattools as sts"
   ]
  },
  {
   "cell_type": "code",
   "execution_count": 24,
   "metadata": {},
   "outputs": [
    {
     "data": {
      "text/plain": [
       "(-1.776280954006022,\n",
       " 0.3922994876114158,\n",
       " 6,\n",
       " 5528,\n",
       " {'1%': -3.431533491161468,\n",
       "  '5%': -2.862062986112377,\n",
       "  '10%': -2.5670483842511533},\n",
       " 60349.00659603803)"
      ]
     },
     "execution_count": 24,
     "metadata": {},
     "output_type": "execute_result"
    }
   ],
   "source": [
    "sts.adfuller(df.market_value)"
   ]
  },
  {
   "cell_type": "markdown",
   "metadata": {},
   "source": [
    "## Using Returns"
   ]
  },
  {
   "cell_type": "code",
   "execution_count": 25,
   "metadata": {},
   "outputs": [],
   "source": [
    "df['returns'] = df.market_value.pct_change(1).mul(100)\n",
    "df = df.iloc[1:]"
   ]
  },
  {
   "cell_type": "code",
   "execution_count": 26,
   "metadata": {},
   "outputs": [
    {
     "data": {
      "text/plain": [
       "(-14.14063878950347,\n",
       " 2.2492965245029e-26,\n",
       " 33,\n",
       " 5500,\n",
       " {'1%': -3.4315395190228877,\n",
       "  '5%': -2.8620656492985126,\n",
       "  '10%': -2.567049801950413},\n",
       " 16996.311696620545)"
      ]
     },
     "execution_count": 26,
     "metadata": {},
     "output_type": "execute_result"
    }
   ],
   "source": [
    "sts.adfuller(df.returns)"
   ]
  },
  {
   "cell_type": "markdown",
   "metadata": {},
   "source": [
    "In the above test the t-statistic (first line) is lower than the t-statistic of all the respective confidence intervals, so we have evidence of stationarity in the data (df.market_value)."
   ]
  },
  {
   "cell_type": "markdown",
   "metadata": {},
   "source": [
    "## ACF and PACF for FTSE returns"
   ]
  },
  {
   "cell_type": "code",
   "execution_count": 27,
   "metadata": {},
   "outputs": [
    {
     "data": {
      "image/png": "[encoded data removed]",
      "text/plain": [
       "<Figure size 432x288 with 1 Axes>"
      ]
     },
     "metadata": {
      "needs_background": "light"
     },
     "output_type": "display_data"
    }
   ],
   "source": [
    "import statsmodels.graphics.tsaplots as sgt\n",
    "import matplotlib.pyplot as plt\n",
    "sgt.plot_acf(df.returns, lags = 40, zero = False)\n",
    "plt.title(\"ACF FTSE-Returns\", size = 24)\n",
    "plt.show()"
   ]
  },
  {
   "cell_type": "code",
   "execution_count": 28,
   "metadata": {},
   "outputs": [
    {
     "data": {
      "image/png": "[encoded data removed]",
      "text/plain": [
       "<Figure size 432x288 with 1 Axes>"
      ]
     },
     "metadata": {
      "needs_background": "light"
     },
     "output_type": "display_data"
    }
   ],
   "source": [
    "sgt.plot_pacf(df.returns, lags = 40, zero = False, method = \"ols\")\n",
    "# OLS = order of least squares\n",
    "plt.title(\"PACF FTSE-Returns\", size = 24)\n",
    "plt.show()"
   ]
  },
  {
   "cell_type": "markdown",
   "metadata": {},
   "source": [
    "So we have similar graphs for returns in ACF as well as PACF and we can notice that the values decrease and increase periodically which shows cyclicness in the data. 5 of the first 6 coefficients are significant and 4 of them are negative, which suggest that the market is trying to adjust."
   ]
  },
  {
   "cell_type": "markdown",
   "metadata": {},
   "source": [
    "## AR(1) model for FTSE-Returns"
   ]
  },
  {
   "cell_type": "code",
   "execution_count": 29,
   "metadata": {},
   "outputs": [],
   "source": [
    "import statsmodels.tsa.arima_model as sta\n",
    "\n",
    "model_ret_ar_1 = sta.ARMA(df.returns, order = (1,0))"
   ]
  },
  {
   "cell_type": "code",
   "execution_count": 30,
   "metadata": {},
   "outputs": [],
   "source": [
    "results_ret_ar_1 = model_ret_ar_1.fit()"
   ]
  },
  {
   "cell_type": "code",
   "execution_count": 31,
   "metadata": {},
   "outputs": [
    {
     "data": {
      "text/html": [
       "<table class=\"simpletable\">\n",
       "<caption>ARMA Model Results</caption>\n",
       "<tr>\n",
       "  <th>Dep. Variable:</th>      <td>returns</td>     <th>  No. Observations:  </th>   <td>5534</td>   \n",
       "</tr>\n",
       "<tr>\n",
       "  <th>Model:</th>            <td>ARMA(1, 0)</td>    <th>  Log Likelihood     </th> <td>-8586.514</td>\n",
       "</tr>\n",
       "<tr>\n",
       "  <th>Method:</th>             <td>css-mle</td>     <th>  S.D. of innovations</th>   <td>1.142</td>  \n",
       "</tr>\n",
       "<tr>\n",
       "  <th>Date:</th>          <td>Thu, 16 Jul 2020</td> <th>  AIC                </th> <td>17179.027</td>\n",
       "</tr>\n",
       "<tr>\n",
       "  <th>Time:</th>              <td>01:27:39</td>     <th>  BIC                </th> <td>17198.883</td>\n",
       "</tr>\n",
       "<tr>\n",
       "  <th>Sample:</th>           <td>01-10-1994</td>    <th>  HQIC               </th> <td>17185.951</td>\n",
       "</tr>\n",
       "<tr>\n",
       "  <th></th>                 <td>- 03-26-2015</td>   <th>                     </th>     <td> </td>    \n",
       "</tr>\n",
       "</table>\n",
       "<table class=\"simpletable\">\n",
       "<tr>\n",
       "        <td></td>           <th>coef</th>     <th>std err</th>      <th>z</th>      <th>P>|z|</th>  <th>[0.025</th>    <th>0.975]</th>  \n",
       "</tr>\n",
       "<tr>\n",
       "  <th>const</th>         <td>    0.0191</td> <td>    0.015</td> <td>    1.270</td> <td> 0.204</td> <td>   -0.010</td> <td>    0.049</td>\n",
       "</tr>\n",
       "<tr>\n",
       "  <th>ar.L1.returns</th> <td>   -0.0221</td> <td>    0.013</td> <td>   -1.642</td> <td> 0.101</td> <td>   -0.048</td> <td>    0.004</td>\n",
       "</tr>\n",
       "</table>\n",
       "<table class=\"simpletable\">\n",
       "<caption>Roots</caption>\n",
       "<tr>\n",
       "    <td></td>   <th>            Real</th>  <th>         Imaginary</th> <th>         Modulus</th>  <th>        Frequency</th>\n",
       "</tr>\n",
       "<tr>\n",
       "  <th>AR.1</th> <td>         -45.3085</td> <td>          +0.0000j</td> <td>          45.3085</td> <td>           0.5000</td>\n",
       "</tr>\n",
       "</table>"
      ],
      "text/plain": [
       "<class 'statsmodels.iolib.summary.Summary'>\n",
       "\"\"\"\n",
       "                              ARMA Model Results                              \n",
       "==============================================================================\n",
       "Dep. Variable:                returns   No. Observations:                 5534\n",
       "Model:                     ARMA(1, 0)   Log Likelihood               -8586.514\n",
       "Method:                       css-mle   S.D. of innovations              1.142\n",
       "Date:                Thu, 16 Jul 2020   AIC                          17179.027\n",
       "Time:                        01:27:39   BIC                          17198.883\n",
       "Sample:                    01-10-1994   HQIC                         17185.951\n",
       "                         - 03-26-2015                                         \n",
       "=================================================================================\n",
       "                    coef    std err          z      P>|z|      [0.025      0.975]\n",
       "---------------------------------------------------------------------------------\n",
       "const             0.0191      0.015      1.270      0.204      -0.010       0.049\n",
       "ar.L1.returns    -0.0221      0.013     -1.642      0.101      -0.048       0.004\n",
       "                                    Roots                                    \n",
       "=============================================================================\n",
       "                  Real          Imaginary           Modulus         Frequency\n",
       "-----------------------------------------------------------------------------\n",
       "AR.1          -45.3085           +0.0000j           45.3085            0.5000\n",
       "-----------------------------------------------------------------------------\n",
       "\"\"\""
      ]
     },
     "execution_count": 31,
     "metadata": {},
     "output_type": "execute_result"
    }
   ],
   "source": [
    "results_ret_ar_1.summary()"
   ]
  },
  {
   "cell_type": "markdown",
   "metadata": {},
   "source": [
    "We can clearly see that the P-value of the constant as well as the variable is higher than 0.05. This model holds no real predictive power. Since neither coefficient is significantly different from 0, we can assume both are 0, so our predictions would always be 0.\n",
    "\n",
    "The more easily yesterday prices is affected by the higher lags, the more inaccurate its coefficients become."
   ]
  },
  {
   "cell_type": "markdown",
   "metadata": {},
   "source": [
    "## Higher Lag AR Models for FTSE Returns"
   ]
  },
  {
   "cell_type": "code",
   "execution_count": 32,
   "metadata": {},
   "outputs": [
    {
     "data": {
      "text/html": [
       "<table class=\"simpletable\">\n",
       "<caption>ARMA Model Results</caption>\n",
       "<tr>\n",
       "  <th>Dep. Variable:</th>   <td>market_value</td>   <th>  No. Observations:  </th>    <td>5534</td>   \n",
       "</tr>\n",
       "<tr>\n",
       "  <th>Model:</th>            <td>ARMA(2, 0)</td>    <th>  Log Likelihood     </th> <td>-30364.675</td>\n",
       "</tr>\n",
       "<tr>\n",
       "  <th>Method:</th>             <td>css-mle</td>     <th>  S.D. of innovations</th>   <td>58.408</td>  \n",
       "</tr>\n",
       "<tr>\n",
       "  <th>Date:</th>          <td>Thu, 16 Jul 2020</td> <th>  AIC                </th>  <td>60737.350</td>\n",
       "</tr>\n",
       "<tr>\n",
       "  <th>Time:</th>              <td>01:27:41</td>     <th>  BIC                </th>  <td>60763.825</td>\n",
       "</tr>\n",
       "<tr>\n",
       "  <th>Sample:</th>           <td>01-10-1994</td>    <th>  HQIC               </th>  <td>60746.582</td>\n",
       "</tr>\n",
       "<tr>\n",
       "  <th></th>                 <td>- 03-26-2015</td>   <th>                     </th>      <td> </td>    \n",
       "</tr>\n",
       "</table>\n",
       "<table class=\"simpletable\">\n",
       "<tr>\n",
       "           <td></td>             <th>coef</th>     <th>std err</th>      <th>z</th>      <th>P>|z|</th>  <th>[0.025</th>    <th>0.975]</th>  \n",
       "</tr>\n",
       "<tr>\n",
       "  <th>const</th>              <td> 5276.8119</td> <td>  565.921</td> <td>    9.324</td> <td> 0.000</td> <td> 4167.627</td> <td> 6385.997</td>\n",
       "</tr>\n",
       "<tr>\n",
       "  <th>ar.L1.market_value</th> <td>    0.9834</td> <td>    0.013</td> <td>   73.261</td> <td> 0.000</td> <td>    0.957</td> <td>    1.010</td>\n",
       "</tr>\n",
       "<tr>\n",
       "  <th>ar.L2.market_value</th> <td>    0.0154</td> <td>    0.013</td> <td>    1.145</td> <td> 0.252</td> <td>   -0.011</td> <td>    0.042</td>\n",
       "</tr>\n",
       "</table>\n",
       "<table class=\"simpletable\">\n",
       "<caption>Roots</caption>\n",
       "<tr>\n",
       "    <td></td>   <th>            Real</th>  <th>         Imaginary</th> <th>         Modulus</th>  <th>        Frequency</th>\n",
       "</tr>\n",
       "<tr>\n",
       "  <th>AR.1</th> <td>           1.0012</td> <td>          +0.0000j</td> <td>           1.0012</td> <td>           0.0000</td>\n",
       "</tr>\n",
       "<tr>\n",
       "  <th>AR.2</th> <td>         -64.9635</td> <td>          +0.0000j</td> <td>          64.9635</td> <td>           0.5000</td>\n",
       "</tr>\n",
       "</table>"
      ],
      "text/plain": [
       "<class 'statsmodels.iolib.summary.Summary'>\n",
       "\"\"\"\n",
       "                              ARMA Model Results                              \n",
       "==============================================================================\n",
       "Dep. Variable:           market_value   No. Observations:                 5534\n",
       "Model:                     ARMA(2, 0)   Log Likelihood              -30364.675\n",
       "Method:                       css-mle   S.D. of innovations             58.408\n",
       "Date:                Thu, 16 Jul 2020   AIC                          60737.350\n",
       "Time:                        01:27:41   BIC                          60763.825\n",
       "Sample:                    01-10-1994   HQIC                         60746.582\n",
       "                         - 03-26-2015                                         \n",
       "======================================================================================\n",
       "                         coef    std err          z      P>|z|      [0.025      0.975]\n",
       "--------------------------------------------------------------------------------------\n",
       "const               5276.8119    565.921      9.324      0.000    4167.627    6385.997\n",
       "ar.L1.market_value     0.9834      0.013     73.261      0.000       0.957       1.010\n",
       "ar.L2.market_value     0.0154      0.013      1.145      0.252      -0.011       0.042\n",
       "                                    Roots                                    \n",
       "=============================================================================\n",
       "                  Real          Imaginary           Modulus         Frequency\n",
       "-----------------------------------------------------------------------------\n",
       "AR.1            1.0012           +0.0000j            1.0012            0.0000\n",
       "AR.2          -64.9635           +0.0000j           64.9635            0.5000\n",
       "-----------------------------------------------------------------------------\n",
       "\"\"\""
      ]
     },
     "execution_count": 32,
     "metadata": {},
     "output_type": "execute_result"
    }
   ],
   "source": [
    "model_ret_ar_2 = sta.ARMA(df.market_value, order = (2, 0))\n",
    "result_ret_ar_2 = model_ret_ar_2.fit()\n",
    "result_ret_ar_2.summary()"
   ]
  },
  {
   "cell_type": "code",
   "execution_count": 33,
   "metadata": {},
   "outputs": [],
   "source": [
    "# LLR Test method\n",
    "import scipy.stats.distributions as dis\n",
    "\n",
    "# Here mod_1 and mod_2 are models we have to compare and DF is the degrees of freedom.\n",
    "def LLR_test(mod_1, mod_2, DF = 1):\n",
    "    L1 = mod_1.fit().llf\n",
    "    L2 = mod_2.fit().llf\n",
    "    LR = (2*(L2-L1))\n",
    "    p = dis.chi2.sf(LR, DF).round(3)\n",
    "    return p"
   ]
  },
  {
   "cell_type": "code",
   "execution_count": 34,
   "metadata": {},
   "outputs": [
    {
     "data": {
      "text/plain": [
       "1.0"
      ]
     },
     "execution_count": 34,
     "metadata": {},
     "output_type": "execute_result"
    }
   ],
   "source": [
    "LLR_test(model_ret_ar_1, model_ret_ar_2)"
   ]
  },
  {
   "cell_type": "code",
   "execution_count": 35,
   "metadata": {},
   "outputs": [
    {
     "data": {
      "text/html": [
       "<table class=\"simpletable\">\n",
       "<caption>ARMA Model Results</caption>\n",
       "<tr>\n",
       "  <th>Dep. Variable:</th>   <td>market_value</td>   <th>  No. Observations:  </th>    <td>5534</td>   \n",
       "</tr>\n",
       "<tr>\n",
       "  <th>Model:</th>            <td>ARMA(3, 0)</td>    <th>  Log Likelihood     </th> <td>-30358.874</td>\n",
       "</tr>\n",
       "<tr>\n",
       "  <th>Method:</th>             <td>css-mle</td>     <th>  S.D. of innovations</th>   <td>58.346</td>  \n",
       "</tr>\n",
       "<tr>\n",
       "  <th>Date:</th>          <td>Thu, 16 Jul 2020</td> <th>  AIC                </th>  <td>60727.748</td>\n",
       "</tr>\n",
       "<tr>\n",
       "  <th>Time:</th>              <td>01:27:44</td>     <th>  BIC                </th>  <td>60760.841</td>\n",
       "</tr>\n",
       "<tr>\n",
       "  <th>Sample:</th>           <td>01-10-1994</td>    <th>  HQIC               </th>  <td>60739.287</td>\n",
       "</tr>\n",
       "<tr>\n",
       "  <th></th>                 <td>- 03-26-2015</td>   <th>                     </th>      <td> </td>    \n",
       "</tr>\n",
       "</table>\n",
       "<table class=\"simpletable\">\n",
       "<tr>\n",
       "           <td></td>             <th>coef</th>     <th>std err</th>      <th>z</th>      <th>P>|z|</th>  <th>[0.025</th>    <th>0.975]</th>  \n",
       "</tr>\n",
       "<tr>\n",
       "  <th>const</th>              <td> 5190.5073</td> <td>  603.595</td> <td>    8.599</td> <td> 0.000</td> <td> 4007.482</td> <td> 6373.532</td>\n",
       "</tr>\n",
       "<tr>\n",
       "  <th>ar.L1.market_value</th> <td>    0.9830</td> <td>    0.013</td> <td>   73.341</td> <td> 0.000</td> <td>    0.957</td> <td>    1.009</td>\n",
       "</tr>\n",
       "<tr>\n",
       "  <th>ar.L2.market_value</th> <td>   -0.0295</td> <td>    0.019</td> <td>   -1.567</td> <td> 0.117</td> <td>   -0.066</td> <td>    0.007</td>\n",
       "</tr>\n",
       "<tr>\n",
       "  <th>ar.L3.market_value</th> <td>    0.0454</td> <td>    0.013</td> <td>    3.376</td> <td> 0.001</td> <td>    0.019</td> <td>    0.072</td>\n",
       "</tr>\n",
       "</table>\n",
       "<table class=\"simpletable\">\n",
       "<caption>Roots</caption>\n",
       "<tr>\n",
       "    <td></td>   <th>            Real</th>  <th>         Imaginary</th> <th>         Modulus</th>  <th>        Frequency</th>\n",
       "</tr>\n",
       "<tr>\n",
       "  <th>AR.1</th> <td>           1.0011</td> <td>          -0.0000j</td> <td>           1.0011</td> <td>          -0.0000</td>\n",
       "</tr>\n",
       "<tr>\n",
       "  <th>AR.2</th> <td>          -0.1754</td> <td>          -4.6900j</td> <td>           4.6932</td> <td>          -0.2559</td>\n",
       "</tr>\n",
       "<tr>\n",
       "  <th>AR.3</th> <td>          -0.1754</td> <td>          +4.6900j</td> <td>           4.6932</td> <td>           0.2559</td>\n",
       "</tr>\n",
       "</table>"
      ],
      "text/plain": [
       "<class 'statsmodels.iolib.summary.Summary'>\n",
       "\"\"\"\n",
       "                              ARMA Model Results                              \n",
       "==============================================================================\n",
       "Dep. Variable:           market_value   No. Observations:                 5534\n",
       "Model:                     ARMA(3, 0)   Log Likelihood              -30358.874\n",
       "Method:                       css-mle   S.D. of innovations             58.346\n",
       "Date:                Thu, 16 Jul 2020   AIC                          60727.748\n",
       "Time:                        01:27:44   BIC                          60760.841\n",
       "Sample:                    01-10-1994   HQIC                         60739.287\n",
       "                         - 03-26-2015                                         \n",
       "======================================================================================\n",
       "                         coef    std err          z      P>|z|      [0.025      0.975]\n",
       "--------------------------------------------------------------------------------------\n",
       "const               5190.5073    603.595      8.599      0.000    4007.482    6373.532\n",
       "ar.L1.market_value     0.9830      0.013     73.341      0.000       0.957       1.009\n",
       "ar.L2.market_value    -0.0295      0.019     -1.567      0.117      -0.066       0.007\n",
       "ar.L3.market_value     0.0454      0.013      3.376      0.001       0.019       0.072\n",
       "                                    Roots                                    \n",
       "=============================================================================\n",
       "                  Real          Imaginary           Modulus         Frequency\n",
       "-----------------------------------------------------------------------------\n",
       "AR.1            1.0011           -0.0000j            1.0011           -0.0000\n",
       "AR.2           -0.1754           -4.6900j            4.6932           -0.2559\n",
       "AR.3           -0.1754           +4.6900j            4.6932            0.2559\n",
       "-----------------------------------------------------------------------------\n",
       "\"\"\""
      ]
     },
     "execution_count": 35,
     "metadata": {},
     "output_type": "execute_result"
    }
   ],
   "source": [
    "model_ret_ar_3 = sta.ARMA(df.market_value, order = (3, 0))\n",
    "result_ret_ar_3 = model_ret_ar_3.fit()\n",
    "result_ret_ar_3.summary()"
   ]
  },
  {
   "cell_type": "code",
   "execution_count": 36,
   "metadata": {},
   "outputs": [
    {
     "data": {
      "text/plain": [
       "0.001"
      ]
     },
     "execution_count": 36,
     "metadata": {},
     "output_type": "execute_result"
    }
   ],
   "source": [
    "LLR_test(model_ret_ar_2, model_ret_ar_3)"
   ]
  },
  {
   "cell_type": "code",
   "execution_count": 37,
   "metadata": {},
   "outputs": [
    {
     "data": {
      "text/html": [
       "<table class=\"simpletable\">\n",
       "<caption>ARMA Model Results</caption>\n",
       "<tr>\n",
       "  <th>Dep. Variable:</th>   <td>market_value</td>   <th>  No. Observations:  </th>    <td>5534</td>   \n",
       "</tr>\n",
       "<tr>\n",
       "  <th>Model:</th>            <td>ARMA(4, 0)</td>    <th>  Log Likelihood     </th> <td>-30348.050</td>\n",
       "</tr>\n",
       "<tr>\n",
       "  <th>Method:</th>             <td>css-mle</td>     <th>  S.D. of innovations</th>   <td>58.232</td>  \n",
       "</tr>\n",
       "<tr>\n",
       "  <th>Date:</th>          <td>Thu, 16 Jul 2020</td> <th>  AIC                </th>  <td>60708.100</td>\n",
       "</tr>\n",
       "<tr>\n",
       "  <th>Time:</th>              <td>01:27:49</td>     <th>  BIC                </th>  <td>60747.812</td>\n",
       "</tr>\n",
       "<tr>\n",
       "  <th>Sample:</th>           <td>01-10-1994</td>    <th>  HQIC               </th>  <td>60721.948</td>\n",
       "</tr>\n",
       "<tr>\n",
       "  <th></th>                 <td>- 03-26-2015</td>   <th>                     </th>      <td> </td>    \n",
       "</tr>\n",
       "</table>\n",
       "<table class=\"simpletable\">\n",
       "<tr>\n",
       "           <td></td>             <th>coef</th>     <th>std err</th>      <th>z</th>      <th>P>|z|</th>  <th>[0.025</th>    <th>0.975]</th>  \n",
       "</tr>\n",
       "<tr>\n",
       "  <th>const</th>              <td> 5233.7486</td> <td>  640.668</td> <td>    8.169</td> <td> 0.000</td> <td> 3978.062</td> <td> 6489.435</td>\n",
       "</tr>\n",
       "<tr>\n",
       "  <th>ar.L1.market_value</th> <td>    0.9798</td> <td>    0.013</td> <td>   73.221</td> <td> 0.000</td> <td>    0.954</td> <td>    1.006</td>\n",
       "</tr>\n",
       "<tr>\n",
       "  <th>ar.L2.market_value</th> <td>   -0.0277</td> <td>    0.019</td> <td>   -1.477</td> <td> 0.140</td> <td>   -0.065</td> <td>    0.009</td>\n",
       "</tr>\n",
       "<tr>\n",
       "  <th>ar.L3.market_value</th> <td>   -0.0156</td> <td>    0.019</td> <td>   -0.830</td> <td> 0.407</td> <td>   -0.052</td> <td>    0.021</td>\n",
       "</tr>\n",
       "<tr>\n",
       "  <th>ar.L4.market_value</th> <td>    0.0625</td> <td>    0.013</td> <td>    4.657</td> <td> 0.000</td> <td>    0.036</td> <td>    0.089</td>\n",
       "</tr>\n",
       "</table>\n",
       "<table class=\"simpletable\">\n",
       "<caption>Roots</caption>\n",
       "<tr>\n",
       "    <td></td>   <th>            Real</th>  <th>         Imaginary</th> <th>         Modulus</th>  <th>        Frequency</th>\n",
       "</tr>\n",
       "<tr>\n",
       "  <th>AR.1</th> <td>           1.0009</td> <td>          -0.0000j</td> <td>           1.0009</td> <td>          -0.0000</td>\n",
       "</tr>\n",
       "<tr>\n",
       "  <th>AR.2</th> <td>           0.9999</td> <td>          -2.1932j</td> <td>           2.4104</td> <td>          -0.1819</td>\n",
       "</tr>\n",
       "<tr>\n",
       "  <th>AR.3</th> <td>           0.9999</td> <td>          +2.1932j</td> <td>           2.4104</td> <td>           0.1819</td>\n",
       "</tr>\n",
       "<tr>\n",
       "  <th>AR.4</th> <td>          -2.7512</td> <td>          -0.0000j</td> <td>           2.7512</td> <td>          -0.5000</td>\n",
       "</tr>\n",
       "</table>"
      ],
      "text/plain": [
       "<class 'statsmodels.iolib.summary.Summary'>\n",
       "\"\"\"\n",
       "                              ARMA Model Results                              \n",
       "==============================================================================\n",
       "Dep. Variable:           market_value   No. Observations:                 5534\n",
       "Model:                     ARMA(4, 0)   Log Likelihood              -30348.050\n",
       "Method:                       css-mle   S.D. of innovations             58.232\n",
       "Date:                Thu, 16 Jul 2020   AIC                          60708.100\n",
       "Time:                        01:27:49   BIC                          60747.812\n",
       "Sample:                    01-10-1994   HQIC                         60721.948\n",
       "                         - 03-26-2015                                         \n",
       "======================================================================================\n",
       "                         coef    std err          z      P>|z|      [0.025      0.975]\n",
       "--------------------------------------------------------------------------------------\n",
       "const               5233.7486    640.668      8.169      0.000    3978.062    6489.435\n",
       "ar.L1.market_value     0.9798      0.013     73.221      0.000       0.954       1.006\n",
       "ar.L2.market_value    -0.0277      0.019     -1.477      0.140      -0.065       0.009\n",
       "ar.L3.market_value    -0.0156      0.019     -0.830      0.407      -0.052       0.021\n",
       "ar.L4.market_value     0.0625      0.013      4.657      0.000       0.036       0.089\n",
       "                                    Roots                                    \n",
       "=============================================================================\n",
       "                  Real          Imaginary           Modulus         Frequency\n",
       "-----------------------------------------------------------------------------\n",
       "AR.1            1.0009           -0.0000j            1.0009           -0.0000\n",
       "AR.2            0.9999           -2.1932j            2.4104           -0.1819\n",
       "AR.3            0.9999           +2.1932j            2.4104            0.1819\n",
       "AR.4           -2.7512           -0.0000j            2.7512           -0.5000\n",
       "-----------------------------------------------------------------------------\n",
       "\"\"\""
      ]
     },
     "execution_count": 37,
     "metadata": {},
     "output_type": "execute_result"
    }
   ],
   "source": [
    "model_ret_ar_4 = sta.ARMA(df.market_value, order = (4, 0))\n",
    "result_ret_ar_4 = model_ret_ar_4.fit()\n",
    "result_ret_ar_4.summary()"
   ]
  },
  {
   "cell_type": "code",
   "execution_count": 38,
   "metadata": {},
   "outputs": [
    {
     "data": {
      "text/plain": [
       "0.0"
      ]
     },
     "execution_count": 38,
     "metadata": {},
     "output_type": "execute_result"
    }
   ],
   "source": [
    "LLR_test(model_ret_ar_3, model_ret_ar_4)"
   ]
  },
  {
   "cell_type": "code",
   "execution_count": 39,
   "metadata": {},
   "outputs": [
    {
     "data": {
      "text/html": [
       "<table class=\"simpletable\">\n",
       "<caption>ARMA Model Results</caption>\n",
       "<tr>\n",
       "  <th>Dep. Variable:</th>   <td>market_value</td>   <th>  No. Observations:  </th>    <td>5534</td>   \n",
       "</tr>\n",
       "<tr>\n",
       "  <th>Model:</th>            <td>ARMA(5, 0)</td>    <th>  Log Likelihood     </th> <td>-30346.448</td>\n",
       "</tr>\n",
       "<tr>\n",
       "  <th>Method:</th>             <td>css-mle</td>     <th>  S.D. of innovations</th>   <td>58.215</td>  \n",
       "</tr>\n",
       "<tr>\n",
       "  <th>Date:</th>          <td>Thu, 16 Jul 2020</td> <th>  AIC                </th>  <td>60706.896</td>\n",
       "</tr>\n",
       "<tr>\n",
       "  <th>Time:</th>              <td>01:27:53</td>     <th>  BIC                </th>  <td>60753.226</td>\n",
       "</tr>\n",
       "<tr>\n",
       "  <th>Sample:</th>           <td>01-10-1994</td>    <th>  HQIC               </th>  <td>60723.051</td>\n",
       "</tr>\n",
       "<tr>\n",
       "  <th></th>                 <td>- 03-26-2015</td>   <th>                     </th>      <td> </td>    \n",
       "</tr>\n",
       "</table>\n",
       "<table class=\"simpletable\">\n",
       "<tr>\n",
       "           <td></td>             <th>coef</th>     <th>std err</th>      <th>z</th>      <th>P>|z|</th>  <th>[0.025</th>    <th>0.975]</th>  \n",
       "</tr>\n",
       "<tr>\n",
       "  <th>const</th>              <td> 5233.7484</td> <td>  623.628</td> <td>    8.392</td> <td> 0.000</td> <td> 4011.459</td> <td> 6456.038</td>\n",
       "</tr>\n",
       "<tr>\n",
       "  <th>ar.L1.market_value</th> <td>    0.9813</td> <td>    0.013</td> <td>   73.186</td> <td> 0.000</td> <td>    0.955</td> <td>    1.008</td>\n",
       "</tr>\n",
       "<tr>\n",
       "  <th>ar.L2.market_value</th> <td>   -0.0281</td> <td>    0.019</td> <td>   -1.497</td> <td> 0.134</td> <td>   -0.065</td> <td>    0.009</td>\n",
       "</tr>\n",
       "<tr>\n",
       "  <th>ar.L3.market_value</th> <td>   -0.0163</td> <td>    0.019</td> <td>   -0.865</td> <td> 0.387</td> <td>   -0.053</td> <td>    0.021</td>\n",
       "</tr>\n",
       "<tr>\n",
       "  <th>ar.L4.market_value</th> <td>    0.0861</td> <td>    0.019</td> <td>    4.579</td> <td> 0.000</td> <td>    0.049</td> <td>    0.123</td>\n",
       "</tr>\n",
       "<tr>\n",
       "  <th>ar.L5.market_value</th> <td>   -0.0241</td> <td>    0.013</td> <td>   -1.790</td> <td> 0.073</td> <td>   -0.050</td> <td>    0.002</td>\n",
       "</tr>\n",
       "</table>\n",
       "<table class=\"simpletable\">\n",
       "<caption>Roots</caption>\n",
       "<tr>\n",
       "    <td></td>   <th>            Real</th>  <th>         Imaginary</th> <th>         Modulus</th>  <th>        Frequency</th>\n",
       "</tr>\n",
       "<tr>\n",
       "  <th>AR.1</th> <td>           1.0010</td> <td>          -0.0000j</td> <td>           1.0010</td> <td>          -0.0000</td>\n",
       "</tr>\n",
       "<tr>\n",
       "  <th>AR.2</th> <td>          -2.1754</td> <td>          -0.0000j</td> <td>           2.1754</td> <td>          -0.5000</td>\n",
       "</tr>\n",
       "<tr>\n",
       "  <th>AR.3</th> <td>           0.4514</td> <td>          -2.1806j</td> <td>           2.2268</td> <td>          -0.2175</td>\n",
       "</tr>\n",
       "<tr>\n",
       "  <th>AR.4</th> <td>           0.4514</td> <td>          +2.1806j</td> <td>           2.2268</td> <td>           0.2175</td>\n",
       "</tr>\n",
       "<tr>\n",
       "  <th>AR.5</th> <td>           3.8476</td> <td>          -0.0000j</td> <td>           3.8476</td> <td>          -0.0000</td>\n",
       "</tr>\n",
       "</table>"
      ],
      "text/plain": [
       "<class 'statsmodels.iolib.summary.Summary'>\n",
       "\"\"\"\n",
       "                              ARMA Model Results                              \n",
       "==============================================================================\n",
       "Dep. Variable:           market_value   No. Observations:                 5534\n",
       "Model:                     ARMA(5, 0)   Log Likelihood              -30346.448\n",
       "Method:                       css-mle   S.D. of innovations             58.215\n",
       "Date:                Thu, 16 Jul 2020   AIC                          60706.896\n",
       "Time:                        01:27:53   BIC                          60753.226\n",
       "Sample:                    01-10-1994   HQIC                         60723.051\n",
       "                         - 03-26-2015                                         \n",
       "======================================================================================\n",
       "                         coef    std err          z      P>|z|      [0.025      0.975]\n",
       "--------------------------------------------------------------------------------------\n",
       "const               5233.7484    623.628      8.392      0.000    4011.459    6456.038\n",
       "ar.L1.market_value     0.9813      0.013     73.186      0.000       0.955       1.008\n",
       "ar.L2.market_value    -0.0281      0.019     -1.497      0.134      -0.065       0.009\n",
       "ar.L3.market_value    -0.0163      0.019     -0.865      0.387      -0.053       0.021\n",
       "ar.L4.market_value     0.0861      0.019      4.579      0.000       0.049       0.123\n",
       "ar.L5.market_value    -0.0241      0.013     -1.790      0.073      -0.050       0.002\n",
       "                                    Roots                                    \n",
       "=============================================================================\n",
       "                  Real          Imaginary           Modulus         Frequency\n",
       "-----------------------------------------------------------------------------\n",
       "AR.1            1.0010           -0.0000j            1.0010           -0.0000\n",
       "AR.2           -2.1754           -0.0000j            2.1754           -0.5000\n",
       "AR.3            0.4514           -2.1806j            2.2268           -0.2175\n",
       "AR.4            0.4514           +2.1806j            2.2268            0.2175\n",
       "AR.5            3.8476           -0.0000j            3.8476           -0.0000\n",
       "-----------------------------------------------------------------------------\n",
       "\"\"\""
      ]
     },
     "execution_count": 39,
     "metadata": {},
     "output_type": "execute_result"
    }
   ],
   "source": [
    "model_ret_ar_5 = sta.ARMA(df.market_value, order = (5, 0))\n",
    "result_ret_ar_5 = model_ret_ar_5.fit()\n",
    "result_ret_ar_5.summary()"
   ]
  },
  {
   "cell_type": "code",
   "execution_count": 40,
   "metadata": {},
   "outputs": [
    {
     "data": {
      "text/plain": [
       "0.073"
      ]
     },
     "execution_count": 40,
     "metadata": {},
     "output_type": "execute_result"
    }
   ],
   "source": [
    "LLR_test(model_ret_ar_4, model_ret_ar_5)"
   ]
  },
  {
   "cell_type": "code",
   "execution_count": 41,
   "metadata": {},
   "outputs": [
    {
     "data": {
      "text/html": [
       "<table class=\"simpletable\">\n",
       "<caption>ARMA Model Results</caption>\n",
       "<tr>\n",
       "  <th>Dep. Variable:</th>   <td>market_value</td>   <th>  No. Observations:  </th>    <td>5534</td>   \n",
       "</tr>\n",
       "<tr>\n",
       "  <th>Model:</th>            <td>ARMA(6, 0)</td>    <th>  Log Likelihood     </th> <td>-30342.857</td>\n",
       "</tr>\n",
       "<tr>\n",
       "  <th>Method:</th>             <td>css-mle</td>     <th>  S.D. of innovations</th>   <td>58.178</td>  \n",
       "</tr>\n",
       "<tr>\n",
       "  <th>Date:</th>          <td>Thu, 16 Jul 2020</td> <th>  AIC                </th>  <td>60701.714</td>\n",
       "</tr>\n",
       "<tr>\n",
       "  <th>Time:</th>              <td>01:27:56</td>     <th>  BIC                </th>  <td>60754.664</td>\n",
       "</tr>\n",
       "<tr>\n",
       "  <th>Sample:</th>           <td>01-10-1994</td>    <th>  HQIC               </th>  <td>60720.177</td>\n",
       "</tr>\n",
       "<tr>\n",
       "  <th></th>                 <td>- 03-26-2015</td>   <th>                     </th>      <td> </td>    \n",
       "</tr>\n",
       "</table>\n",
       "<table class=\"simpletable\">\n",
       "<tr>\n",
       "           <td></td>             <th>coef</th>     <th>std err</th>      <th>z</th>      <th>P>|z|</th>  <th>[0.025</th>    <th>0.975]</th>  \n",
       "</tr>\n",
       "<tr>\n",
       "  <th>const</th>              <td> 5233.7486</td> <td>  649.114</td> <td>    8.063</td> <td> 0.000</td> <td> 3961.508</td> <td> 6505.989</td>\n",
       "</tr>\n",
       "<tr>\n",
       "  <th>ar.L1.market_value</th> <td>    0.9822</td> <td>    0.013</td> <td>   73.319</td> <td> 0.000</td> <td>    0.956</td> <td>    1.008</td>\n",
       "</tr>\n",
       "<tr>\n",
       "  <th>ar.L2.market_value</th> <td>   -0.0312</td> <td>    0.019</td> <td>   -1.661</td> <td> 0.097</td> <td>   -0.068</td> <td>    0.006</td>\n",
       "</tr>\n",
       "<tr>\n",
       "  <th>ar.L3.market_value</th> <td>   -0.0157</td> <td>    0.019</td> <td>   -0.834</td> <td> 0.404</td> <td>   -0.053</td> <td>    0.021</td>\n",
       "</tr>\n",
       "<tr>\n",
       "  <th>ar.L4.market_value</th> <td>    0.0871</td> <td>    0.019</td> <td>    4.635</td> <td> 0.000</td> <td>    0.050</td> <td>    0.124</td>\n",
       "</tr>\n",
       "<tr>\n",
       "  <th>ar.L5.market_value</th> <td>   -0.0594</td> <td>    0.019</td> <td>   -3.156</td> <td> 0.002</td> <td>   -0.096</td> <td>   -0.023</td>\n",
       "</tr>\n",
       "<tr>\n",
       "  <th>ar.L6.market_value</th> <td>    0.0360</td> <td>    0.013</td> <td>    2.681</td> <td> 0.007</td> <td>    0.010</td> <td>    0.062</td>\n",
       "</tr>\n",
       "</table>\n",
       "<table class=\"simpletable\">\n",
       "<caption>Roots</caption>\n",
       "<tr>\n",
       "    <td></td>   <th>            Real</th>  <th>         Imaginary</th> <th>         Modulus</th>  <th>        Frequency</th>\n",
       "</tr>\n",
       "<tr>\n",
       "  <th>AR.1</th> <td>           1.0009</td> <td>          -0.0000j</td> <td>           1.0009</td> <td>          -0.0000</td>\n",
       "</tr>\n",
       "<tr>\n",
       "  <th>AR.2</th> <td>          -1.7365</td> <td>          -0.0000j</td> <td>           1.7365</td> <td>          -0.5000</td>\n",
       "</tr>\n",
       "<tr>\n",
       "  <th>AR.3</th> <td>          -0.3409</td> <td>          -1.9289j</td> <td>           1.9588</td> <td>          -0.2778</td>\n",
       "</tr>\n",
       "<tr>\n",
       "  <th>AR.4</th> <td>          -0.3409</td> <td>          +1.9289j</td> <td>           1.9588</td> <td>           0.2778</td>\n",
       "</tr>\n",
       "<tr>\n",
       "  <th>AR.5</th> <td>           1.5330</td> <td>          -1.3462j</td> <td>           2.0402</td> <td>          -0.1147</td>\n",
       "</tr>\n",
       "<tr>\n",
       "  <th>AR.6</th> <td>           1.5330</td> <td>          +1.3462j</td> <td>           2.0402</td> <td>           0.1147</td>\n",
       "</tr>\n",
       "</table>"
      ],
      "text/plain": [
       "<class 'statsmodels.iolib.summary.Summary'>\n",
       "\"\"\"\n",
       "                              ARMA Model Results                              \n",
       "==============================================================================\n",
       "Dep. Variable:           market_value   No. Observations:                 5534\n",
       "Model:                     ARMA(6, 0)   Log Likelihood              -30342.857\n",
       "Method:                       css-mle   S.D. of innovations             58.178\n",
       "Date:                Thu, 16 Jul 2020   AIC                          60701.714\n",
       "Time:                        01:27:56   BIC                          60754.664\n",
       "Sample:                    01-10-1994   HQIC                         60720.177\n",
       "                         - 03-26-2015                                         \n",
       "======================================================================================\n",
       "                         coef    std err          z      P>|z|      [0.025      0.975]\n",
       "--------------------------------------------------------------------------------------\n",
       "const               5233.7486    649.114      8.063      0.000    3961.508    6505.989\n",
       "ar.L1.market_value     0.9822      0.013     73.319      0.000       0.956       1.008\n",
       "ar.L2.market_value    -0.0312      0.019     -1.661      0.097      -0.068       0.006\n",
       "ar.L3.market_value    -0.0157      0.019     -0.834      0.404      -0.053       0.021\n",
       "ar.L4.market_value     0.0871      0.019      4.635      0.000       0.050       0.124\n",
       "ar.L5.market_value    -0.0594      0.019     -3.156      0.002      -0.096      -0.023\n",
       "ar.L6.market_value     0.0360      0.013      2.681      0.007       0.010       0.062\n",
       "                                    Roots                                    \n",
       "=============================================================================\n",
       "                  Real          Imaginary           Modulus         Frequency\n",
       "-----------------------------------------------------------------------------\n",
       "AR.1            1.0009           -0.0000j            1.0009           -0.0000\n",
       "AR.2           -1.7365           -0.0000j            1.7365           -0.5000\n",
       "AR.3           -0.3409           -1.9289j            1.9588           -0.2778\n",
       "AR.4           -0.3409           +1.9289j            1.9588            0.2778\n",
       "AR.5            1.5330           -1.3462j            2.0402           -0.1147\n",
       "AR.6            1.5330           +1.3462j            2.0402            0.1147\n",
       "-----------------------------------------------------------------------------\n",
       "\"\"\""
      ]
     },
     "execution_count": 41,
     "metadata": {},
     "output_type": "execute_result"
    }
   ],
   "source": [
    "model_ret_ar_6 = sta.ARMA(df.market_value, order = (6, 0))\n",
    "result_ret_ar_6 = model_ret_ar_6.fit()\n",
    "result_ret_ar_6.summary()"
   ]
  },
  {
   "cell_type": "code",
   "execution_count": 42,
   "metadata": {},
   "outputs": [
    {
     "data": {
      "text/plain": [
       "0.007"
      ]
     },
     "execution_count": 42,
     "metadata": {},
     "output_type": "execute_result"
    }
   ],
   "source": [
    "LLR_test(model_ret_ar_5, model_ret_ar_6)"
   ]
  },
  {
   "cell_type": "code",
   "execution_count": 43,
   "metadata": {},
   "outputs": [
    {
     "data": {
      "text/html": [
       "<table class=\"simpletable\">\n",
       "<caption>ARMA Model Results</caption>\n",
       "<tr>\n",
       "  <th>Dep. Variable:</th>   <td>market_value</td>   <th>  No. Observations:  </th>    <td>5534</td>   \n",
       "</tr>\n",
       "<tr>\n",
       "  <th>Model:</th>            <td>ARMA(7, 0)</td>    <th>  Log Likelihood     </th> <td>-30339.163</td>\n",
       "</tr>\n",
       "<tr>\n",
       "  <th>Method:</th>             <td>css-mle</td>     <th>  S.D. of innovations</th>   <td>58.139</td>  \n",
       "</tr>\n",
       "<tr>\n",
       "  <th>Date:</th>          <td>Thu, 16 Jul 2020</td> <th>  AIC                </th>  <td>60696.327</td>\n",
       "</tr>\n",
       "<tr>\n",
       "  <th>Time:</th>              <td>01:28:00</td>     <th>  BIC                </th>  <td>60755.895</td>\n",
       "</tr>\n",
       "<tr>\n",
       "  <th>Sample:</th>           <td>01-10-1994</td>    <th>  HQIC               </th>  <td>60717.098</td>\n",
       "</tr>\n",
       "<tr>\n",
       "  <th></th>                 <td>- 03-26-2015</td>   <th>                     </th>      <td> </td>    \n",
       "</tr>\n",
       "</table>\n",
       "<table class=\"simpletable\">\n",
       "<tr>\n",
       "           <td></td>             <th>coef</th>     <th>std err</th>      <th>z</th>      <th>P>|z|</th>  <th>[0.025</th>    <th>0.975]</th>  \n",
       "</tr>\n",
       "<tr>\n",
       "  <th>const</th>              <td> 5233.7486</td> <td>  675.716</td> <td>    7.745</td> <td> 0.000</td> <td> 3909.370</td> <td> 6558.127</td>\n",
       "</tr>\n",
       "<tr>\n",
       "  <th>ar.L1.market_value</th> <td>    0.9809</td> <td>    0.013</td> <td>   73.273</td> <td> 0.000</td> <td>    0.955</td> <td>    1.007</td>\n",
       "</tr>\n",
       "<tr>\n",
       "  <th>ar.L2.market_value</th> <td>   -0.0290</td> <td>    0.019</td> <td>   -1.545</td> <td> 0.122</td> <td>   -0.066</td> <td>    0.008</td>\n",
       "</tr>\n",
       "<tr>\n",
       "  <th>ar.L3.market_value</th> <td>   -0.0189</td> <td>    0.019</td> <td>   -1.003</td> <td> 0.316</td> <td>   -0.056</td> <td>    0.018</td>\n",
       "</tr>\n",
       "<tr>\n",
       "  <th>ar.L4.market_value</th> <td>    0.0876</td> <td>    0.019</td> <td>    4.668</td> <td> 0.000</td> <td>    0.051</td> <td>    0.124</td>\n",
       "</tr>\n",
       "<tr>\n",
       "  <th>ar.L5.market_value</th> <td>   -0.0583</td> <td>    0.019</td> <td>   -3.097</td> <td> 0.002</td> <td>   -0.095</td> <td>   -0.021</td>\n",
       "</tr>\n",
       "<tr>\n",
       "  <th>ar.L6.market_value</th> <td>    0.0002</td> <td>    0.019</td> <td>    0.009</td> <td> 0.993</td> <td>   -0.037</td> <td>    0.037</td>\n",
       "</tr>\n",
       "<tr>\n",
       "  <th>ar.L7.market_value</th> <td>    0.0365</td> <td>    0.013</td> <td>    2.719</td> <td> 0.007</td> <td>    0.010</td> <td>    0.063</td>\n",
       "</tr>\n",
       "</table>\n",
       "<table class=\"simpletable\">\n",
       "<caption>Roots</caption>\n",
       "<tr>\n",
       "    <td></td>   <th>            Real</th>  <th>         Imaginary</th> <th>         Modulus</th>  <th>        Frequency</th>\n",
       "</tr>\n",
       "<tr>\n",
       "  <th>AR.1</th> <td>           1.0008</td> <td>          -0.0000j</td> <td>           1.0008</td> <td>          -0.0000</td>\n",
       "</tr>\n",
       "<tr>\n",
       "  <th>AR.2</th> <td>           1.3593</td> <td>          -0.9476j</td> <td>           1.6570</td> <td>          -0.0969</td>\n",
       "</tr>\n",
       "<tr>\n",
       "  <th>AR.3</th> <td>           1.3593</td> <td>          +0.9476j</td> <td>           1.6570</td> <td>           0.0969</td>\n",
       "</tr>\n",
       "<tr>\n",
       "  <th>AR.4</th> <td>          -0.0537</td> <td>          -1.6321j</td> <td>           1.6330</td> <td>          -0.2552</td>\n",
       "</tr>\n",
       "<tr>\n",
       "  <th>AR.5</th> <td>          -0.0537</td> <td>          +1.6321j</td> <td>           1.6330</td> <td>           0.2552</td>\n",
       "</tr>\n",
       "<tr>\n",
       "  <th>AR.6</th> <td>          -1.8084</td> <td>          -0.6821j</td> <td>           1.9327</td> <td>          -0.4426</td>\n",
       "</tr>\n",
       "<tr>\n",
       "  <th>AR.7</th> <td>          -1.8084</td> <td>          +0.6821j</td> <td>           1.9327</td> <td>           0.4426</td>\n",
       "</tr>\n",
       "</table>"
      ],
      "text/plain": [
       "<class 'statsmodels.iolib.summary.Summary'>\n",
       "\"\"\"\n",
       "                              ARMA Model Results                              \n",
       "==============================================================================\n",
       "Dep. Variable:           market_value   No. Observations:                 5534\n",
       "Model:                     ARMA(7, 0)   Log Likelihood              -30339.163\n",
       "Method:                       css-mle   S.D. of innovations             58.139\n",
       "Date:                Thu, 16 Jul 2020   AIC                          60696.327\n",
       "Time:                        01:28:00   BIC                          60755.895\n",
       "Sample:                    01-10-1994   HQIC                         60717.098\n",
       "                         - 03-26-2015                                         \n",
       "======================================================================================\n",
       "                         coef    std err          z      P>|z|      [0.025      0.975]\n",
       "--------------------------------------------------------------------------------------\n",
       "const               5233.7486    675.716      7.745      0.000    3909.370    6558.127\n",
       "ar.L1.market_value     0.9809      0.013     73.273      0.000       0.955       1.007\n",
       "ar.L2.market_value    -0.0290      0.019     -1.545      0.122      -0.066       0.008\n",
       "ar.L3.market_value    -0.0189      0.019     -1.003      0.316      -0.056       0.018\n",
       "ar.L4.market_value     0.0876      0.019      4.668      0.000       0.051       0.124\n",
       "ar.L5.market_value    -0.0583      0.019     -3.097      0.002      -0.095      -0.021\n",
       "ar.L6.market_value     0.0002      0.019      0.009      0.993      -0.037       0.037\n",
       "ar.L7.market_value     0.0365      0.013      2.719      0.007       0.010       0.063\n",
       "                                    Roots                                    \n",
       "=============================================================================\n",
       "                  Real          Imaginary           Modulus         Frequency\n",
       "-----------------------------------------------------------------------------\n",
       "AR.1            1.0008           -0.0000j            1.0008           -0.0000\n",
       "AR.2            1.3593           -0.9476j            1.6570           -0.0969\n",
       "AR.3            1.3593           +0.9476j            1.6570            0.0969\n",
       "AR.4           -0.0537           -1.6321j            1.6330           -0.2552\n",
       "AR.5           -0.0537           +1.6321j            1.6330            0.2552\n",
       "AR.6           -1.8084           -0.6821j            1.9327           -0.4426\n",
       "AR.7           -1.8084           +0.6821j            1.9327            0.4426\n",
       "-----------------------------------------------------------------------------\n",
       "\"\"\""
      ]
     },
     "execution_count": 43,
     "metadata": {},
     "output_type": "execute_result"
    }
   ],
   "source": [
    "model_ret_ar_7 = sta.ARMA(df.market_value, order = (7, 0))\n",
    "result_ret_ar_7 = model_ret_ar_7.fit()\n",
    "result_ret_ar_7.summary()"
   ]
  },
  {
   "cell_type": "code",
   "execution_count": 44,
   "metadata": {},
   "outputs": [
    {
     "data": {
      "text/plain": [
       "0.007"
      ]
     },
     "execution_count": 44,
     "metadata": {},
     "output_type": "execute_result"
    }
   ],
   "source": [
    "LLR_test(model_ret_ar_6, model_ret_ar_7)"
   ]
  },
  {
   "cell_type": "code",
   "execution_count": 45,
   "metadata": {},
   "outputs": [
    {
     "data": {
      "text/html": [
       "<table class=\"simpletable\">\n",
       "<caption>ARMA Model Results</caption>\n",
       "<tr>\n",
       "  <th>Dep. Variable:</th>   <td>market_value</td>   <th>  No. Observations:  </th>    <td>5534</td>   \n",
       "</tr>\n",
       "<tr>\n",
       "  <th>Model:</th>            <td>ARMA(8, 0)</td>    <th>  Log Likelihood     </th> <td>-30338.915</td>\n",
       "</tr>\n",
       "<tr>\n",
       "  <th>Method:</th>             <td>css-mle</td>     <th>  S.D. of innovations</th>   <td>58.136</td>  \n",
       "</tr>\n",
       "<tr>\n",
       "  <th>Date:</th>          <td>Thu, 16 Jul 2020</td> <th>  AIC                </th>  <td>60697.830</td>\n",
       "</tr>\n",
       "<tr>\n",
       "  <th>Time:</th>              <td>01:28:06</td>     <th>  BIC                </th>  <td>60764.017</td>\n",
       "</tr>\n",
       "<tr>\n",
       "  <th>Sample:</th>           <td>01-10-1994</td>    <th>  HQIC               </th>  <td>60720.909</td>\n",
       "</tr>\n",
       "<tr>\n",
       "  <th></th>                 <td>- 03-26-2015</td>   <th>                     </th>      <td> </td>    \n",
       "</tr>\n",
       "</table>\n",
       "<table class=\"simpletable\">\n",
       "<tr>\n",
       "           <td></td>             <th>coef</th>     <th>std err</th>      <th>z</th>      <th>P>|z|</th>  <th>[0.025</th>    <th>0.975]</th>  \n",
       "</tr>\n",
       "<tr>\n",
       "  <th>const</th>              <td> 5233.7486</td> <td>  668.905</td> <td>    7.824</td> <td> 0.000</td> <td> 3922.718</td> <td> 6544.779</td>\n",
       "</tr>\n",
       "<tr>\n",
       "  <th>ar.L1.market_value</th> <td>    0.9812</td> <td>    0.013</td> <td>   73.241</td> <td> 0.000</td> <td>    0.955</td> <td>    1.007</td>\n",
       "</tr>\n",
       "<tr>\n",
       "  <th>ar.L2.market_value</th> <td>   -0.0290</td> <td>    0.019</td> <td>   -1.545</td> <td> 0.122</td> <td>   -0.066</td> <td>    0.008</td>\n",
       "</tr>\n",
       "<tr>\n",
       "  <th>ar.L3.market_value</th> <td>   -0.0194</td> <td>    0.019</td> <td>   -1.031</td> <td> 0.302</td> <td>   -0.056</td> <td>    0.017</td>\n",
       "</tr>\n",
       "<tr>\n",
       "  <th>ar.L4.market_value</th> <td>    0.0885</td> <td>    0.019</td> <td>    4.703</td> <td> 0.000</td> <td>    0.052</td> <td>    0.125</td>\n",
       "</tr>\n",
       "<tr>\n",
       "  <th>ar.L5.market_value</th> <td>   -0.0584</td> <td>    0.019</td> <td>   -3.107</td> <td> 0.002</td> <td>   -0.095</td> <td>   -0.022</td>\n",
       "</tr>\n",
       "<tr>\n",
       "  <th>ar.L6.market_value</th> <td>   -0.0001</td> <td>    0.019</td> <td>   -0.005</td> <td> 0.996</td> <td>   -0.037</td> <td>    0.037</td>\n",
       "</tr>\n",
       "<tr>\n",
       "  <th>ar.L7.market_value</th> <td>    0.0458</td> <td>    0.019</td> <td>    2.435</td> <td> 0.015</td> <td>    0.009</td> <td>    0.083</td>\n",
       "</tr>\n",
       "<tr>\n",
       "  <th>ar.L8.market_value</th> <td>   -0.0095</td> <td>    0.013</td> <td>   -0.705</td> <td> 0.481</td> <td>   -0.036</td> <td>    0.017</td>\n",
       "</tr>\n",
       "</table>\n",
       "<table class=\"simpletable\">\n",
       "<caption>Roots</caption>\n",
       "<tr>\n",
       "    <td></td>   <th>            Real</th>  <th>         Imaginary</th> <th>         Modulus</th>  <th>        Frequency</th>\n",
       "</tr>\n",
       "<tr>\n",
       "  <th>AR.1</th> <td>           1.0008</td> <td>          -0.0000j</td> <td>           1.0008</td> <td>          -0.0000</td>\n",
       "</tr>\n",
       "<tr>\n",
       "  <th>AR.2</th> <td>          -1.6253</td> <td>          -0.6514j</td> <td>           1.7509</td> <td>          -0.4393</td>\n",
       "</tr>\n",
       "<tr>\n",
       "  <th>AR.3</th> <td>          -1.6253</td> <td>          +0.6514j</td> <td>           1.7509</td> <td>           0.4393</td>\n",
       "</tr>\n",
       "<tr>\n",
       "  <th>AR.4</th> <td>          -0.1223</td> <td>          -1.5904j</td> <td>           1.5951</td> <td>          -0.2622</td>\n",
       "</tr>\n",
       "<tr>\n",
       "  <th>AR.5</th> <td>          -0.1223</td> <td>          +1.5904j</td> <td>           1.5951</td> <td>           0.2622</td>\n",
       "</tr>\n",
       "<tr>\n",
       "  <th>AR.6</th> <td>           1.3437</td> <td>          -1.0517j</td> <td>           1.7063</td> <td>          -0.1057</td>\n",
       "</tr>\n",
       "<tr>\n",
       "  <th>AR.7</th> <td>           1.3437</td> <td>          +1.0517j</td> <td>           1.7063</td> <td>           0.1057</td>\n",
       "</tr>\n",
       "<tr>\n",
       "  <th>AR.8</th> <td>           4.6410</td> <td>          -0.0000j</td> <td>           4.6410</td> <td>          -0.0000</td>\n",
       "</tr>\n",
       "</table>"
      ],
      "text/plain": [
       "<class 'statsmodels.iolib.summary.Summary'>\n",
       "\"\"\"\n",
       "                              ARMA Model Results                              \n",
       "==============================================================================\n",
       "Dep. Variable:           market_value   No. Observations:                 5534\n",
       "Model:                     ARMA(8, 0)   Log Likelihood              -30338.915\n",
       "Method:                       css-mle   S.D. of innovations             58.136\n",
       "Date:                Thu, 16 Jul 2020   AIC                          60697.830\n",
       "Time:                        01:28:06   BIC                          60764.017\n",
       "Sample:                    01-10-1994   HQIC                         60720.909\n",
       "                         - 03-26-2015                                         \n",
       "======================================================================================\n",
       "                         coef    std err          z      P>|z|      [0.025      0.975]\n",
       "--------------------------------------------------------------------------------------\n",
       "const               5233.7486    668.905      7.824      0.000    3922.718    6544.779\n",
       "ar.L1.market_value     0.9812      0.013     73.241      0.000       0.955       1.007\n",
       "ar.L2.market_value    -0.0290      0.019     -1.545      0.122      -0.066       0.008\n",
       "ar.L3.market_value    -0.0194      0.019     -1.031      0.302      -0.056       0.017\n",
       "ar.L4.market_value     0.0885      0.019      4.703      0.000       0.052       0.125\n",
       "ar.L5.market_value    -0.0584      0.019     -3.107      0.002      -0.095      -0.022\n",
       "ar.L6.market_value    -0.0001      0.019     -0.005      0.996      -0.037       0.037\n",
       "ar.L7.market_value     0.0458      0.019      2.435      0.015       0.009       0.083\n",
       "ar.L8.market_value    -0.0095      0.013     -0.705      0.481      -0.036       0.017\n",
       "                                    Roots                                    \n",
       "=============================================================================\n",
       "                  Real          Imaginary           Modulus         Frequency\n",
       "-----------------------------------------------------------------------------\n",
       "AR.1            1.0008           -0.0000j            1.0008           -0.0000\n",
       "AR.2           -1.6253           -0.6514j            1.7509           -0.4393\n",
       "AR.3           -1.6253           +0.6514j            1.7509            0.4393\n",
       "AR.4           -0.1223           -1.5904j            1.5951           -0.2622\n",
       "AR.5           -0.1223           +1.5904j            1.5951            0.2622\n",
       "AR.6            1.3437           -1.0517j            1.7063           -0.1057\n",
       "AR.7            1.3437           +1.0517j            1.7063            0.1057\n",
       "AR.8            4.6410           -0.0000j            4.6410           -0.0000\n",
       "-----------------------------------------------------------------------------\n",
       "\"\"\""
      ]
     },
     "execution_count": 45,
     "metadata": {},
     "output_type": "execute_result"
    }
   ],
   "source": [
    "model_ret_ar_8 = sta.ARMA(df.market_value, order = (8, 0))\n",
    "result_ret_ar_8 = model_ret_ar_8.fit()\n",
    "result_ret_ar_8.summary()"
   ]
  },
  {
   "cell_type": "code",
   "execution_count": 46,
   "metadata": {},
   "outputs": [
    {
     "data": {
      "text/plain": [
       "0.481"
      ]
     },
     "execution_count": 46,
     "metadata": {},
     "output_type": "execute_result"
    }
   ],
   "source": [
    "LLR_test(model_ret_ar_7, model_ret_ar_8)"
   ]
  },
  {
   "cell_type": "markdown",
   "metadata": {},
   "source": [
    "AR(7) is better to be chosen as AR(8) fails the LLR test. Also notice that the Roots Frequency for AR(1) and AR(8) is zero which signifies that they fail to be good models."
   ]
  },
  {
   "cell_type": "markdown",
   "metadata": {},
   "source": [
    "## Normalizing Prices and Returns\n",
    "\n",
    "We prefered to go ahead with returns and not prices because prices were non-stationary in nature. Normalization means we convert every value of the series with the percentage of the first value.\n",
    "\n",
    "        X(t) ---> % of X(1)\n",
    "        Y(t) ---> % of Y(1)\n",
    "        \n",
    "Also the percentage increase is a good measure when the numeric values of the stock exchange represents different measures in terms of cost."
   ]
  },
  {
   "cell_type": "code",
   "execution_count": 47,
   "metadata": {},
   "outputs": [],
   "source": [
    "benchmark = df.market_value.iloc[0]"
   ]
  },
  {
   "cell_type": "code",
   "execution_count": 48,
   "metadata": {},
   "outputs": [],
   "source": [
    "df['norm_mv'] = df.market_value.div(benchmark).mul(100)"
   ]
  },
  {
   "cell_type": "code",
   "execution_count": 49,
   "metadata": {},
   "outputs": [
    {
     "data": {
      "text/plain": [
       "(-1.7650698588623572,\n",
       " 0.3979361771180333,\n",
       " 6,\n",
       " 5527,\n",
       " {'1%': -3.4315337053900734,\n",
       "  '5%': -2.8620630807614025,\n",
       "  '10%': -2.567048434635845},\n",
       " 21416.68552177809)"
      ]
     },
     "execution_count": 49,
     "metadata": {},
     "output_type": "execute_result"
    }
   ],
   "source": [
    "sts.adfuller(df.norm_mv)"
   ]
  },
  {
   "cell_type": "markdown",
   "metadata": {},
   "source": [
    "We can see that the data above is non stationary. Its value is higher than the 1%."
   ]
  },
  {
   "cell_type": "code",
   "execution_count": 50,
   "metadata": {},
   "outputs": [],
   "source": [
    "bench_ret = df.returns.iloc[0]"
   ]
  },
  {
   "cell_type": "code",
   "execution_count": 51,
   "metadata": {},
   "outputs": [],
   "source": [
    "df['norm_ret'] = df.returns.div(benchmark).mul(100)"
   ]
  },
  {
   "cell_type": "code",
   "execution_count": 52,
   "metadata": {},
   "outputs": [
    {
     "data": {
      "text/plain": [
       "(-14.14063878950347,\n",
       " 2.2492965245029e-26,\n",
       " 33,\n",
       " 5500,\n",
       " {'1%': -3.4315395190228877,\n",
       "  '5%': -2.8620656492985126,\n",
       "  '10%': -2.567049801950413},\n",
       " 16996.311696620545)"
      ]
     },
     "execution_count": 52,
     "metadata": {},
     "output_type": "execute_result"
    }
   ],
   "source": [
    "sts.adfuller(df.returns)"
   ]
  },
  {
   "cell_type": "markdown",
   "metadata": {},
   "source": [
    "We can see that the data above is stationary. Its value is lower than the 1%."
   ]
  },
  {
   "cell_type": "markdown",
   "metadata": {},
   "source": [
    "## Model selection for Normalized Returns"
   ]
  },
  {
   "cell_type": "code",
   "execution_count": 55,
   "metadata": {},
   "outputs": [
    {
     "data": {
      "text/html": [
       "<table class=\"simpletable\">\n",
       "<caption>ARMA Model Results</caption>\n",
       "<tr>\n",
       "  <th>Dep. Variable:</th>     <td>norm_ret</td>     <th>  No. Observations:  </th>    <td>5534</td>   \n",
       "</tr>\n",
       "<tr>\n",
       "  <th>Model:</th>            <td>ARMA(1, 0)</td>    <th>  Log Likelihood     </th>  <td>10994.057</td>\n",
       "</tr>\n",
       "<tr>\n",
       "  <th>Method:</th>             <td>css-mle</td>     <th>  S.D. of innovations</th>    <td>0.033</td>  \n",
       "</tr>\n",
       "<tr>\n",
       "  <th>Date:</th>          <td>Thu, 16 Jul 2020</td> <th>  AIC                </th> <td>-21982.113</td>\n",
       "</tr>\n",
       "<tr>\n",
       "  <th>Time:</th>              <td>01:35:24</td>     <th>  BIC                </th> <td>-21962.257</td>\n",
       "</tr>\n",
       "<tr>\n",
       "  <th>Sample:</th>           <td>01-10-1994</td>    <th>  HQIC               </th> <td>-21975.190</td>\n",
       "</tr>\n",
       "<tr>\n",
       "  <th></th>                 <td>- 03-26-2015</td>   <th>                     </th>      <td> </td>    \n",
       "</tr>\n",
       "</table>\n",
       "<table class=\"simpletable\">\n",
       "<tr>\n",
       "         <td></td>           <th>coef</th>     <th>std err</th>      <th>z</th>      <th>P>|z|</th>  <th>[0.025</th>    <th>0.975]</th>  \n",
       "</tr>\n",
       "<tr>\n",
       "  <th>const</th>          <td>    0.0006</td> <td>    0.000</td> <td>    1.270</td> <td> 0.204</td> <td>   -0.000</td> <td>    0.001</td>\n",
       "</tr>\n",
       "<tr>\n",
       "  <th>ar.L1.norm_ret</th> <td>   -0.0221</td> <td>    0.013</td> <td>   -1.642</td> <td> 0.101</td> <td>   -0.048</td> <td>    0.004</td>\n",
       "</tr>\n",
       "</table>\n",
       "<table class=\"simpletable\">\n",
       "<caption>Roots</caption>\n",
       "<tr>\n",
       "    <td></td>   <th>            Real</th>  <th>         Imaginary</th> <th>         Modulus</th>  <th>        Frequency</th>\n",
       "</tr>\n",
       "<tr>\n",
       "  <th>AR.1</th> <td>         -45.3044</td> <td>          +0.0000j</td> <td>          45.3044</td> <td>           0.5000</td>\n",
       "</tr>\n",
       "</table>"
      ],
      "text/plain": [
       "<class 'statsmodels.iolib.summary.Summary'>\n",
       "\"\"\"\n",
       "                              ARMA Model Results                              \n",
       "==============================================================================\n",
       "Dep. Variable:               norm_ret   No. Observations:                 5534\n",
       "Model:                     ARMA(1, 0)   Log Likelihood               10994.057\n",
       "Method:                       css-mle   S.D. of innovations              0.033\n",
       "Date:                Thu, 16 Jul 2020   AIC                         -21982.113\n",
       "Time:                        01:35:24   BIC                         -21962.257\n",
       "Sample:                    01-10-1994   HQIC                        -21975.190\n",
       "                         - 03-26-2015                                         \n",
       "==================================================================================\n",
       "                     coef    std err          z      P>|z|      [0.025      0.975]\n",
       "----------------------------------------------------------------------------------\n",
       "const              0.0006      0.000      1.270      0.204      -0.000       0.001\n",
       "ar.L1.norm_ret    -0.0221      0.013     -1.642      0.101      -0.048       0.004\n",
       "                                    Roots                                    \n",
       "=============================================================================\n",
       "                  Real          Imaginary           Modulus         Frequency\n",
       "-----------------------------------------------------------------------------\n",
       "AR.1          -45.3044           +0.0000j           45.3044            0.5000\n",
       "-----------------------------------------------------------------------------\n",
       "\"\"\""
      ]
     },
     "execution_count": 55,
     "metadata": {},
     "output_type": "execute_result"
    }
   ],
   "source": [
    "model_norm_ret_ar_1 = sta.ARMA(df.norm_ret, order = (1, 0))\n",
    "result_norm_ret_ar_1 = model_norm_ret_ar_1.fit()\n",
    "result_norm_ret_ar_1.summary()"
   ]
  },
  {
   "cell_type": "code",
   "execution_count": 56,
   "metadata": {},
   "outputs": [
    {
     "data": {
      "text/html": [
       "<table class=\"simpletable\">\n",
       "<caption>ARMA Model Results</caption>\n",
       "<tr>\n",
       "  <th>Dep. Variable:</th>     <td>norm_ret</td>     <th>  No. Observations:  </th>    <td>5534</td>   \n",
       "</tr>\n",
       "<tr>\n",
       "  <th>Model:</th>            <td>ARMA(2, 0)</td>    <th>  Log Likelihood     </th>  <td>11000.585</td>\n",
       "</tr>\n",
       "<tr>\n",
       "  <th>Method:</th>             <td>css-mle</td>     <th>  S.D. of innovations</th>    <td>0.033</td>  \n",
       "</tr>\n",
       "<tr>\n",
       "  <th>Date:</th>          <td>Thu, 16 Jul 2020</td> <th>  AIC                </th> <td>-21993.169</td>\n",
       "</tr>\n",
       "<tr>\n",
       "  <th>Time:</th>              <td>01:36:43</td>     <th>  BIC                </th> <td>-21966.695</td>\n",
       "</tr>\n",
       "<tr>\n",
       "  <th>Sample:</th>           <td>01-10-1994</td>    <th>  HQIC               </th> <td>-21983.938</td>\n",
       "</tr>\n",
       "<tr>\n",
       "  <th></th>                 <td>- 03-26-2015</td>   <th>                     </th>      <td> </td>    \n",
       "</tr>\n",
       "</table>\n",
       "<table class=\"simpletable\">\n",
       "<tr>\n",
       "         <td></td>           <th>coef</th>     <th>std err</th>      <th>z</th>      <th>P>|z|</th>  <th>[0.025</th>    <th>0.975]</th>  \n",
       "</tr>\n",
       "<tr>\n",
       "  <th>const</th>          <td>    0.0006</td> <td>    0.000</td> <td>    1.334</td> <td> 0.182</td> <td>   -0.000</td> <td>    0.001</td>\n",
       "</tr>\n",
       "<tr>\n",
       "  <th>ar.L1.norm_ret</th> <td>   -0.0231</td> <td>    0.013</td> <td>   -1.724</td> <td> 0.085</td> <td>   -0.049</td> <td>    0.003</td>\n",
       "</tr>\n",
       "<tr>\n",
       "  <th>ar.L2.norm_ret</th> <td>   -0.0485</td> <td>    0.013</td> <td>   -3.615</td> <td> 0.000</td> <td>   -0.075</td> <td>   -0.022</td>\n",
       "</tr>\n",
       "</table>\n",
       "<table class=\"simpletable\">\n",
       "<caption>Roots</caption>\n",
       "<tr>\n",
       "    <td></td>   <th>            Real</th>  <th>         Imaginary</th> <th>         Modulus</th>  <th>        Frequency</th>\n",
       "</tr>\n",
       "<tr>\n",
       "  <th>AR.1</th> <td>          -0.2384</td> <td>          -4.5324j</td> <td>           4.5387</td> <td>          -0.2584</td>\n",
       "</tr>\n",
       "<tr>\n",
       "  <th>AR.2</th> <td>          -0.2384</td> <td>          +4.5324j</td> <td>           4.5387</td> <td>           0.2584</td>\n",
       "</tr>\n",
       "</table>"
      ],
      "text/plain": [
       "<class 'statsmodels.iolib.summary.Summary'>\n",
       "\"\"\"\n",
       "                              ARMA Model Results                              \n",
       "==============================================================================\n",
       "Dep. Variable:               norm_ret   No. Observations:                 5534\n",
       "Model:                     ARMA(2, 0)   Log Likelihood               11000.585\n",
       "Method:                       css-mle   S.D. of innovations              0.033\n",
       "Date:                Thu, 16 Jul 2020   AIC                         -21993.169\n",
       "Time:                        01:36:43   BIC                         -21966.695\n",
       "Sample:                    01-10-1994   HQIC                        -21983.938\n",
       "                         - 03-26-2015                                         \n",
       "==================================================================================\n",
       "                     coef    std err          z      P>|z|      [0.025      0.975]\n",
       "----------------------------------------------------------------------------------\n",
       "const              0.0006      0.000      1.334      0.182      -0.000       0.001\n",
       "ar.L1.norm_ret    -0.0231      0.013     -1.724      0.085      -0.049       0.003\n",
       "ar.L2.norm_ret    -0.0485      0.013     -3.615      0.000      -0.075      -0.022\n",
       "                                    Roots                                    \n",
       "=============================================================================\n",
       "                  Real          Imaginary           Modulus         Frequency\n",
       "-----------------------------------------------------------------------------\n",
       "AR.1           -0.2384           -4.5324j            4.5387           -0.2584\n",
       "AR.2           -0.2384           +4.5324j            4.5387            0.2584\n",
       "-----------------------------------------------------------------------------\n",
       "\"\"\""
      ]
     },
     "execution_count": 56,
     "metadata": {},
     "output_type": "execute_result"
    }
   ],
   "source": [
    "model_norm_ret_ar_2 = sta.ARMA(df.norm_ret, order = (2, 0))\n",
    "result_norm_ret_ar_2 = model_norm_ret_ar_2.fit()\n",
    "result_norm_ret_ar_2.summary()"
   ]
  },
  {
   "cell_type": "code",
   "execution_count": 66,
   "metadata": {},
   "outputs": [
    {
     "data": {
      "text/plain": [
       "0.0"
      ]
     },
     "execution_count": 66,
     "metadata": {},
     "output_type": "execute_result"
    }
   ],
   "source": [
    "LLR_test(model_norm_ret_ar_1, model_norm_ret_ar_2)"
   ]
  },
  {
   "cell_type": "code",
   "execution_count": 61,
   "metadata": {},
   "outputs": [
    {
     "data": {
      "text/html": [
       "<table class=\"simpletable\">\n",
       "<caption>ARMA Model Results</caption>\n",
       "<tr>\n",
       "  <th>Dep. Variable:</th>     <td>norm_ret</td>     <th>  No. Observations:  </th>    <td>5534</td>   \n",
       "</tr>\n",
       "<tr>\n",
       "  <th>Model:</th>            <td>ARMA(3, 0)</td>    <th>  Log Likelihood     </th>  <td>11016.186</td>\n",
       "</tr>\n",
       "<tr>\n",
       "  <th>Method:</th>             <td>css-mle</td>     <th>  S.D. of innovations</th>    <td>0.033</td>  \n",
       "</tr>\n",
       "<tr>\n",
       "  <th>Date:</th>          <td>Thu, 16 Jul 2020</td> <th>  AIC                </th> <td>-22022.372</td>\n",
       "</tr>\n",
       "<tr>\n",
       "  <th>Time:</th>              <td>01:48:03</td>     <th>  BIC                </th> <td>-21989.279</td>\n",
       "</tr>\n",
       "<tr>\n",
       "  <th>Sample:</th>           <td>01-10-1994</td>    <th>  HQIC               </th> <td>-22010.833</td>\n",
       "</tr>\n",
       "<tr>\n",
       "  <th></th>                 <td>- 03-26-2015</td>   <th>                     </th>      <td> </td>    \n",
       "</tr>\n",
       "</table>\n",
       "<table class=\"simpletable\">\n",
       "<tr>\n",
       "         <td></td>           <th>coef</th>     <th>std err</th>      <th>z</th>      <th>P>|z|</th>  <th>[0.025</th>    <th>0.975]</th>  \n",
       "</tr>\n",
       "<tr>\n",
       "  <th>const</th>          <td>    0.0006</td> <td>    0.000</td> <td>    1.442</td> <td> 0.149</td> <td>   -0.000</td> <td>    0.001</td>\n",
       "</tr>\n",
       "<tr>\n",
       "  <th>ar.L1.norm_ret</th> <td>   -0.0268</td> <td>    0.013</td> <td>   -1.999</td> <td> 0.046</td> <td>   -0.053</td> <td>   -0.001</td>\n",
       "</tr>\n",
       "<tr>\n",
       "  <th>ar.L2.norm_ret</th> <td>   -0.0503</td> <td>    0.013</td> <td>   -3.756</td> <td> 0.000</td> <td>   -0.077</td> <td>   -0.024</td>\n",
       "</tr>\n",
       "<tr>\n",
       "  <th>ar.L3.norm_ret</th> <td>   -0.0750</td> <td>    0.013</td> <td>   -5.594</td> <td> 0.000</td> <td>   -0.101</td> <td>   -0.049</td>\n",
       "</tr>\n",
       "</table>\n",
       "<table class=\"simpletable\">\n",
       "<caption>Roots</caption>\n",
       "<tr>\n",
       "    <td></td>   <th>            Real</th>  <th>         Imaginary</th> <th>         Modulus</th>  <th>        Frequency</th>\n",
       "</tr>\n",
       "<tr>\n",
       "  <th>AR.1</th> <td>           0.9458</td> <td>          -2.0760j</td> <td>           2.2813</td> <td>          -0.1820</td>\n",
       "</tr>\n",
       "<tr>\n",
       "  <th>AR.2</th> <td>           0.9458</td> <td>          +2.0760j</td> <td>           2.2813</td> <td>           0.1820</td>\n",
       "</tr>\n",
       "<tr>\n",
       "  <th>AR.3</th> <td>          -2.5624</td> <td>          -0.0000j</td> <td>           2.5624</td> <td>          -0.5000</td>\n",
       "</tr>\n",
       "</table>"
      ],
      "text/plain": [
       "<class 'statsmodels.iolib.summary.Summary'>\n",
       "\"\"\"\n",
       "                              ARMA Model Results                              \n",
       "==============================================================================\n",
       "Dep. Variable:               norm_ret   No. Observations:                 5534\n",
       "Model:                     ARMA(3, 0)   Log Likelihood               11016.186\n",
       "Method:                       css-mle   S.D. of innovations              0.033\n",
       "Date:                Thu, 16 Jul 2020   AIC                         -22022.372\n",
       "Time:                        01:48:03   BIC                         -21989.279\n",
       "Sample:                    01-10-1994   HQIC                        -22010.833\n",
       "                         - 03-26-2015                                         \n",
       "==================================================================================\n",
       "                     coef    std err          z      P>|z|      [0.025      0.975]\n",
       "----------------------------------------------------------------------------------\n",
       "const              0.0006      0.000      1.442      0.149      -0.000       0.001\n",
       "ar.L1.norm_ret    -0.0268      0.013     -1.999      0.046      -0.053      -0.001\n",
       "ar.L2.norm_ret    -0.0503      0.013     -3.756      0.000      -0.077      -0.024\n",
       "ar.L3.norm_ret    -0.0750      0.013     -5.594      0.000      -0.101      -0.049\n",
       "                                    Roots                                    \n",
       "=============================================================================\n",
       "                  Real          Imaginary           Modulus         Frequency\n",
       "-----------------------------------------------------------------------------\n",
       "AR.1            0.9458           -2.0760j            2.2813           -0.1820\n",
       "AR.2            0.9458           +2.0760j            2.2813            0.1820\n",
       "AR.3           -2.5624           -0.0000j            2.5624           -0.5000\n",
       "-----------------------------------------------------------------------------\n",
       "\"\"\""
      ]
     },
     "execution_count": 61,
     "metadata": {},
     "output_type": "execute_result"
    }
   ],
   "source": [
    "model_norm_ret_ar_3 = sta.ARMA(df.norm_ret, order = (3, 0))\n",
    "result_norm_ret_ar_3 = model_norm_ret_ar_3.fit()\n",
    "result_norm_ret_ar_3.summary()"
   ]
  },
  {
   "cell_type": "code",
   "execution_count": 67,
   "metadata": {},
   "outputs": [
    {
     "data": {
      "text/plain": [
       "0.0"
      ]
     },
     "execution_count": 67,
     "metadata": {},
     "output_type": "execute_result"
    }
   ],
   "source": [
    "LLR_test(model_norm_ret_ar_2, model_norm_ret_ar_3)"
   ]
  },
  {
   "cell_type": "code",
   "execution_count": 62,
   "metadata": {},
   "outputs": [
    {
     "data": {
      "text/html": [
       "<table class=\"simpletable\">\n",
       "<caption>ARMA Model Results</caption>\n",
       "<tr>\n",
       "  <th>Dep. Variable:</th>     <td>norm_ret</td>     <th>  No. Observations:  </th>    <td>5534</td>   \n",
       "</tr>\n",
       "<tr>\n",
       "  <th>Model:</th>            <td>ARMA(4, 0)</td>    <th>  Log Likelihood     </th>  <td>11021.073</td>\n",
       "</tr>\n",
       "<tr>\n",
       "  <th>Method:</th>             <td>css-mle</td>     <th>  S.D. of innovations</th>    <td>0.033</td>  \n",
       "</tr>\n",
       "<tr>\n",
       "  <th>Date:</th>          <td>Thu, 16 Jul 2020</td> <th>  AIC                </th> <td>-22030.146</td>\n",
       "</tr>\n",
       "<tr>\n",
       "  <th>Time:</th>              <td>01:48:05</td>     <th>  BIC                </th> <td>-21990.434</td>\n",
       "</tr>\n",
       "<tr>\n",
       "  <th>Sample:</th>           <td>01-10-1994</td>    <th>  HQIC               </th> <td>-22016.299</td>\n",
       "</tr>\n",
       "<tr>\n",
       "  <th></th>                 <td>- 03-26-2015</td>   <th>                     </th>      <td> </td>    \n",
       "</tr>\n",
       "</table>\n",
       "<table class=\"simpletable\">\n",
       "<tr>\n",
       "         <td></td>           <th>coef</th>     <th>std err</th>      <th>z</th>      <th>P>|z|</th>  <th>[0.025</th>    <th>0.975]</th>  \n",
       "</tr>\n",
       "<tr>\n",
       "  <th>const</th>          <td>    0.0006</td> <td>    0.000</td> <td>    1.381</td> <td> 0.167</td> <td>   -0.000</td> <td>    0.001</td>\n",
       "</tr>\n",
       "<tr>\n",
       "  <th>ar.L1.norm_ret</th> <td>   -0.0236</td> <td>    0.013</td> <td>   -1.760</td> <td> 0.078</td> <td>   -0.050</td> <td>    0.003</td>\n",
       "</tr>\n",
       "<tr>\n",
       "  <th>ar.L2.norm_ret</th> <td>   -0.0482</td> <td>    0.013</td> <td>   -3.596</td> <td> 0.000</td> <td>   -0.074</td> <td>   -0.022</td>\n",
       "</tr>\n",
       "<tr>\n",
       "  <th>ar.L3.norm_ret</th> <td>   -0.0738</td> <td>    0.013</td> <td>   -5.512</td> <td> 0.000</td> <td>   -0.100</td> <td>   -0.048</td>\n",
       "</tr>\n",
       "<tr>\n",
       "  <th>ar.L4.norm_ret</th> <td>    0.0420</td> <td>    0.013</td> <td>    3.128</td> <td> 0.002</td> <td>    0.016</td> <td>    0.068</td>\n",
       "</tr>\n",
       "</table>\n",
       "<table class=\"simpletable\">\n",
       "<caption>Roots</caption>\n",
       "<tr>\n",
       "    <td></td>   <th>            Real</th>  <th>         Imaginary</th> <th>         Modulus</th>  <th>        Frequency</th>\n",
       "</tr>\n",
       "<tr>\n",
       "  <th>AR.1</th> <td>          -1.9407</td> <td>          -0.0000j</td> <td>           1.9407</td> <td>          -0.5000</td>\n",
       "</tr>\n",
       "<tr>\n",
       "  <th>AR.2</th> <td>           0.3284</td> <td>          -1.9811j</td> <td>           2.0082</td> <td>          -0.2239</td>\n",
       "</tr>\n",
       "<tr>\n",
       "  <th>AR.3</th> <td>           0.3284</td> <td>          +1.9811j</td> <td>           2.0082</td> <td>           0.2239</td>\n",
       "</tr>\n",
       "<tr>\n",
       "  <th>AR.4</th> <td>           3.0418</td> <td>          -0.0000j</td> <td>           3.0418</td> <td>          -0.0000</td>\n",
       "</tr>\n",
       "</table>"
      ],
      "text/plain": [
       "<class 'statsmodels.iolib.summary.Summary'>\n",
       "\"\"\"\n",
       "                              ARMA Model Results                              \n",
       "==============================================================================\n",
       "Dep. Variable:               norm_ret   No. Observations:                 5534\n",
       "Model:                     ARMA(4, 0)   Log Likelihood               11021.073\n",
       "Method:                       css-mle   S.D. of innovations              0.033\n",
       "Date:                Thu, 16 Jul 2020   AIC                         -22030.146\n",
       "Time:                        01:48:05   BIC                         -21990.434\n",
       "Sample:                    01-10-1994   HQIC                        -22016.299\n",
       "                         - 03-26-2015                                         \n",
       "==================================================================================\n",
       "                     coef    std err          z      P>|z|      [0.025      0.975]\n",
       "----------------------------------------------------------------------------------\n",
       "const              0.0006      0.000      1.381      0.167      -0.000       0.001\n",
       "ar.L1.norm_ret    -0.0236      0.013     -1.760      0.078      -0.050       0.003\n",
       "ar.L2.norm_ret    -0.0482      0.013     -3.596      0.000      -0.074      -0.022\n",
       "ar.L3.norm_ret    -0.0738      0.013     -5.512      0.000      -0.100      -0.048\n",
       "ar.L4.norm_ret     0.0420      0.013      3.128      0.002       0.016       0.068\n",
       "                                    Roots                                    \n",
       "=============================================================================\n",
       "                  Real          Imaginary           Modulus         Frequency\n",
       "-----------------------------------------------------------------------------\n",
       "AR.1           -1.9407           -0.0000j            1.9407           -0.5000\n",
       "AR.2            0.3284           -1.9811j            2.0082           -0.2239\n",
       "AR.3            0.3284           +1.9811j            2.0082            0.2239\n",
       "AR.4            3.0418           -0.0000j            3.0418           -0.0000\n",
       "-----------------------------------------------------------------------------\n",
       "\"\"\""
      ]
     },
     "execution_count": 62,
     "metadata": {},
     "output_type": "execute_result"
    }
   ],
   "source": [
    "model_norm_ret_ar_4 = sta.ARMA(df.norm_ret, order = (4, 0))\n",
    "result_norm_ret_ar_4 = model_norm_ret_ar_4.fit()\n",
    "result_norm_ret_ar_4.summary()"
   ]
  },
  {
   "cell_type": "code",
   "execution_count": 68,
   "metadata": {},
   "outputs": [
    {
     "data": {
      "text/plain": [
       "0.002"
      ]
     },
     "execution_count": 68,
     "metadata": {},
     "output_type": "execute_result"
    }
   ],
   "source": [
    "LLR_test(model_norm_ret_ar_3, model_norm_ret_ar_4)"
   ]
  },
  {
   "cell_type": "code",
   "execution_count": 63,
   "metadata": {},
   "outputs": [
    {
     "data": {
      "text/html": [
       "<table class=\"simpletable\">\n",
       "<caption>ARMA Model Results</caption>\n",
       "<tr>\n",
       "  <th>Dep. Variable:</th>     <td>norm_ret</td>     <th>  No. Observations:  </th>    <td>5534</td>   \n",
       "</tr>\n",
       "<tr>\n",
       "  <th>Model:</th>            <td>ARMA(5, 0)</td>    <th>  Log Likelihood     </th>  <td>11029.943</td>\n",
       "</tr>\n",
       "<tr>\n",
       "  <th>Method:</th>             <td>css-mle</td>     <th>  S.D. of innovations</th>    <td>0.033</td>  \n",
       "</tr>\n",
       "<tr>\n",
       "  <th>Date:</th>          <td>Thu, 16 Jul 2020</td> <th>  AIC                </th> <td>-22045.887</td>\n",
       "</tr>\n",
       "<tr>\n",
       "  <th>Time:</th>              <td>01:48:06</td>     <th>  BIC                </th> <td>-21999.556</td>\n",
       "</tr>\n",
       "<tr>\n",
       "  <th>Sample:</th>           <td>01-10-1994</td>    <th>  HQIC               </th> <td>-22029.732</td>\n",
       "</tr>\n",
       "<tr>\n",
       "  <th></th>                 <td>- 03-26-2015</td>   <th>                     </th>      <td> </td>    \n",
       "</tr>\n",
       "</table>\n",
       "<table class=\"simpletable\">\n",
       "<tr>\n",
       "         <td></td>           <th>coef</th>     <th>std err</th>      <th>z</th>      <th>P>|z|</th>  <th>[0.025</th>    <th>0.975]</th>  \n",
       "</tr>\n",
       "<tr>\n",
       "  <th>const</th>          <td>    0.0006</td> <td>    0.000</td> <td>    1.463</td> <td> 0.144</td> <td>   -0.000</td> <td>    0.001</td>\n",
       "</tr>\n",
       "<tr>\n",
       "  <th>ar.L1.norm_ret</th> <td>   -0.0213</td> <td>    0.013</td> <td>   -1.584</td> <td> 0.113</td> <td>   -0.048</td> <td>    0.005</td>\n",
       "</tr>\n",
       "<tr>\n",
       "  <th>ar.L2.norm_ret</th> <td>   -0.0524</td> <td>    0.013</td> <td>   -3.903</td> <td> 0.000</td> <td>   -0.079</td> <td>   -0.026</td>\n",
       "</tr>\n",
       "<tr>\n",
       "  <th>ar.L3.norm_ret</th> <td>   -0.0766</td> <td>    0.013</td> <td>   -5.717</td> <td> 0.000</td> <td>   -0.103</td> <td>   -0.050</td>\n",
       "</tr>\n",
       "<tr>\n",
       "  <th>ar.L4.norm_ret</th> <td>    0.0407</td> <td>    0.013</td> <td>    3.031</td> <td> 0.002</td> <td>    0.014</td> <td>    0.067</td>\n",
       "</tr>\n",
       "<tr>\n",
       "  <th>ar.L5.norm_ret</th> <td>   -0.0566</td> <td>    0.013</td> <td>   -4.215</td> <td> 0.000</td> <td>   -0.083</td> <td>   -0.030</td>\n",
       "</tr>\n",
       "</table>\n",
       "<table class=\"simpletable\">\n",
       "<caption>Roots</caption>\n",
       "<tr>\n",
       "    <td></td>   <th>            Real</th>  <th>         Imaginary</th> <th>         Modulus</th>  <th>        Frequency</th>\n",
       "</tr>\n",
       "<tr>\n",
       "  <th>AR.1</th> <td>          -1.5746</td> <td>          -0.0000j</td> <td>           1.5746</td> <td>          -0.5000</td>\n",
       "</tr>\n",
       "<tr>\n",
       "  <th>AR.2</th> <td>          -0.3024</td> <td>          -1.7423j</td> <td>           1.7684</td> <td>          -0.2774</td>\n",
       "</tr>\n",
       "<tr>\n",
       "  <th>AR.3</th> <td>          -0.3024</td> <td>          +1.7423j</td> <td>           1.7684</td> <td>           0.2774</td>\n",
       "</tr>\n",
       "<tr>\n",
       "  <th>AR.4</th> <td>           1.4490</td> <td>          -1.2208j</td> <td>           1.8947</td> <td>          -0.1114</td>\n",
       "</tr>\n",
       "<tr>\n",
       "  <th>AR.5</th> <td>           1.4490</td> <td>          +1.2208j</td> <td>           1.8947</td> <td>           0.1114</td>\n",
       "</tr>\n",
       "</table>"
      ],
      "text/plain": [
       "<class 'statsmodels.iolib.summary.Summary'>\n",
       "\"\"\"\n",
       "                              ARMA Model Results                              \n",
       "==============================================================================\n",
       "Dep. Variable:               norm_ret   No. Observations:                 5534\n",
       "Model:                     ARMA(5, 0)   Log Likelihood               11029.943\n",
       "Method:                       css-mle   S.D. of innovations              0.033\n",
       "Date:                Thu, 16 Jul 2020   AIC                         -22045.887\n",
       "Time:                        01:48:06   BIC                         -21999.556\n",
       "Sample:                    01-10-1994   HQIC                        -22029.732\n",
       "                         - 03-26-2015                                         \n",
       "==================================================================================\n",
       "                     coef    std err          z      P>|z|      [0.025      0.975]\n",
       "----------------------------------------------------------------------------------\n",
       "const              0.0006      0.000      1.463      0.144      -0.000       0.001\n",
       "ar.L1.norm_ret    -0.0213      0.013     -1.584      0.113      -0.048       0.005\n",
       "ar.L2.norm_ret    -0.0524      0.013     -3.903      0.000      -0.079      -0.026\n",
       "ar.L3.norm_ret    -0.0766      0.013     -5.717      0.000      -0.103      -0.050\n",
       "ar.L4.norm_ret     0.0407      0.013      3.031      0.002       0.014       0.067\n",
       "ar.L5.norm_ret    -0.0566      0.013     -4.215      0.000      -0.083      -0.030\n",
       "                                    Roots                                    \n",
       "=============================================================================\n",
       "                  Real          Imaginary           Modulus         Frequency\n",
       "-----------------------------------------------------------------------------\n",
       "AR.1           -1.5746           -0.0000j            1.5746           -0.5000\n",
       "AR.2           -0.3024           -1.7423j            1.7684           -0.2774\n",
       "AR.3           -0.3024           +1.7423j            1.7684            0.2774\n",
       "AR.4            1.4490           -1.2208j            1.8947           -0.1114\n",
       "AR.5            1.4490           +1.2208j            1.8947            0.1114\n",
       "-----------------------------------------------------------------------------\n",
       "\"\"\""
      ]
     },
     "execution_count": 63,
     "metadata": {},
     "output_type": "execute_result"
    }
   ],
   "source": [
    "model_norm_ret_ar_5 = sta.ARMA(df.norm_ret, order = (5, 0))\n",
    "result_norm_ret_ar_5 = model_norm_ret_ar_5.fit()\n",
    "result_norm_ret_ar_5.summary()"
   ]
  },
  {
   "cell_type": "code",
   "execution_count": 69,
   "metadata": {},
   "outputs": [
    {
     "data": {
      "text/plain": [
       "0.0"
      ]
     },
     "execution_count": 69,
     "metadata": {},
     "output_type": "execute_result"
    }
   ],
   "source": [
    "LLR_test(model_norm_ret_ar_4, model_norm_ret_ar_5)"
   ]
  },
  {
   "cell_type": "code",
   "execution_count": 58,
   "metadata": {},
   "outputs": [
    {
     "data": {
      "text/html": [
       "<table class=\"simpletable\">\n",
       "<caption>ARMA Model Results</caption>\n",
       "<tr>\n",
       "  <th>Dep. Variable:</th>     <td>norm_ret</td>     <th>  No. Observations:  </th>    <td>5534</td>   \n",
       "</tr>\n",
       "<tr>\n",
       "  <th>Model:</th>            <td>ARMA(6, 0)</td>    <th>  Log Likelihood     </th>  <td>11034.907</td>\n",
       "</tr>\n",
       "<tr>\n",
       "  <th>Method:</th>             <td>css-mle</td>     <th>  S.D. of innovations</th>    <td>0.033</td>  \n",
       "</tr>\n",
       "<tr>\n",
       "  <th>Date:</th>          <td>Thu, 16 Jul 2020</td> <th>  AIC                </th> <td>-22053.814</td>\n",
       "</tr>\n",
       "<tr>\n",
       "  <th>Time:</th>              <td>01:41:13</td>     <th>  BIC                </th> <td>-22000.864</td>\n",
       "</tr>\n",
       "<tr>\n",
       "  <th>Sample:</th>           <td>01-10-1994</td>    <th>  HQIC               </th> <td>-22035.351</td>\n",
       "</tr>\n",
       "<tr>\n",
       "  <th></th>                 <td>- 03-26-2015</td>   <th>                     </th>      <td> </td>    \n",
       "</tr>\n",
       "</table>\n",
       "<table class=\"simpletable\">\n",
       "<tr>\n",
       "         <td></td>           <th>coef</th>     <th>std err</th>      <th>z</th>      <th>P>|z|</th>  <th>[0.025</th>    <th>0.975]</th>  \n",
       "</tr>\n",
       "<tr>\n",
       "  <th>const</th>          <td>    0.0006</td> <td>    0.000</td> <td>    1.527</td> <td> 0.127</td> <td>   -0.000</td> <td>    0.001</td>\n",
       "</tr>\n",
       "<tr>\n",
       "  <th>ar.L1.norm_ret</th> <td>   -0.0237</td> <td>    0.013</td> <td>   -1.761</td> <td> 0.078</td> <td>   -0.050</td> <td>    0.003</td>\n",
       "</tr>\n",
       "<tr>\n",
       "  <th>ar.L2.norm_ret</th> <td>   -0.0506</td> <td>    0.013</td> <td>   -3.774</td> <td> 0.000</td> <td>   -0.077</td> <td>   -0.024</td>\n",
       "</tr>\n",
       "<tr>\n",
       "  <th>ar.L3.norm_ret</th> <td>   -0.0798</td> <td>    0.013</td> <td>   -5.947</td> <td> 0.000</td> <td>   -0.106</td> <td>   -0.054</td>\n",
       "</tr>\n",
       "<tr>\n",
       "  <th>ar.L4.norm_ret</th> <td>    0.0384</td> <td>    0.013</td> <td>    2.864</td> <td> 0.004</td> <td>    0.012</td> <td>    0.065</td>\n",
       "</tr>\n",
       "<tr>\n",
       "  <th>ar.L5.norm_ret</th> <td>   -0.0575</td> <td>    0.013</td> <td>   -4.286</td> <td> 0.000</td> <td>   -0.084</td> <td>   -0.031</td>\n",
       "</tr>\n",
       "<tr>\n",
       "  <th>ar.L6.norm_ret</th> <td>   -0.0423</td> <td>    0.013</td> <td>   -3.152</td> <td> 0.002</td> <td>   -0.069</td> <td>   -0.016</td>\n",
       "</tr>\n",
       "</table>\n",
       "<table class=\"simpletable\">\n",
       "<caption>Roots</caption>\n",
       "<tr>\n",
       "    <td></td>   <th>            Real</th>  <th>         Imaginary</th> <th>         Modulus</th>  <th>        Frequency</th>\n",
       "</tr>\n",
       "<tr>\n",
       "  <th>AR.1</th> <td>           1.3035</td> <td>          -0.9132j</td> <td>           1.5916</td> <td>          -0.0973</td>\n",
       "</tr>\n",
       "<tr>\n",
       "  <th>AR.2</th> <td>           1.3035</td> <td>          +0.9132j</td> <td>           1.5916</td> <td>           0.0973</td>\n",
       "</tr>\n",
       "<tr>\n",
       "  <th>AR.3</th> <td>          -0.0816</td> <td>          -1.5525j</td> <td>           1.5547</td> <td>          -0.2584</td>\n",
       "</tr>\n",
       "<tr>\n",
       "  <th>AR.4</th> <td>          -0.0816</td> <td>          +1.5525j</td> <td>           1.5547</td> <td>           0.2584</td>\n",
       "</tr>\n",
       "<tr>\n",
       "  <th>AR.5</th> <td>          -1.9010</td> <td>          -0.4948j</td> <td>           1.9643</td> <td>          -0.4595</td>\n",
       "</tr>\n",
       "<tr>\n",
       "  <th>AR.6</th> <td>          -1.9010</td> <td>          +0.4948j</td> <td>           1.9643</td> <td>           0.4595</td>\n",
       "</tr>\n",
       "</table>"
      ],
      "text/plain": [
       "<class 'statsmodels.iolib.summary.Summary'>\n",
       "\"\"\"\n",
       "                              ARMA Model Results                              \n",
       "==============================================================================\n",
       "Dep. Variable:               norm_ret   No. Observations:                 5534\n",
       "Model:                     ARMA(6, 0)   Log Likelihood               11034.907\n",
       "Method:                       css-mle   S.D. of innovations              0.033\n",
       "Date:                Thu, 16 Jul 2020   AIC                         -22053.814\n",
       "Time:                        01:41:13   BIC                         -22000.864\n",
       "Sample:                    01-10-1994   HQIC                        -22035.351\n",
       "                         - 03-26-2015                                         \n",
       "==================================================================================\n",
       "                     coef    std err          z      P>|z|      [0.025      0.975]\n",
       "----------------------------------------------------------------------------------\n",
       "const              0.0006      0.000      1.527      0.127      -0.000       0.001\n",
       "ar.L1.norm_ret    -0.0237      0.013     -1.761      0.078      -0.050       0.003\n",
       "ar.L2.norm_ret    -0.0506      0.013     -3.774      0.000      -0.077      -0.024\n",
       "ar.L3.norm_ret    -0.0798      0.013     -5.947      0.000      -0.106      -0.054\n",
       "ar.L4.norm_ret     0.0384      0.013      2.864      0.004       0.012       0.065\n",
       "ar.L5.norm_ret    -0.0575      0.013     -4.286      0.000      -0.084      -0.031\n",
       "ar.L6.norm_ret    -0.0423      0.013     -3.152      0.002      -0.069      -0.016\n",
       "                                    Roots                                    \n",
       "=============================================================================\n",
       "                  Real          Imaginary           Modulus         Frequency\n",
       "-----------------------------------------------------------------------------\n",
       "AR.1            1.3035           -0.9132j            1.5916           -0.0973\n",
       "AR.2            1.3035           +0.9132j            1.5916            0.0973\n",
       "AR.3           -0.0816           -1.5525j            1.5547           -0.2584\n",
       "AR.4           -0.0816           +1.5525j            1.5547            0.2584\n",
       "AR.5           -1.9010           -0.4948j            1.9643           -0.4595\n",
       "AR.6           -1.9010           +0.4948j            1.9643            0.4595\n",
       "-----------------------------------------------------------------------------\n",
       "\"\"\""
      ]
     },
     "execution_count": 58,
     "metadata": {},
     "output_type": "execute_result"
    }
   ],
   "source": [
    "model_norm_ret_ar_6 = sta.ARMA(df.norm_ret, order = (6, 0))\n",
    "result_norm_ret_ar_6 = model_norm_ret_ar_6.fit()\n",
    "result_norm_ret_ar_6.summary()"
   ]
  },
  {
   "cell_type": "code",
   "execution_count": 70,
   "metadata": {},
   "outputs": [
    {
     "data": {
      "text/plain": [
       "0.002"
      ]
     },
     "execution_count": 70,
     "metadata": {},
     "output_type": "execute_result"
    }
   ],
   "source": [
    "LLR_test(model_norm_ret_ar_5, model_norm_ret_ar_6)"
   ]
  },
  {
   "cell_type": "code",
   "execution_count": 64,
   "metadata": {},
   "outputs": [
    {
     "data": {
      "text/html": [
       "<table class=\"simpletable\">\n",
       "<caption>ARMA Model Results</caption>\n",
       "<tr>\n",
       "  <th>Dep. Variable:</th>     <td>norm_ret</td>     <th>  No. Observations:  </th>    <td>5534</td>   \n",
       "</tr>\n",
       "<tr>\n",
       "  <th>Model:</th>            <td>ARMA(7, 0)</td>    <th>  Log Likelihood     </th>  <td>11035.301</td>\n",
       "</tr>\n",
       "<tr>\n",
       "  <th>Method:</th>             <td>css-mle</td>     <th>  S.D. of innovations</th>    <td>0.033</td>  \n",
       "</tr>\n",
       "<tr>\n",
       "  <th>Date:</th>          <td>Thu, 16 Jul 2020</td> <th>  AIC                </th> <td>-22052.601</td>\n",
       "</tr>\n",
       "<tr>\n",
       "  <th>Time:</th>              <td>01:48:30</td>     <th>  BIC                </th> <td>-21993.033</td>\n",
       "</tr>\n",
       "<tr>\n",
       "  <th>Sample:</th>           <td>01-10-1994</td>    <th>  HQIC               </th> <td>-22031.831</td>\n",
       "</tr>\n",
       "<tr>\n",
       "  <th></th>                 <td>- 03-26-2015</td>   <th>                     </th>      <td> </td>    \n",
       "</tr>\n",
       "</table>\n",
       "<table class=\"simpletable\">\n",
       "<tr>\n",
       "         <td></td>           <th>coef</th>     <th>std err</th>      <th>z</th>      <th>P>|z|</th>  <th>[0.025</th>    <th>0.975]</th>  \n",
       "</tr>\n",
       "<tr>\n",
       "  <th>const</th>          <td>    0.0006</td> <td>    0.000</td> <td>    1.509</td> <td> 0.131</td> <td>   -0.000</td> <td>    0.001</td>\n",
       "</tr>\n",
       "<tr>\n",
       "  <th>ar.L1.norm_ret</th> <td>   -0.0232</td> <td>    0.013</td> <td>   -1.722</td> <td> 0.085</td> <td>   -0.049</td> <td>    0.003</td>\n",
       "</tr>\n",
       "<tr>\n",
       "  <th>ar.L2.norm_ret</th> <td>   -0.0499</td> <td>    0.013</td> <td>   -3.717</td> <td> 0.000</td> <td>   -0.076</td> <td>   -0.024</td>\n",
       "</tr>\n",
       "<tr>\n",
       "  <th>ar.L3.norm_ret</th> <td>   -0.0803</td> <td>    0.013</td> <td>   -5.977</td> <td> 0.000</td> <td>   -0.107</td> <td>   -0.054</td>\n",
       "</tr>\n",
       "<tr>\n",
       "  <th>ar.L4.norm_ret</th> <td>    0.0394</td> <td>    0.013</td> <td>    2.926</td> <td> 0.003</td> <td>    0.013</td> <td>    0.066</td>\n",
       "</tr>\n",
       "<tr>\n",
       "  <th>ar.L5.norm_ret</th> <td>   -0.0569</td> <td>    0.013</td> <td>   -4.236</td> <td> 0.000</td> <td>   -0.083</td> <td>   -0.031</td>\n",
       "</tr>\n",
       "<tr>\n",
       "  <th>ar.L6.norm_ret</th> <td>   -0.0420</td> <td>    0.013</td> <td>   -3.130</td> <td> 0.002</td> <td>   -0.068</td> <td>   -0.016</td>\n",
       "</tr>\n",
       "<tr>\n",
       "  <th>ar.L7.norm_ret</th> <td>    0.0119</td> <td>    0.013</td> <td>    0.888</td> <td> 0.375</td> <td>   -0.014</td> <td>    0.038</td>\n",
       "</tr>\n",
       "</table>\n",
       "<table class=\"simpletable\">\n",
       "<caption>Roots</caption>\n",
       "<tr>\n",
       "    <td></td>   <th>            Real</th>  <th>         Imaginary</th> <th>         Modulus</th>  <th>        Frequency</th>\n",
       "</tr>\n",
       "<tr>\n",
       "  <th>AR.1</th> <td>          -1.6479</td> <td>          -0.5538j</td> <td>           1.7384</td> <td>          -0.4484</td>\n",
       "</tr>\n",
       "<tr>\n",
       "  <th>AR.2</th> <td>          -1.6479</td> <td>          +0.5538j</td> <td>           1.7384</td> <td>           0.4484</td>\n",
       "</tr>\n",
       "<tr>\n",
       "  <th>AR.3</th> <td>          -0.1353</td> <td>          -1.5097j</td> <td>           1.5157</td> <td>          -0.2642</td>\n",
       "</tr>\n",
       "<tr>\n",
       "  <th>AR.4</th> <td>          -0.1353</td> <td>          +1.5097j</td> <td>           1.5157</td> <td>           0.2642</td>\n",
       "</tr>\n",
       "<tr>\n",
       "  <th>AR.5</th> <td>           1.2888</td> <td>          -1.0070j</td> <td>           1.6356</td> <td>          -0.1056</td>\n",
       "</tr>\n",
       "<tr>\n",
       "  <th>AR.6</th> <td>           1.2888</td> <td>          +1.0070j</td> <td>           1.6356</td> <td>           0.1056</td>\n",
       "</tr>\n",
       "<tr>\n",
       "  <th>AR.7</th> <td>           4.5128</td> <td>          -0.0000j</td> <td>           4.5128</td> <td>          -0.0000</td>\n",
       "</tr>\n",
       "</table>"
      ],
      "text/plain": [
       "<class 'statsmodels.iolib.summary.Summary'>\n",
       "\"\"\"\n",
       "                              ARMA Model Results                              \n",
       "==============================================================================\n",
       "Dep. Variable:               norm_ret   No. Observations:                 5534\n",
       "Model:                     ARMA(7, 0)   Log Likelihood               11035.301\n",
       "Method:                       css-mle   S.D. of innovations              0.033\n",
       "Date:                Thu, 16 Jul 2020   AIC                         -22052.601\n",
       "Time:                        01:48:30   BIC                         -21993.033\n",
       "Sample:                    01-10-1994   HQIC                        -22031.831\n",
       "                         - 03-26-2015                                         \n",
       "==================================================================================\n",
       "                     coef    std err          z      P>|z|      [0.025      0.975]\n",
       "----------------------------------------------------------------------------------\n",
       "const              0.0006      0.000      1.509      0.131      -0.000       0.001\n",
       "ar.L1.norm_ret    -0.0232      0.013     -1.722      0.085      -0.049       0.003\n",
       "ar.L2.norm_ret    -0.0499      0.013     -3.717      0.000      -0.076      -0.024\n",
       "ar.L3.norm_ret    -0.0803      0.013     -5.977      0.000      -0.107      -0.054\n",
       "ar.L4.norm_ret     0.0394      0.013      2.926      0.003       0.013       0.066\n",
       "ar.L5.norm_ret    -0.0569      0.013     -4.236      0.000      -0.083      -0.031\n",
       "ar.L6.norm_ret    -0.0420      0.013     -3.130      0.002      -0.068      -0.016\n",
       "ar.L7.norm_ret     0.0119      0.013      0.888      0.375      -0.014       0.038\n",
       "                                    Roots                                    \n",
       "=============================================================================\n",
       "                  Real          Imaginary           Modulus         Frequency\n",
       "-----------------------------------------------------------------------------\n",
       "AR.1           -1.6479           -0.5538j            1.7384           -0.4484\n",
       "AR.2           -1.6479           +0.5538j            1.7384            0.4484\n",
       "AR.3           -0.1353           -1.5097j            1.5157           -0.2642\n",
       "AR.4           -0.1353           +1.5097j            1.5157            0.2642\n",
       "AR.5            1.2888           -1.0070j            1.6356           -0.1056\n",
       "AR.6            1.2888           +1.0070j            1.6356            0.1056\n",
       "AR.7            4.5128           -0.0000j            4.5128           -0.0000\n",
       "-----------------------------------------------------------------------------\n",
       "\"\"\""
      ]
     },
     "execution_count": 64,
     "metadata": {},
     "output_type": "execute_result"
    }
   ],
   "source": [
    "model_norm_ret_ar_7 = sta.ARMA(df.norm_ret, order = (7, 0))\n",
    "result_norm_ret_ar_7 = model_norm_ret_ar_7.fit()\n",
    "result_norm_ret_ar_7.summary()"
   ]
  },
  {
   "cell_type": "code",
   "execution_count": 71,
   "metadata": {},
   "outputs": [
    {
     "data": {
      "text/plain": [
       "0.375"
      ]
     },
     "execution_count": 71,
     "metadata": {},
     "output_type": "execute_result"
    }
   ],
   "source": [
    "LLR_test(model_norm_ret_ar_6, model_norm_ret_ar_7)"
   ]
  },
  {
   "cell_type": "code",
   "execution_count": 65,
   "metadata": {},
   "outputs": [
    {
     "data": {
      "text/html": [
       "<table class=\"simpletable\">\n",
       "<caption>ARMA Model Results</caption>\n",
       "<tr>\n",
       "  <th>Dep. Variable:</th>     <td>norm_ret</td>     <th>  No. Observations:  </th>    <td>5534</td>   \n",
       "</tr>\n",
       "<tr>\n",
       "  <th>Model:</th>            <td>ARMA(8, 0)</td>    <th>  Log Likelihood     </th>  <td>11036.121</td>\n",
       "</tr>\n",
       "<tr>\n",
       "  <th>Method:</th>             <td>css-mle</td>     <th>  S.D. of innovations</th>    <td>0.033</td>  \n",
       "</tr>\n",
       "<tr>\n",
       "  <th>Date:</th>          <td>Thu, 16 Jul 2020</td> <th>  AIC                </th> <td>-22052.241</td>\n",
       "</tr>\n",
       "<tr>\n",
       "  <th>Time:</th>              <td>01:48:35</td>     <th>  BIC                </th> <td>-21986.054</td>\n",
       "</tr>\n",
       "<tr>\n",
       "  <th>Sample:</th>           <td>01-10-1994</td>    <th>  HQIC               </th> <td>-22029.162</td>\n",
       "</tr>\n",
       "<tr>\n",
       "  <th></th>                 <td>- 03-26-2015</td>   <th>                     </th>      <td> </td>    \n",
       "</tr>\n",
       "</table>\n",
       "<table class=\"simpletable\">\n",
       "<tr>\n",
       "         <td></td>           <th>coef</th>     <th>std err</th>      <th>z</th>      <th>P>|z|</th>  <th>[0.025</th>    <th>0.975]</th>  \n",
       "</tr>\n",
       "<tr>\n",
       "  <th>const</th>          <td>    0.0006</td> <td>    0.000</td> <td>    1.484</td> <td> 0.138</td> <td>   -0.000</td> <td>    0.001</td>\n",
       "</tr>\n",
       "<tr>\n",
       "  <th>ar.L1.norm_ret</th> <td>   -0.0234</td> <td>    0.013</td> <td>   -1.738</td> <td> 0.082</td> <td>   -0.050</td> <td>    0.003</td>\n",
       "</tr>\n",
       "<tr>\n",
       "  <th>ar.L2.norm_ret</th> <td>   -0.0492</td> <td>    0.013</td> <td>   -3.661</td> <td> 0.000</td> <td>   -0.076</td> <td>   -0.023</td>\n",
       "</tr>\n",
       "<tr>\n",
       "  <th>ar.L3.norm_ret</th> <td>   -0.0793</td> <td>    0.013</td> <td>   -5.896</td> <td> 0.000</td> <td>   -0.106</td> <td>   -0.053</td>\n",
       "</tr>\n",
       "<tr>\n",
       "  <th>ar.L4.norm_ret</th> <td>    0.0387</td> <td>    0.013</td> <td>    2.873</td> <td> 0.004</td> <td>    0.012</td> <td>    0.065</td>\n",
       "</tr>\n",
       "<tr>\n",
       "  <th>ar.L5.norm_ret</th> <td>   -0.0555</td> <td>    0.013</td> <td>   -4.120</td> <td> 0.000</td> <td>   -0.082</td> <td>   -0.029</td>\n",
       "</tr>\n",
       "<tr>\n",
       "  <th>ar.L6.norm_ret</th> <td>   -0.0412</td> <td>    0.013</td> <td>   -3.062</td> <td> 0.002</td> <td>   -0.068</td> <td>   -0.015</td>\n",
       "</tr>\n",
       "<tr>\n",
       "  <th>ar.L7.norm_ret</th> <td>    0.0123</td> <td>    0.013</td> <td>    0.918</td> <td> 0.359</td> <td>   -0.014</td> <td>    0.039</td>\n",
       "</tr>\n",
       "<tr>\n",
       "  <th>ar.L8.norm_ret</th> <td>    0.0172</td> <td>    0.013</td> <td>    1.281</td> <td> 0.200</td> <td>   -0.009</td> <td>    0.044</td>\n",
       "</tr>\n",
       "</table>\n",
       "<table class=\"simpletable\">\n",
       "<caption>Roots</caption>\n",
       "<tr>\n",
       "    <td></td>   <th>            Real</th>  <th>         Imaginary</th> <th>         Modulus</th>  <th>        Frequency</th>\n",
       "</tr>\n",
       "<tr>\n",
       "  <th>AR.1</th> <td>           1.1243</td> <td>          -1.0191j</td> <td>           1.5174</td> <td>          -0.1172</td>\n",
       "</tr>\n",
       "<tr>\n",
       "  <th>AR.2</th> <td>           1.1243</td> <td>          +1.0191j</td> <td>           1.5174</td> <td>           0.1172</td>\n",
       "</tr>\n",
       "<tr>\n",
       "  <th>AR.3</th> <td>           1.9688</td> <td>          -0.0000j</td> <td>           1.9688</td> <td>          -0.0000</td>\n",
       "</tr>\n",
       "<tr>\n",
       "  <th>AR.4</th> <td>          -0.0730</td> <td>          -1.4347j</td> <td>           1.4365</td> <td>          -0.2581</td>\n",
       "</tr>\n",
       "<tr>\n",
       "  <th>AR.5</th> <td>          -0.0730</td> <td>          +1.4347j</td> <td>           1.4365</td> <td>           0.2581</td>\n",
       "</tr>\n",
       "<tr>\n",
       "  <th>AR.6</th> <td>          -1.5582</td> <td>          -1.1343j</td> <td>           1.9274</td> <td>          -0.3999</td>\n",
       "</tr>\n",
       "<tr>\n",
       "  <th>AR.7</th> <td>          -1.5582</td> <td>          +1.1343j</td> <td>           1.9274</td> <td>           0.3999</td>\n",
       "</tr>\n",
       "<tr>\n",
       "  <th>AR.8</th> <td>          -1.6718</td> <td>          -0.0000j</td> <td>           1.6718</td> <td>          -0.5000</td>\n",
       "</tr>\n",
       "</table>"
      ],
      "text/plain": [
       "<class 'statsmodels.iolib.summary.Summary'>\n",
       "\"\"\"\n",
       "                              ARMA Model Results                              \n",
       "==============================================================================\n",
       "Dep. Variable:               norm_ret   No. Observations:                 5534\n",
       "Model:                     ARMA(8, 0)   Log Likelihood               11036.121\n",
       "Method:                       css-mle   S.D. of innovations              0.033\n",
       "Date:                Thu, 16 Jul 2020   AIC                         -22052.241\n",
       "Time:                        01:48:35   BIC                         -21986.054\n",
       "Sample:                    01-10-1994   HQIC                        -22029.162\n",
       "                         - 03-26-2015                                         \n",
       "==================================================================================\n",
       "                     coef    std err          z      P>|z|      [0.025      0.975]\n",
       "----------------------------------------------------------------------------------\n",
       "const              0.0006      0.000      1.484      0.138      -0.000       0.001\n",
       "ar.L1.norm_ret    -0.0234      0.013     -1.738      0.082      -0.050       0.003\n",
       "ar.L2.norm_ret    -0.0492      0.013     -3.661      0.000      -0.076      -0.023\n",
       "ar.L3.norm_ret    -0.0793      0.013     -5.896      0.000      -0.106      -0.053\n",
       "ar.L4.norm_ret     0.0387      0.013      2.873      0.004       0.012       0.065\n",
       "ar.L5.norm_ret    -0.0555      0.013     -4.120      0.000      -0.082      -0.029\n",
       "ar.L6.norm_ret    -0.0412      0.013     -3.062      0.002      -0.068      -0.015\n",
       "ar.L7.norm_ret     0.0123      0.013      0.918      0.359      -0.014       0.039\n",
       "ar.L8.norm_ret     0.0172      0.013      1.281      0.200      -0.009       0.044\n",
       "                                    Roots                                    \n",
       "=============================================================================\n",
       "                  Real          Imaginary           Modulus         Frequency\n",
       "-----------------------------------------------------------------------------\n",
       "AR.1            1.1243           -1.0191j            1.5174           -0.1172\n",
       "AR.2            1.1243           +1.0191j            1.5174            0.1172\n",
       "AR.3            1.9688           -0.0000j            1.9688           -0.0000\n",
       "AR.4           -0.0730           -1.4347j            1.4365           -0.2581\n",
       "AR.5           -0.0730           +1.4347j            1.4365            0.2581\n",
       "AR.6           -1.5582           -1.1343j            1.9274           -0.3999\n",
       "AR.7           -1.5582           +1.1343j            1.9274            0.3999\n",
       "AR.8           -1.6718           -0.0000j            1.6718           -0.5000\n",
       "-----------------------------------------------------------------------------\n",
       "\"\"\""
      ]
     },
     "execution_count": 65,
     "metadata": {},
     "output_type": "execute_result"
    }
   ],
   "source": [
    "model_norm_ret_ar_8 = sta.ARMA(df.norm_ret, order = (8, 0))\n",
    "result_norm_ret_ar_8 = model_norm_ret_ar_8.fit()\n",
    "result_norm_ret_ar_8.summary()"
   ]
  },
  {
   "cell_type": "code",
   "execution_count": 72,
   "metadata": {},
   "outputs": [
    {
     "data": {
      "text/plain": [
       "0.2"
      ]
     },
     "execution_count": 72,
     "metadata": {},
     "output_type": "execute_result"
    }
   ],
   "source": [
    "LLR_test(model_norm_ret_ar_7, model_norm_ret_ar_8)"
   ]
  },
  {
   "cell_type": "markdown",
   "metadata": {},
   "source": [
    "## Analyzing the Residuals"
   ]
  },
  {
   "cell_type": "markdown",
   "metadata": {},
   "source": [
    "### Creating the AR model for the market value FTSE."
   ]
  },
  {
   "cell_type": "code",
   "execution_count": 75,
   "metadata": {},
   "outputs": [
    {
     "data": {
      "text/html": [
       "<table class=\"simpletable\">\n",
       "<caption>ARMA Model Results</caption>\n",
       "<tr>\n",
       "  <th>Dep. Variable:</th>   <td>market_value</td>   <th>  No. Observations:  </th>    <td>5534</td>   \n",
       "</tr>\n",
       "<tr>\n",
       "  <th>Model:</th>            <td>ARMA(1, 0)</td>    <th>  Log Likelihood     </th> <td>-30365.329</td>\n",
       "</tr>\n",
       "<tr>\n",
       "  <th>Method:</th>             <td>css-mle</td>     <th>  S.D. of innovations</th>   <td>58.415</td>  \n",
       "</tr>\n",
       "<tr>\n",
       "  <th>Date:</th>          <td>Thu, 16 Jul 2020</td> <th>  AIC                </th>  <td>60736.657</td>\n",
       "</tr>\n",
       "<tr>\n",
       "  <th>Time:</th>              <td>15:05:59</td>     <th>  BIC                </th>  <td>60756.513</td>\n",
       "</tr>\n",
       "<tr>\n",
       "  <th>Sample:</th>           <td>01-10-1994</td>    <th>  HQIC               </th>  <td>60743.581</td>\n",
       "</tr>\n",
       "<tr>\n",
       "  <th></th>                 <td>- 03-26-2015</td>   <th>                     </th>      <td> </td>    \n",
       "</tr>\n",
       "</table>\n",
       "<table class=\"simpletable\">\n",
       "<tr>\n",
       "           <td></td>             <th>coef</th>     <th>std err</th>      <th>z</th>      <th>P>|z|</th>  <th>[0.025</th>    <th>0.975]</th>  \n",
       "</tr>\n",
       "<tr>\n",
       "  <th>const</th>              <td> 5174.0269</td> <td>  560.730</td> <td>    9.227</td> <td> 0.000</td> <td> 4075.015</td> <td> 6273.038</td>\n",
       "</tr>\n",
       "<tr>\n",
       "  <th>ar.L1.market_value</th> <td>    0.9988</td> <td>    0.001</td> <td> 1470.097</td> <td> 0.000</td> <td>    0.997</td> <td>    1.000</td>\n",
       "</tr>\n",
       "</table>\n",
       "<table class=\"simpletable\">\n",
       "<caption>Roots</caption>\n",
       "<tr>\n",
       "    <td></td>   <th>            Real</th>  <th>         Imaginary</th> <th>         Modulus</th>  <th>        Frequency</th>\n",
       "</tr>\n",
       "<tr>\n",
       "  <th>AR.1</th> <td>           1.0012</td> <td>          +0.0000j</td> <td>           1.0012</td> <td>           0.0000</td>\n",
       "</tr>\n",
       "</table>"
      ],
      "text/plain": [
       "<class 'statsmodels.iolib.summary.Summary'>\n",
       "\"\"\"\n",
       "                              ARMA Model Results                              \n",
       "==============================================================================\n",
       "Dep. Variable:           market_value   No. Observations:                 5534\n",
       "Model:                     ARMA(1, 0)   Log Likelihood              -30365.329\n",
       "Method:                       css-mle   S.D. of innovations             58.415\n",
       "Date:                Thu, 16 Jul 2020   AIC                          60736.657\n",
       "Time:                        15:05:59   BIC                          60756.513\n",
       "Sample:                    01-10-1994   HQIC                         60743.581\n",
       "                         - 03-26-2015                                         \n",
       "======================================================================================\n",
       "                         coef    std err          z      P>|z|      [0.025      0.975]\n",
       "--------------------------------------------------------------------------------------\n",
       "const               5174.0269    560.730      9.227      0.000    4075.015    6273.038\n",
       "ar.L1.market_value     0.9988      0.001   1470.097      0.000       0.997       1.000\n",
       "                                    Roots                                    \n",
       "=============================================================================\n",
       "                  Real          Imaginary           Modulus         Frequency\n",
       "-----------------------------------------------------------------------------\n",
       "AR.1            1.0012           +0.0000j            1.0012            0.0000\n",
       "-----------------------------------------------------------------------------\n",
       "\"\"\""
      ]
     },
     "execution_count": 75,
     "metadata": {},
     "output_type": "execute_result"
    }
   ],
   "source": [
    "model_ar_1 = sta.ARMA(df.market_value, order = (1, 0))\n",
    "result_ar_1 = model_ar_1.fit()\n",
    "result_ar_1.summary()"
   ]
  },
  {
   "cell_type": "code",
   "execution_count": 76,
   "metadata": {},
   "outputs": [
    {
     "data": {
      "text/html": [
       "<table class=\"simpletable\">\n",
       "<caption>ARMA Model Results</caption>\n",
       "<tr>\n",
       "  <th>Dep. Variable:</th>   <td>market_value</td>   <th>  No. Observations:  </th>    <td>5534</td>   \n",
       "</tr>\n",
       "<tr>\n",
       "  <th>Model:</th>            <td>ARMA(2, 0)</td>    <th>  Log Likelihood     </th> <td>-30364.675</td>\n",
       "</tr>\n",
       "<tr>\n",
       "  <th>Method:</th>             <td>css-mle</td>     <th>  S.D. of innovations</th>   <td>58.408</td>  \n",
       "</tr>\n",
       "<tr>\n",
       "  <th>Date:</th>          <td>Thu, 16 Jul 2020</td> <th>  AIC                </th>  <td>60737.350</td>\n",
       "</tr>\n",
       "<tr>\n",
       "  <th>Time:</th>              <td>15:06:35</td>     <th>  BIC                </th>  <td>60763.825</td>\n",
       "</tr>\n",
       "<tr>\n",
       "  <th>Sample:</th>           <td>01-10-1994</td>    <th>  HQIC               </th>  <td>60746.582</td>\n",
       "</tr>\n",
       "<tr>\n",
       "  <th></th>                 <td>- 03-26-2015</td>   <th>                     </th>      <td> </td>    \n",
       "</tr>\n",
       "</table>\n",
       "<table class=\"simpletable\">\n",
       "<tr>\n",
       "           <td></td>             <th>coef</th>     <th>std err</th>      <th>z</th>      <th>P>|z|</th>  <th>[0.025</th>    <th>0.975]</th>  \n",
       "</tr>\n",
       "<tr>\n",
       "  <th>const</th>              <td> 5276.8119</td> <td>  565.921</td> <td>    9.324</td> <td> 0.000</td> <td> 4167.627</td> <td> 6385.997</td>\n",
       "</tr>\n",
       "<tr>\n",
       "  <th>ar.L1.market_value</th> <td>    0.9834</td> <td>    0.013</td> <td>   73.261</td> <td> 0.000</td> <td>    0.957</td> <td>    1.010</td>\n",
       "</tr>\n",
       "<tr>\n",
       "  <th>ar.L2.market_value</th> <td>    0.0154</td> <td>    0.013</td> <td>    1.145</td> <td> 0.252</td> <td>   -0.011</td> <td>    0.042</td>\n",
       "</tr>\n",
       "</table>\n",
       "<table class=\"simpletable\">\n",
       "<caption>Roots</caption>\n",
       "<tr>\n",
       "    <td></td>   <th>            Real</th>  <th>         Imaginary</th> <th>         Modulus</th>  <th>        Frequency</th>\n",
       "</tr>\n",
       "<tr>\n",
       "  <th>AR.1</th> <td>           1.0012</td> <td>          +0.0000j</td> <td>           1.0012</td> <td>           0.0000</td>\n",
       "</tr>\n",
       "<tr>\n",
       "  <th>AR.2</th> <td>         -64.9635</td> <td>          +0.0000j</td> <td>          64.9635</td> <td>           0.5000</td>\n",
       "</tr>\n",
       "</table>"
      ],
      "text/plain": [
       "<class 'statsmodels.iolib.summary.Summary'>\n",
       "\"\"\"\n",
       "                              ARMA Model Results                              \n",
       "==============================================================================\n",
       "Dep. Variable:           market_value   No. Observations:                 5534\n",
       "Model:                     ARMA(2, 0)   Log Likelihood              -30364.675\n",
       "Method:                       css-mle   S.D. of innovations             58.408\n",
       "Date:                Thu, 16 Jul 2020   AIC                          60737.350\n",
       "Time:                        15:06:35   BIC                          60763.825\n",
       "Sample:                    01-10-1994   HQIC                         60746.582\n",
       "                         - 03-26-2015                                         \n",
       "======================================================================================\n",
       "                         coef    std err          z      P>|z|      [0.025      0.975]\n",
       "--------------------------------------------------------------------------------------\n",
       "const               5276.8119    565.921      9.324      0.000    4167.627    6385.997\n",
       "ar.L1.market_value     0.9834      0.013     73.261      0.000       0.957       1.010\n",
       "ar.L2.market_value     0.0154      0.013      1.145      0.252      -0.011       0.042\n",
       "                                    Roots                                    \n",
       "=============================================================================\n",
       "                  Real          Imaginary           Modulus         Frequency\n",
       "-----------------------------------------------------------------------------\n",
       "AR.1            1.0012           +0.0000j            1.0012            0.0000\n",
       "AR.2          -64.9635           +0.0000j           64.9635            0.5000\n",
       "-----------------------------------------------------------------------------\n",
       "\"\"\""
      ]
     },
     "execution_count": 76,
     "metadata": {},
     "output_type": "execute_result"
    }
   ],
   "source": [
    "model_ar_2 = sta.ARMA(df.market_value, order = (2, 0))\n",
    "result_ar_2 = model_ar_2.fit()\n",
    "result_ar_2.summary()"
   ]
  },
  {
   "cell_type": "code",
   "execution_count": 77,
   "metadata": {},
   "outputs": [
    {
     "data": {
      "text/plain": [
       "0.253"
      ]
     },
     "execution_count": 77,
     "metadata": {},
     "output_type": "execute_result"
    }
   ],
   "source": [
    "LLR_test(model_ar_1, model_ar_2)"
   ]
  },
  {
   "cell_type": "code",
   "execution_count": 78,
   "metadata": {},
   "outputs": [
    {
     "data": {
      "text/html": [
       "<table class=\"simpletable\">\n",
       "<caption>ARMA Model Results</caption>\n",
       "<tr>\n",
       "  <th>Dep. Variable:</th>   <td>market_value</td>   <th>  No. Observations:  </th>    <td>5534</td>   \n",
       "</tr>\n",
       "<tr>\n",
       "  <th>Model:</th>            <td>ARMA(3, 0)</td>    <th>  Log Likelihood     </th> <td>-30358.874</td>\n",
       "</tr>\n",
       "<tr>\n",
       "  <th>Method:</th>             <td>css-mle</td>     <th>  S.D. of innovations</th>   <td>58.346</td>  \n",
       "</tr>\n",
       "<tr>\n",
       "  <th>Date:</th>          <td>Thu, 16 Jul 2020</td> <th>  AIC                </th>  <td>60727.748</td>\n",
       "</tr>\n",
       "<tr>\n",
       "  <th>Time:</th>              <td>15:07:44</td>     <th>  BIC                </th>  <td>60760.841</td>\n",
       "</tr>\n",
       "<tr>\n",
       "  <th>Sample:</th>           <td>01-10-1994</td>    <th>  HQIC               </th>  <td>60739.287</td>\n",
       "</tr>\n",
       "<tr>\n",
       "  <th></th>                 <td>- 03-26-2015</td>   <th>                     </th>      <td> </td>    \n",
       "</tr>\n",
       "</table>\n",
       "<table class=\"simpletable\">\n",
       "<tr>\n",
       "           <td></td>             <th>coef</th>     <th>std err</th>      <th>z</th>      <th>P>|z|</th>  <th>[0.025</th>    <th>0.975]</th>  \n",
       "</tr>\n",
       "<tr>\n",
       "  <th>const</th>              <td> 5190.5073</td> <td>  603.595</td> <td>    8.599</td> <td> 0.000</td> <td> 4007.482</td> <td> 6373.532</td>\n",
       "</tr>\n",
       "<tr>\n",
       "  <th>ar.L1.market_value</th> <td>    0.9830</td> <td>    0.013</td> <td>   73.341</td> <td> 0.000</td> <td>    0.957</td> <td>    1.009</td>\n",
       "</tr>\n",
       "<tr>\n",
       "  <th>ar.L2.market_value</th> <td>   -0.0295</td> <td>    0.019</td> <td>   -1.567</td> <td> 0.117</td> <td>   -0.066</td> <td>    0.007</td>\n",
       "</tr>\n",
       "<tr>\n",
       "  <th>ar.L3.market_value</th> <td>    0.0454</td> <td>    0.013</td> <td>    3.376</td> <td> 0.001</td> <td>    0.019</td> <td>    0.072</td>\n",
       "</tr>\n",
       "</table>\n",
       "<table class=\"simpletable\">\n",
       "<caption>Roots</caption>\n",
       "<tr>\n",
       "    <td></td>   <th>            Real</th>  <th>         Imaginary</th> <th>         Modulus</th>  <th>        Frequency</th>\n",
       "</tr>\n",
       "<tr>\n",
       "  <th>AR.1</th> <td>           1.0011</td> <td>          -0.0000j</td> <td>           1.0011</td> <td>          -0.0000</td>\n",
       "</tr>\n",
       "<tr>\n",
       "  <th>AR.2</th> <td>          -0.1754</td> <td>          -4.6900j</td> <td>           4.6932</td> <td>          -0.2559</td>\n",
       "</tr>\n",
       "<tr>\n",
       "  <th>AR.3</th> <td>          -0.1754</td> <td>          +4.6900j</td> <td>           4.6932</td> <td>           0.2559</td>\n",
       "</tr>\n",
       "</table>"
      ],
      "text/plain": [
       "<class 'statsmodels.iolib.summary.Summary'>\n",
       "\"\"\"\n",
       "                              ARMA Model Results                              \n",
       "==============================================================================\n",
       "Dep. Variable:           market_value   No. Observations:                 5534\n",
       "Model:                     ARMA(3, 0)   Log Likelihood              -30358.874\n",
       "Method:                       css-mle   S.D. of innovations             58.346\n",
       "Date:                Thu, 16 Jul 2020   AIC                          60727.748\n",
       "Time:                        15:07:44   BIC                          60760.841\n",
       "Sample:                    01-10-1994   HQIC                         60739.287\n",
       "                         - 03-26-2015                                         \n",
       "======================================================================================\n",
       "                         coef    std err          z      P>|z|      [0.025      0.975]\n",
       "--------------------------------------------------------------------------------------\n",
       "const               5190.5073    603.595      8.599      0.000    4007.482    6373.532\n",
       "ar.L1.market_value     0.9830      0.013     73.341      0.000       0.957       1.009\n",
       "ar.L2.market_value    -0.0295      0.019     -1.567      0.117      -0.066       0.007\n",
       "ar.L3.market_value     0.0454      0.013      3.376      0.001       0.019       0.072\n",
       "                                    Roots                                    \n",
       "=============================================================================\n",
       "                  Real          Imaginary           Modulus         Frequency\n",
       "-----------------------------------------------------------------------------\n",
       "AR.1            1.0011           -0.0000j            1.0011           -0.0000\n",
       "AR.2           -0.1754           -4.6900j            4.6932           -0.2559\n",
       "AR.3           -0.1754           +4.6900j            4.6932            0.2559\n",
       "-----------------------------------------------------------------------------\n",
       "\"\"\""
      ]
     },
     "execution_count": 78,
     "metadata": {},
     "output_type": "execute_result"
    }
   ],
   "source": [
    "model_ar_3 = sta.ARMA(df.market_value, order = (3, 0))\n",
    "result_ar_3 = model_ar_3.fit()\n",
    "result_ar_3.summary()"
   ]
  },
  {
   "cell_type": "code",
   "execution_count": 79,
   "metadata": {},
   "outputs": [
    {
     "data": {
      "text/plain": [
       "0.001"
      ]
     },
     "execution_count": 79,
     "metadata": {},
     "output_type": "execute_result"
    }
   ],
   "source": [
    "LLR_test(model_ar_2, model_ar_3)"
   ]
  },
  {
   "cell_type": "code",
   "execution_count": 80,
   "metadata": {},
   "outputs": [
    {
     "data": {
      "text/html": [
       "<table class=\"simpletable\">\n",
       "<caption>ARMA Model Results</caption>\n",
       "<tr>\n",
       "  <th>Dep. Variable:</th>   <td>market_value</td>   <th>  No. Observations:  </th>    <td>5534</td>   \n",
       "</tr>\n",
       "<tr>\n",
       "  <th>Model:</th>            <td>ARMA(4, 0)</td>    <th>  Log Likelihood     </th> <td>-30348.050</td>\n",
       "</tr>\n",
       "<tr>\n",
       "  <th>Method:</th>             <td>css-mle</td>     <th>  S.D. of innovations</th>   <td>58.232</td>  \n",
       "</tr>\n",
       "<tr>\n",
       "  <th>Date:</th>          <td>Thu, 16 Jul 2020</td> <th>  AIC                </th>  <td>60708.100</td>\n",
       "</tr>\n",
       "<tr>\n",
       "  <th>Time:</th>              <td>15:08:33</td>     <th>  BIC                </th>  <td>60747.812</td>\n",
       "</tr>\n",
       "<tr>\n",
       "  <th>Sample:</th>           <td>01-10-1994</td>    <th>  HQIC               </th>  <td>60721.948</td>\n",
       "</tr>\n",
       "<tr>\n",
       "  <th></th>                 <td>- 03-26-2015</td>   <th>                     </th>      <td> </td>    \n",
       "</tr>\n",
       "</table>\n",
       "<table class=\"simpletable\">\n",
       "<tr>\n",
       "           <td></td>             <th>coef</th>     <th>std err</th>      <th>z</th>      <th>P>|z|</th>  <th>[0.025</th>    <th>0.975]</th>  \n",
       "</tr>\n",
       "<tr>\n",
       "  <th>const</th>              <td> 5233.7486</td> <td>  640.668</td> <td>    8.169</td> <td> 0.000</td> <td> 3978.062</td> <td> 6489.435</td>\n",
       "</tr>\n",
       "<tr>\n",
       "  <th>ar.L1.market_value</th> <td>    0.9798</td> <td>    0.013</td> <td>   73.221</td> <td> 0.000</td> <td>    0.954</td> <td>    1.006</td>\n",
       "</tr>\n",
       "<tr>\n",
       "  <th>ar.L2.market_value</th> <td>   -0.0277</td> <td>    0.019</td> <td>   -1.477</td> <td> 0.140</td> <td>   -0.065</td> <td>    0.009</td>\n",
       "</tr>\n",
       "<tr>\n",
       "  <th>ar.L3.market_value</th> <td>   -0.0156</td> <td>    0.019</td> <td>   -0.830</td> <td> 0.407</td> <td>   -0.052</td> <td>    0.021</td>\n",
       "</tr>\n",
       "<tr>\n",
       "  <th>ar.L4.market_value</th> <td>    0.0625</td> <td>    0.013</td> <td>    4.657</td> <td> 0.000</td> <td>    0.036</td> <td>    0.089</td>\n",
       "</tr>\n",
       "</table>\n",
       "<table class=\"simpletable\">\n",
       "<caption>Roots</caption>\n",
       "<tr>\n",
       "    <td></td>   <th>            Real</th>  <th>         Imaginary</th> <th>         Modulus</th>  <th>        Frequency</th>\n",
       "</tr>\n",
       "<tr>\n",
       "  <th>AR.1</th> <td>           1.0009</td> <td>          -0.0000j</td> <td>           1.0009</td> <td>          -0.0000</td>\n",
       "</tr>\n",
       "<tr>\n",
       "  <th>AR.2</th> <td>           0.9999</td> <td>          -2.1932j</td> <td>           2.4104</td> <td>          -0.1819</td>\n",
       "</tr>\n",
       "<tr>\n",
       "  <th>AR.3</th> <td>           0.9999</td> <td>          +2.1932j</td> <td>           2.4104</td> <td>           0.1819</td>\n",
       "</tr>\n",
       "<tr>\n",
       "  <th>AR.4</th> <td>          -2.7512</td> <td>          -0.0000j</td> <td>           2.7512</td> <td>          -0.5000</td>\n",
       "</tr>\n",
       "</table>"
      ],
      "text/plain": [
       "<class 'statsmodels.iolib.summary.Summary'>\n",
       "\"\"\"\n",
       "                              ARMA Model Results                              \n",
       "==============================================================================\n",
       "Dep. Variable:           market_value   No. Observations:                 5534\n",
       "Model:                     ARMA(4, 0)   Log Likelihood              -30348.050\n",
       "Method:                       css-mle   S.D. of innovations             58.232\n",
       "Date:                Thu, 16 Jul 2020   AIC                          60708.100\n",
       "Time:                        15:08:33   BIC                          60747.812\n",
       "Sample:                    01-10-1994   HQIC                         60721.948\n",
       "                         - 03-26-2015                                         \n",
       "======================================================================================\n",
       "                         coef    std err          z      P>|z|      [0.025      0.975]\n",
       "--------------------------------------------------------------------------------------\n",
       "const               5233.7486    640.668      8.169      0.000    3978.062    6489.435\n",
       "ar.L1.market_value     0.9798      0.013     73.221      0.000       0.954       1.006\n",
       "ar.L2.market_value    -0.0277      0.019     -1.477      0.140      -0.065       0.009\n",
       "ar.L3.market_value    -0.0156      0.019     -0.830      0.407      -0.052       0.021\n",
       "ar.L4.market_value     0.0625      0.013      4.657      0.000       0.036       0.089\n",
       "                                    Roots                                    \n",
       "=============================================================================\n",
       "                  Real          Imaginary           Modulus         Frequency\n",
       "-----------------------------------------------------------------------------\n",
       "AR.1            1.0009           -0.0000j            1.0009           -0.0000\n",
       "AR.2            0.9999           -2.1932j            2.4104           -0.1819\n",
       "AR.3            0.9999           +2.1932j            2.4104            0.1819\n",
       "AR.4           -2.7512           -0.0000j            2.7512           -0.5000\n",
       "-----------------------------------------------------------------------------\n",
       "\"\"\""
      ]
     },
     "execution_count": 80,
     "metadata": {},
     "output_type": "execute_result"
    }
   ],
   "source": [
    "model_ar_4 = sta.ARMA(df.market_value, order = (4, 0))\n",
    "result_ar_4 = model_ar_4.fit()\n",
    "result_ar_4.summary()"
   ]
  },
  {
   "cell_type": "code",
   "execution_count": 81,
   "metadata": {},
   "outputs": [
    {
     "data": {
      "text/plain": [
       "0.0"
      ]
     },
     "execution_count": 81,
     "metadata": {},
     "output_type": "execute_result"
    }
   ],
   "source": [
    "LLR_test(model_ar_3, model_ar_4)"
   ]
  },
  {
   "cell_type": "code",
   "execution_count": 82,
   "metadata": {},
   "outputs": [
    {
     "data": {
      "text/html": [
       "<table class=\"simpletable\">\n",
       "<caption>ARMA Model Results</caption>\n",
       "<tr>\n",
       "  <th>Dep. Variable:</th>   <td>market_value</td>   <th>  No. Observations:  </th>    <td>5534</td>   \n",
       "</tr>\n",
       "<tr>\n",
       "  <th>Model:</th>            <td>ARMA(5, 0)</td>    <th>  Log Likelihood     </th> <td>-30346.448</td>\n",
       "</tr>\n",
       "<tr>\n",
       "  <th>Method:</th>             <td>css-mle</td>     <th>  S.D. of innovations</th>   <td>58.215</td>  \n",
       "</tr>\n",
       "<tr>\n",
       "  <th>Date:</th>          <td>Thu, 16 Jul 2020</td> <th>  AIC                </th>  <td>60706.896</td>\n",
       "</tr>\n",
       "<tr>\n",
       "  <th>Time:</th>              <td>15:09:35</td>     <th>  BIC                </th>  <td>60753.226</td>\n",
       "</tr>\n",
       "<tr>\n",
       "  <th>Sample:</th>           <td>01-10-1994</td>    <th>  HQIC               </th>  <td>60723.051</td>\n",
       "</tr>\n",
       "<tr>\n",
       "  <th></th>                 <td>- 03-26-2015</td>   <th>                     </th>      <td> </td>    \n",
       "</tr>\n",
       "</table>\n",
       "<table class=\"simpletable\">\n",
       "<tr>\n",
       "           <td></td>             <th>coef</th>     <th>std err</th>      <th>z</th>      <th>P>|z|</th>  <th>[0.025</th>    <th>0.975]</th>  \n",
       "</tr>\n",
       "<tr>\n",
       "  <th>const</th>              <td> 5233.7484</td> <td>  623.628</td> <td>    8.392</td> <td> 0.000</td> <td> 4011.459</td> <td> 6456.038</td>\n",
       "</tr>\n",
       "<tr>\n",
       "  <th>ar.L1.market_value</th> <td>    0.9813</td> <td>    0.013</td> <td>   73.186</td> <td> 0.000</td> <td>    0.955</td> <td>    1.008</td>\n",
       "</tr>\n",
       "<tr>\n",
       "  <th>ar.L2.market_value</th> <td>   -0.0281</td> <td>    0.019</td> <td>   -1.497</td> <td> 0.134</td> <td>   -0.065</td> <td>    0.009</td>\n",
       "</tr>\n",
       "<tr>\n",
       "  <th>ar.L3.market_value</th> <td>   -0.0163</td> <td>    0.019</td> <td>   -0.865</td> <td> 0.387</td> <td>   -0.053</td> <td>    0.021</td>\n",
       "</tr>\n",
       "<tr>\n",
       "  <th>ar.L4.market_value</th> <td>    0.0861</td> <td>    0.019</td> <td>    4.579</td> <td> 0.000</td> <td>    0.049</td> <td>    0.123</td>\n",
       "</tr>\n",
       "<tr>\n",
       "  <th>ar.L5.market_value</th> <td>   -0.0241</td> <td>    0.013</td> <td>   -1.790</td> <td> 0.073</td> <td>   -0.050</td> <td>    0.002</td>\n",
       "</tr>\n",
       "</table>\n",
       "<table class=\"simpletable\">\n",
       "<caption>Roots</caption>\n",
       "<tr>\n",
       "    <td></td>   <th>            Real</th>  <th>         Imaginary</th> <th>         Modulus</th>  <th>        Frequency</th>\n",
       "</tr>\n",
       "<tr>\n",
       "  <th>AR.1</th> <td>           1.0010</td> <td>          -0.0000j</td> <td>           1.0010</td> <td>          -0.0000</td>\n",
       "</tr>\n",
       "<tr>\n",
       "  <th>AR.2</th> <td>          -2.1754</td> <td>          -0.0000j</td> <td>           2.1754</td> <td>          -0.5000</td>\n",
       "</tr>\n",
       "<tr>\n",
       "  <th>AR.3</th> <td>           0.4514</td> <td>          -2.1806j</td> <td>           2.2268</td> <td>          -0.2175</td>\n",
       "</tr>\n",
       "<tr>\n",
       "  <th>AR.4</th> <td>           0.4514</td> <td>          +2.1806j</td> <td>           2.2268</td> <td>           0.2175</td>\n",
       "</tr>\n",
       "<tr>\n",
       "  <th>AR.5</th> <td>           3.8476</td> <td>          -0.0000j</td> <td>           3.8476</td> <td>          -0.0000</td>\n",
       "</tr>\n",
       "</table>"
      ],
      "text/plain": [
       "<class 'statsmodels.iolib.summary.Summary'>\n",
       "\"\"\"\n",
       "                              ARMA Model Results                              \n",
       "==============================================================================\n",
       "Dep. Variable:           market_value   No. Observations:                 5534\n",
       "Model:                     ARMA(5, 0)   Log Likelihood              -30346.448\n",
       "Method:                       css-mle   S.D. of innovations             58.215\n",
       "Date:                Thu, 16 Jul 2020   AIC                          60706.896\n",
       "Time:                        15:09:35   BIC                          60753.226\n",
       "Sample:                    01-10-1994   HQIC                         60723.051\n",
       "                         - 03-26-2015                                         \n",
       "======================================================================================\n",
       "                         coef    std err          z      P>|z|      [0.025      0.975]\n",
       "--------------------------------------------------------------------------------------\n",
       "const               5233.7484    623.628      8.392      0.000    4011.459    6456.038\n",
       "ar.L1.market_value     0.9813      0.013     73.186      0.000       0.955       1.008\n",
       "ar.L2.market_value    -0.0281      0.019     -1.497      0.134      -0.065       0.009\n",
       "ar.L3.market_value    -0.0163      0.019     -0.865      0.387      -0.053       0.021\n",
       "ar.L4.market_value     0.0861      0.019      4.579      0.000       0.049       0.123\n",
       "ar.L5.market_value    -0.0241      0.013     -1.790      0.073      -0.050       0.002\n",
       "                                    Roots                                    \n",
       "=============================================================================\n",
       "                  Real          Imaginary           Modulus         Frequency\n",
       "-----------------------------------------------------------------------------\n",
       "AR.1            1.0010           -0.0000j            1.0010           -0.0000\n",
       "AR.2           -2.1754           -0.0000j            2.1754           -0.5000\n",
       "AR.3            0.4514           -2.1806j            2.2268           -0.2175\n",
       "AR.4            0.4514           +2.1806j            2.2268            0.2175\n",
       "AR.5            3.8476           -0.0000j            3.8476           -0.0000\n",
       "-----------------------------------------------------------------------------\n",
       "\"\"\""
      ]
     },
     "execution_count": 82,
     "metadata": {},
     "output_type": "execute_result"
    }
   ],
   "source": [
    "model_ar_5 = sta.ARMA(df.market_value, order = (5, 0))\n",
    "result_ar_5 = model_ar_5.fit()\n",
    "result_ar_5.summary()"
   ]
  },
  {
   "cell_type": "code",
   "execution_count": 83,
   "metadata": {},
   "outputs": [
    {
     "data": {
      "text/plain": [
       "0.073"
      ]
     },
     "execution_count": 83,
     "metadata": {},
     "output_type": "execute_result"
    }
   ],
   "source": [
    "LLR_test(model_ar_4, model_ar_5)"
   ]
  },
  {
   "cell_type": "code",
   "execution_count": 84,
   "metadata": {},
   "outputs": [
    {
     "data": {
      "text/html": [
       "<table class=\"simpletable\">\n",
       "<caption>ARMA Model Results</caption>\n",
       "<tr>\n",
       "  <th>Dep. Variable:</th>   <td>market_value</td>   <th>  No. Observations:  </th>    <td>5534</td>   \n",
       "</tr>\n",
       "<tr>\n",
       "  <th>Model:</th>            <td>ARMA(6, 0)</td>    <th>  Log Likelihood     </th> <td>-30342.857</td>\n",
       "</tr>\n",
       "<tr>\n",
       "  <th>Method:</th>             <td>css-mle</td>     <th>  S.D. of innovations</th>   <td>58.178</td>  \n",
       "</tr>\n",
       "<tr>\n",
       "  <th>Date:</th>          <td>Thu, 16 Jul 2020</td> <th>  AIC                </th>  <td>60701.714</td>\n",
       "</tr>\n",
       "<tr>\n",
       "  <th>Time:</th>              <td>15:10:15</td>     <th>  BIC                </th>  <td>60754.664</td>\n",
       "</tr>\n",
       "<tr>\n",
       "  <th>Sample:</th>           <td>01-10-1994</td>    <th>  HQIC               </th>  <td>60720.177</td>\n",
       "</tr>\n",
       "<tr>\n",
       "  <th></th>                 <td>- 03-26-2015</td>   <th>                     </th>      <td> </td>    \n",
       "</tr>\n",
       "</table>\n",
       "<table class=\"simpletable\">\n",
       "<tr>\n",
       "           <td></td>             <th>coef</th>     <th>std err</th>      <th>z</th>      <th>P>|z|</th>  <th>[0.025</th>    <th>0.975]</th>  \n",
       "</tr>\n",
       "<tr>\n",
       "  <th>const</th>              <td> 5233.7486</td> <td>  649.114</td> <td>    8.063</td> <td> 0.000</td> <td> 3961.508</td> <td> 6505.989</td>\n",
       "</tr>\n",
       "<tr>\n",
       "  <th>ar.L1.market_value</th> <td>    0.9822</td> <td>    0.013</td> <td>   73.319</td> <td> 0.000</td> <td>    0.956</td> <td>    1.008</td>\n",
       "</tr>\n",
       "<tr>\n",
       "  <th>ar.L2.market_value</th> <td>   -0.0312</td> <td>    0.019</td> <td>   -1.661</td> <td> 0.097</td> <td>   -0.068</td> <td>    0.006</td>\n",
       "</tr>\n",
       "<tr>\n",
       "  <th>ar.L3.market_value</th> <td>   -0.0157</td> <td>    0.019</td> <td>   -0.834</td> <td> 0.404</td> <td>   -0.053</td> <td>    0.021</td>\n",
       "</tr>\n",
       "<tr>\n",
       "  <th>ar.L4.market_value</th> <td>    0.0871</td> <td>    0.019</td> <td>    4.635</td> <td> 0.000</td> <td>    0.050</td> <td>    0.124</td>\n",
       "</tr>\n",
       "<tr>\n",
       "  <th>ar.L5.market_value</th> <td>   -0.0594</td> <td>    0.019</td> <td>   -3.156</td> <td> 0.002</td> <td>   -0.096</td> <td>   -0.023</td>\n",
       "</tr>\n",
       "<tr>\n",
       "  <th>ar.L6.market_value</th> <td>    0.0360</td> <td>    0.013</td> <td>    2.681</td> <td> 0.007</td> <td>    0.010</td> <td>    0.062</td>\n",
       "</tr>\n",
       "</table>\n",
       "<table class=\"simpletable\">\n",
       "<caption>Roots</caption>\n",
       "<tr>\n",
       "    <td></td>   <th>            Real</th>  <th>         Imaginary</th> <th>         Modulus</th>  <th>        Frequency</th>\n",
       "</tr>\n",
       "<tr>\n",
       "  <th>AR.1</th> <td>           1.0009</td> <td>          -0.0000j</td> <td>           1.0009</td> <td>          -0.0000</td>\n",
       "</tr>\n",
       "<tr>\n",
       "  <th>AR.2</th> <td>          -1.7365</td> <td>          -0.0000j</td> <td>           1.7365</td> <td>          -0.5000</td>\n",
       "</tr>\n",
       "<tr>\n",
       "  <th>AR.3</th> <td>          -0.3409</td> <td>          -1.9289j</td> <td>           1.9588</td> <td>          -0.2778</td>\n",
       "</tr>\n",
       "<tr>\n",
       "  <th>AR.4</th> <td>          -0.3409</td> <td>          +1.9289j</td> <td>           1.9588</td> <td>           0.2778</td>\n",
       "</tr>\n",
       "<tr>\n",
       "  <th>AR.5</th> <td>           1.5330</td> <td>          -1.3462j</td> <td>           2.0402</td> <td>          -0.1147</td>\n",
       "</tr>\n",
       "<tr>\n",
       "  <th>AR.6</th> <td>           1.5330</td> <td>          +1.3462j</td> <td>           2.0402</td> <td>           0.1147</td>\n",
       "</tr>\n",
       "</table>"
      ],
      "text/plain": [
       "<class 'statsmodels.iolib.summary.Summary'>\n",
       "\"\"\"\n",
       "                              ARMA Model Results                              \n",
       "==============================================================================\n",
       "Dep. Variable:           market_value   No. Observations:                 5534\n",
       "Model:                     ARMA(6, 0)   Log Likelihood              -30342.857\n",
       "Method:                       css-mle   S.D. of innovations             58.178\n",
       "Date:                Thu, 16 Jul 2020   AIC                          60701.714\n",
       "Time:                        15:10:15   BIC                          60754.664\n",
       "Sample:                    01-10-1994   HQIC                         60720.177\n",
       "                         - 03-26-2015                                         \n",
       "======================================================================================\n",
       "                         coef    std err          z      P>|z|      [0.025      0.975]\n",
       "--------------------------------------------------------------------------------------\n",
       "const               5233.7486    649.114      8.063      0.000    3961.508    6505.989\n",
       "ar.L1.market_value     0.9822      0.013     73.319      0.000       0.956       1.008\n",
       "ar.L2.market_value    -0.0312      0.019     -1.661      0.097      -0.068       0.006\n",
       "ar.L3.market_value    -0.0157      0.019     -0.834      0.404      -0.053       0.021\n",
       "ar.L4.market_value     0.0871      0.019      4.635      0.000       0.050       0.124\n",
       "ar.L5.market_value    -0.0594      0.019     -3.156      0.002      -0.096      -0.023\n",
       "ar.L6.market_value     0.0360      0.013      2.681      0.007       0.010       0.062\n",
       "                                    Roots                                    \n",
       "=============================================================================\n",
       "                  Real          Imaginary           Modulus         Frequency\n",
       "-----------------------------------------------------------------------------\n",
       "AR.1            1.0009           -0.0000j            1.0009           -0.0000\n",
       "AR.2           -1.7365           -0.0000j            1.7365           -0.5000\n",
       "AR.3           -0.3409           -1.9289j            1.9588           -0.2778\n",
       "AR.4           -0.3409           +1.9289j            1.9588            0.2778\n",
       "AR.5            1.5330           -1.3462j            2.0402           -0.1147\n",
       "AR.6            1.5330           +1.3462j            2.0402            0.1147\n",
       "-----------------------------------------------------------------------------\n",
       "\"\"\""
      ]
     },
     "execution_count": 84,
     "metadata": {},
     "output_type": "execute_result"
    }
   ],
   "source": [
    "model_ar_6 = sta.ARMA(df.market_value, order = (6, 0))\n",
    "result_ar_6 = model_ar_6.fit()\n",
    "result_ar_6.summary()"
   ]
  },
  {
   "cell_type": "code",
   "execution_count": 85,
   "metadata": {},
   "outputs": [
    {
     "data": {
      "text/plain": [
       "0.007"
      ]
     },
     "execution_count": 85,
     "metadata": {},
     "output_type": "execute_result"
    }
   ],
   "source": [
    "LLR_test(model_ar_5, model_ar_6)"
   ]
  },
  {
   "cell_type": "code",
   "execution_count": 86,
   "metadata": {},
   "outputs": [
    {
     "data": {
      "text/html": [
       "<table class=\"simpletable\">\n",
       "<caption>ARMA Model Results</caption>\n",
       "<tr>\n",
       "  <th>Dep. Variable:</th>   <td>market_value</td>   <th>  No. Observations:  </th>    <td>5534</td>   \n",
       "</tr>\n",
       "<tr>\n",
       "  <th>Model:</th>            <td>ARMA(7, 0)</td>    <th>  Log Likelihood     </th> <td>-30339.163</td>\n",
       "</tr>\n",
       "<tr>\n",
       "  <th>Method:</th>             <td>css-mle</td>     <th>  S.D. of innovations</th>   <td>58.139</td>  \n",
       "</tr>\n",
       "<tr>\n",
       "  <th>Date:</th>          <td>Thu, 16 Jul 2020</td> <th>  AIC                </th>  <td>60696.327</td>\n",
       "</tr>\n",
       "<tr>\n",
       "  <th>Time:</th>              <td>15:11:01</td>     <th>  BIC                </th>  <td>60755.895</td>\n",
       "</tr>\n",
       "<tr>\n",
       "  <th>Sample:</th>           <td>01-10-1994</td>    <th>  HQIC               </th>  <td>60717.098</td>\n",
       "</tr>\n",
       "<tr>\n",
       "  <th></th>                 <td>- 03-26-2015</td>   <th>                     </th>      <td> </td>    \n",
       "</tr>\n",
       "</table>\n",
       "<table class=\"simpletable\">\n",
       "<tr>\n",
       "           <td></td>             <th>coef</th>     <th>std err</th>      <th>z</th>      <th>P>|z|</th>  <th>[0.025</th>    <th>0.975]</th>  \n",
       "</tr>\n",
       "<tr>\n",
       "  <th>const</th>              <td> 5233.7486</td> <td>  675.716</td> <td>    7.745</td> <td> 0.000</td> <td> 3909.370</td> <td> 6558.127</td>\n",
       "</tr>\n",
       "<tr>\n",
       "  <th>ar.L1.market_value</th> <td>    0.9809</td> <td>    0.013</td> <td>   73.273</td> <td> 0.000</td> <td>    0.955</td> <td>    1.007</td>\n",
       "</tr>\n",
       "<tr>\n",
       "  <th>ar.L2.market_value</th> <td>   -0.0290</td> <td>    0.019</td> <td>   -1.545</td> <td> 0.122</td> <td>   -0.066</td> <td>    0.008</td>\n",
       "</tr>\n",
       "<tr>\n",
       "  <th>ar.L3.market_value</th> <td>   -0.0189</td> <td>    0.019</td> <td>   -1.003</td> <td> 0.316</td> <td>   -0.056</td> <td>    0.018</td>\n",
       "</tr>\n",
       "<tr>\n",
       "  <th>ar.L4.market_value</th> <td>    0.0876</td> <td>    0.019</td> <td>    4.668</td> <td> 0.000</td> <td>    0.051</td> <td>    0.124</td>\n",
       "</tr>\n",
       "<tr>\n",
       "  <th>ar.L5.market_value</th> <td>   -0.0583</td> <td>    0.019</td> <td>   -3.097</td> <td> 0.002</td> <td>   -0.095</td> <td>   -0.021</td>\n",
       "</tr>\n",
       "<tr>\n",
       "  <th>ar.L6.market_value</th> <td>    0.0002</td> <td>    0.019</td> <td>    0.009</td> <td> 0.993</td> <td>   -0.037</td> <td>    0.037</td>\n",
       "</tr>\n",
       "<tr>\n",
       "  <th>ar.L7.market_value</th> <td>    0.0365</td> <td>    0.013</td> <td>    2.719</td> <td> 0.007</td> <td>    0.010</td> <td>    0.063</td>\n",
       "</tr>\n",
       "</table>\n",
       "<table class=\"simpletable\">\n",
       "<caption>Roots</caption>\n",
       "<tr>\n",
       "    <td></td>   <th>            Real</th>  <th>         Imaginary</th> <th>         Modulus</th>  <th>        Frequency</th>\n",
       "</tr>\n",
       "<tr>\n",
       "  <th>AR.1</th> <td>           1.0008</td> <td>          -0.0000j</td> <td>           1.0008</td> <td>          -0.0000</td>\n",
       "</tr>\n",
       "<tr>\n",
       "  <th>AR.2</th> <td>           1.3593</td> <td>          -0.9476j</td> <td>           1.6570</td> <td>          -0.0969</td>\n",
       "</tr>\n",
       "<tr>\n",
       "  <th>AR.3</th> <td>           1.3593</td> <td>          +0.9476j</td> <td>           1.6570</td> <td>           0.0969</td>\n",
       "</tr>\n",
       "<tr>\n",
       "  <th>AR.4</th> <td>          -0.0537</td> <td>          -1.6321j</td> <td>           1.6330</td> <td>          -0.2552</td>\n",
       "</tr>\n",
       "<tr>\n",
       "  <th>AR.5</th> <td>          -0.0537</td> <td>          +1.6321j</td> <td>           1.6330</td> <td>           0.2552</td>\n",
       "</tr>\n",
       "<tr>\n",
       "  <th>AR.6</th> <td>          -1.8084</td> <td>          -0.6821j</td> <td>           1.9327</td> <td>          -0.4426</td>\n",
       "</tr>\n",
       "<tr>\n",
       "  <th>AR.7</th> <td>          -1.8084</td> <td>          +0.6821j</td> <td>           1.9327</td> <td>           0.4426</td>\n",
       "</tr>\n",
       "</table>"
      ],
      "text/plain": [
       "<class 'statsmodels.iolib.summary.Summary'>\n",
       "\"\"\"\n",
       "                              ARMA Model Results                              \n",
       "==============================================================================\n",
       "Dep. Variable:           market_value   No. Observations:                 5534\n",
       "Model:                     ARMA(7, 0)   Log Likelihood              -30339.163\n",
       "Method:                       css-mle   S.D. of innovations             58.139\n",
       "Date:                Thu, 16 Jul 2020   AIC                          60696.327\n",
       "Time:                        15:11:01   BIC                          60755.895\n",
       "Sample:                    01-10-1994   HQIC                         60717.098\n",
       "                         - 03-26-2015                                         \n",
       "======================================================================================\n",
       "                         coef    std err          z      P>|z|      [0.025      0.975]\n",
       "--------------------------------------------------------------------------------------\n",
       "const               5233.7486    675.716      7.745      0.000    3909.370    6558.127\n",
       "ar.L1.market_value     0.9809      0.013     73.273      0.000       0.955       1.007\n",
       "ar.L2.market_value    -0.0290      0.019     -1.545      0.122      -0.066       0.008\n",
       "ar.L3.market_value    -0.0189      0.019     -1.003      0.316      -0.056       0.018\n",
       "ar.L4.market_value     0.0876      0.019      4.668      0.000       0.051       0.124\n",
       "ar.L5.market_value    -0.0583      0.019     -3.097      0.002      -0.095      -0.021\n",
       "ar.L6.market_value     0.0002      0.019      0.009      0.993      -0.037       0.037\n",
       "ar.L7.market_value     0.0365      0.013      2.719      0.007       0.010       0.063\n",
       "                                    Roots                                    \n",
       "=============================================================================\n",
       "                  Real          Imaginary           Modulus         Frequency\n",
       "-----------------------------------------------------------------------------\n",
       "AR.1            1.0008           -0.0000j            1.0008           -0.0000\n",
       "AR.2            1.3593           -0.9476j            1.6570           -0.0969\n",
       "AR.3            1.3593           +0.9476j            1.6570            0.0969\n",
       "AR.4           -0.0537           -1.6321j            1.6330           -0.2552\n",
       "AR.5           -0.0537           +1.6321j            1.6330            0.2552\n",
       "AR.6           -1.8084           -0.6821j            1.9327           -0.4426\n",
       "AR.7           -1.8084           +0.6821j            1.9327            0.4426\n",
       "-----------------------------------------------------------------------------\n",
       "\"\"\""
      ]
     },
     "execution_count": 86,
     "metadata": {},
     "output_type": "execute_result"
    }
   ],
   "source": [
    "model_ar_7 = sta.ARMA(df.market_value, order = (7, 0))\n",
    "result_ar_7 = model_ar_7.fit()\n",
    "result_ar_7.summary()"
   ]
  },
  {
   "cell_type": "code",
   "execution_count": 87,
   "metadata": {},
   "outputs": [
    {
     "data": {
      "text/plain": [
       "0.007"
      ]
     },
     "execution_count": 87,
     "metadata": {},
     "output_type": "execute_result"
    }
   ],
   "source": [
    "LLR_test(model_ar_6, model_ar_7)"
   ]
  },
  {
   "cell_type": "code",
   "execution_count": 88,
   "metadata": {},
   "outputs": [
    {
     "data": {
      "text/html": [
       "<table class=\"simpletable\">\n",
       "<caption>ARMA Model Results</caption>\n",
       "<tr>\n",
       "  <th>Dep. Variable:</th>   <td>market_value</td>   <th>  No. Observations:  </th>    <td>5534</td>   \n",
       "</tr>\n",
       "<tr>\n",
       "  <th>Model:</th>            <td>ARMA(8, 0)</td>    <th>  Log Likelihood     </th> <td>-30338.915</td>\n",
       "</tr>\n",
       "<tr>\n",
       "  <th>Method:</th>             <td>css-mle</td>     <th>  S.D. of innovations</th>   <td>58.136</td>  \n",
       "</tr>\n",
       "<tr>\n",
       "  <th>Date:</th>          <td>Thu, 16 Jul 2020</td> <th>  AIC                </th>  <td>60697.830</td>\n",
       "</tr>\n",
       "<tr>\n",
       "  <th>Time:</th>              <td>15:11:51</td>     <th>  BIC                </th>  <td>60764.017</td>\n",
       "</tr>\n",
       "<tr>\n",
       "  <th>Sample:</th>           <td>01-10-1994</td>    <th>  HQIC               </th>  <td>60720.909</td>\n",
       "</tr>\n",
       "<tr>\n",
       "  <th></th>                 <td>- 03-26-2015</td>   <th>                     </th>      <td> </td>    \n",
       "</tr>\n",
       "</table>\n",
       "<table class=\"simpletable\">\n",
       "<tr>\n",
       "           <td></td>             <th>coef</th>     <th>std err</th>      <th>z</th>      <th>P>|z|</th>  <th>[0.025</th>    <th>0.975]</th>  \n",
       "</tr>\n",
       "<tr>\n",
       "  <th>const</th>              <td> 5233.7486</td> <td>  668.905</td> <td>    7.824</td> <td> 0.000</td> <td> 3922.718</td> <td> 6544.779</td>\n",
       "</tr>\n",
       "<tr>\n",
       "  <th>ar.L1.market_value</th> <td>    0.9812</td> <td>    0.013</td> <td>   73.241</td> <td> 0.000</td> <td>    0.955</td> <td>    1.007</td>\n",
       "</tr>\n",
       "<tr>\n",
       "  <th>ar.L2.market_value</th> <td>   -0.0290</td> <td>    0.019</td> <td>   -1.545</td> <td> 0.122</td> <td>   -0.066</td> <td>    0.008</td>\n",
       "</tr>\n",
       "<tr>\n",
       "  <th>ar.L3.market_value</th> <td>   -0.0194</td> <td>    0.019</td> <td>   -1.031</td> <td> 0.302</td> <td>   -0.056</td> <td>    0.017</td>\n",
       "</tr>\n",
       "<tr>\n",
       "  <th>ar.L4.market_value</th> <td>    0.0885</td> <td>    0.019</td> <td>    4.703</td> <td> 0.000</td> <td>    0.052</td> <td>    0.125</td>\n",
       "</tr>\n",
       "<tr>\n",
       "  <th>ar.L5.market_value</th> <td>   -0.0584</td> <td>    0.019</td> <td>   -3.107</td> <td> 0.002</td> <td>   -0.095</td> <td>   -0.022</td>\n",
       "</tr>\n",
       "<tr>\n",
       "  <th>ar.L6.market_value</th> <td>   -0.0001</td> <td>    0.019</td> <td>   -0.005</td> <td> 0.996</td> <td>   -0.037</td> <td>    0.037</td>\n",
       "</tr>\n",
       "<tr>\n",
       "  <th>ar.L7.market_value</th> <td>    0.0458</td> <td>    0.019</td> <td>    2.435</td> <td> 0.015</td> <td>    0.009</td> <td>    0.083</td>\n",
       "</tr>\n",
       "<tr>\n",
       "  <th>ar.L8.market_value</th> <td>   -0.0095</td> <td>    0.013</td> <td>   -0.705</td> <td> 0.481</td> <td>   -0.036</td> <td>    0.017</td>\n",
       "</tr>\n",
       "</table>\n",
       "<table class=\"simpletable\">\n",
       "<caption>Roots</caption>\n",
       "<tr>\n",
       "    <td></td>   <th>            Real</th>  <th>         Imaginary</th> <th>         Modulus</th>  <th>        Frequency</th>\n",
       "</tr>\n",
       "<tr>\n",
       "  <th>AR.1</th> <td>           1.0008</td> <td>          -0.0000j</td> <td>           1.0008</td> <td>          -0.0000</td>\n",
       "</tr>\n",
       "<tr>\n",
       "  <th>AR.2</th> <td>          -1.6253</td> <td>          -0.6514j</td> <td>           1.7509</td> <td>          -0.4393</td>\n",
       "</tr>\n",
       "<tr>\n",
       "  <th>AR.3</th> <td>          -1.6253</td> <td>          +0.6514j</td> <td>           1.7509</td> <td>           0.4393</td>\n",
       "</tr>\n",
       "<tr>\n",
       "  <th>AR.4</th> <td>          -0.1223</td> <td>          -1.5904j</td> <td>           1.5951</td> <td>          -0.2622</td>\n",
       "</tr>\n",
       "<tr>\n",
       "  <th>AR.5</th> <td>          -0.1223</td> <td>          +1.5904j</td> <td>           1.5951</td> <td>           0.2622</td>\n",
       "</tr>\n",
       "<tr>\n",
       "  <th>AR.6</th> <td>           1.3437</td> <td>          -1.0517j</td> <td>           1.7063</td> <td>          -0.1057</td>\n",
       "</tr>\n",
       "<tr>\n",
       "  <th>AR.7</th> <td>           1.3437</td> <td>          +1.0517j</td> <td>           1.7063</td> <td>           0.1057</td>\n",
       "</tr>\n",
       "<tr>\n",
       "  <th>AR.8</th> <td>           4.6410</td> <td>          -0.0000j</td> <td>           4.6410</td> <td>          -0.0000</td>\n",
       "</tr>\n",
       "</table>"
      ],
      "text/plain": [
       "<class 'statsmodels.iolib.summary.Summary'>\n",
       "\"\"\"\n",
       "                              ARMA Model Results                              \n",
       "==============================================================================\n",
       "Dep. Variable:           market_value   No. Observations:                 5534\n",
       "Model:                     ARMA(8, 0)   Log Likelihood              -30338.915\n",
       "Method:                       css-mle   S.D. of innovations             58.136\n",
       "Date:                Thu, 16 Jul 2020   AIC                          60697.830\n",
       "Time:                        15:11:51   BIC                          60764.017\n",
       "Sample:                    01-10-1994   HQIC                         60720.909\n",
       "                         - 03-26-2015                                         \n",
       "======================================================================================\n",
       "                         coef    std err          z      P>|z|      [0.025      0.975]\n",
       "--------------------------------------------------------------------------------------\n",
       "const               5233.7486    668.905      7.824      0.000    3922.718    6544.779\n",
       "ar.L1.market_value     0.9812      0.013     73.241      0.000       0.955       1.007\n",
       "ar.L2.market_value    -0.0290      0.019     -1.545      0.122      -0.066       0.008\n",
       "ar.L3.market_value    -0.0194      0.019     -1.031      0.302      -0.056       0.017\n",
       "ar.L4.market_value     0.0885      0.019      4.703      0.000       0.052       0.125\n",
       "ar.L5.market_value    -0.0584      0.019     -3.107      0.002      -0.095      -0.022\n",
       "ar.L6.market_value    -0.0001      0.019     -0.005      0.996      -0.037       0.037\n",
       "ar.L7.market_value     0.0458      0.019      2.435      0.015       0.009       0.083\n",
       "ar.L8.market_value    -0.0095      0.013     -0.705      0.481      -0.036       0.017\n",
       "                                    Roots                                    \n",
       "=============================================================================\n",
       "                  Real          Imaginary           Modulus         Frequency\n",
       "-----------------------------------------------------------------------------\n",
       "AR.1            1.0008           -0.0000j            1.0008           -0.0000\n",
       "AR.2           -1.6253           -0.6514j            1.7509           -0.4393\n",
       "AR.3           -1.6253           +0.6514j            1.7509            0.4393\n",
       "AR.4           -0.1223           -1.5904j            1.5951           -0.2622\n",
       "AR.5           -0.1223           +1.5904j            1.5951            0.2622\n",
       "AR.6            1.3437           -1.0517j            1.7063           -0.1057\n",
       "AR.7            1.3437           +1.0517j            1.7063            0.1057\n",
       "AR.8            4.6410           -0.0000j            4.6410           -0.0000\n",
       "-----------------------------------------------------------------------------\n",
       "\"\"\""
      ]
     },
     "execution_count": 88,
     "metadata": {},
     "output_type": "execute_result"
    }
   ],
   "source": [
    "model_ar_8 = sta.ARMA(df.market_value, order = (8, 0))\n",
    "result_ar_8 = model_ar_8.fit()\n",
    "result_ar_8.summary()"
   ]
  },
  {
   "cell_type": "code",
   "execution_count": 89,
   "metadata": {},
   "outputs": [
    {
     "data": {
      "text/plain": [
       "0.481"
      ]
     },
     "execution_count": 89,
     "metadata": {},
     "output_type": "execute_result"
    }
   ],
   "source": [
    "LLR_test(model_ar_7, model_ar_8)"
   ]
  },
  {
   "cell_type": "markdown",
   "metadata": {},
   "source": [
    "So we choose the model 7 and LLR test is failed by the 8th model\n",
    "\n",
    "### Analysing the market value's residuals"
   ]
  },
  {
   "cell_type": "code",
   "execution_count": 90,
   "metadata": {},
   "outputs": [],
   "source": [
    "df['res_price'] = result_ar_7.resid"
   ]
  },
  {
   "cell_type": "code",
   "execution_count": 92,
   "metadata": {},
   "outputs": [
    {
     "data": {
      "text/plain": [
       "0.4175650436723668"
      ]
     },
     "execution_count": 92,
     "metadata": {},
     "output_type": "execute_result"
    }
   ],
   "source": [
    "df.res_price.mean()"
   ]
  },
  {
   "cell_type": "code",
   "execution_count": 93,
   "metadata": {},
   "outputs": [
    {
     "data": {
      "text/plain": [
       "3960.3424718120086"
      ]
     },
     "execution_count": 93,
     "metadata": {},
     "output_type": "execute_result"
    }
   ],
   "source": [
    "df.res_price.var()"
   ]
  },
  {
   "cell_type": "code",
   "execution_count": 94,
   "metadata": {},
   "outputs": [
    {
     "data": {
      "text/plain": [
       "(-80.30860053677962,\n",
       " 0.0,\n",
       " 0,\n",
       " 5533,\n",
       " {'1%': -3.43153242118053,\n",
       "  '5%': -2.862062513380574,\n",
       "  '10%': -2.5670481326009735},\n",
       " 60325.53536377088)"
      ]
     },
     "execution_count": 94,
     "metadata": {},
     "output_type": "execute_result"
    }
   ],
   "source": [
    "sts.adfuller(df.res_price)"
   ]
  },
  {
   "cell_type": "markdown",
   "metadata": {},
   "source": [
    "The above test confirms that the data is stationary. The t-statistic (first line) is way lower than the respective intervals. p-value(second line) is also zero. Mean is also zero. "
   ]
  },
  {
   "cell_type": "code",
   "execution_count": 95,
   "metadata": {},
   "outputs": [
    {
     "data": {
      "image/png": "[encoded data removed]",
      "text/plain": [
       "<Figure size 432x288 with 1 Axes>"
      ]
     },
     "metadata": {
      "needs_background": "light"
     },
     "output_type": "display_data"
    }
   ],
   "source": [
    "sgt.plot_acf(df.res_price, zero = False, lags = 40)\n",
    "plt.title(\"ACF of Residuals for Prices\", size = 24)\n",
    "plt.show()"
   ]
  },
  {
   "cell_type": "code",
   "execution_count": 99,
   "metadata": {},
   "outputs": [
    {
     "data": {
      "image/png": "[encoded data removed]",
      "text/plain": [
       "<Figure size 1440x360 with 1 Axes>"
      ]
     },
     "metadata": {
      "needs_background": "light"
     },
     "output_type": "display_data"
    }
   ],
   "source": [
    "df.res_price[1:].plot(figsize = (20,5))\n",
    "plt.title(\"Residual of Prices\", size = 24)\n",
    "plt.show()"
   ]
  },
  {
   "cell_type": "markdown",
   "metadata": {},
   "source": [
    "### Residual of returns"
   ]
  },
  {
   "cell_type": "code",
   "execution_count": 101,
   "metadata": {},
   "outputs": [],
   "source": [
    "df['res_ret'] = result_ret_ar_7.resid"
   ]
  },
  {
   "cell_type": "code",
   "execution_count": 102,
   "metadata": {},
   "outputs": [
    {
     "data": {
      "text/plain": [
       "0.4175650436723668"
      ]
     },
     "execution_count": 102,
     "metadata": {},
     "output_type": "execute_result"
    }
   ],
   "source": [
    "df.res_ret.mean()"
   ]
  },
  {
   "cell_type": "code",
   "execution_count": 103,
   "metadata": {},
   "outputs": [
    {
     "data": {
      "text/plain": [
       "3960.3424718120086"
      ]
     },
     "execution_count": 103,
     "metadata": {},
     "output_type": "execute_result"
    }
   ],
   "source": [
    "df.res_ret.var()"
   ]
  },
  {
   "cell_type": "code",
   "execution_count": 104,
   "metadata": {},
   "outputs": [
    {
     "data": {
      "text/plain": [
       "(-80.30860053677962,\n",
       " 0.0,\n",
       " 0,\n",
       " 5533,\n",
       " {'1%': -3.43153242118053,\n",
       "  '5%': -2.862062513380574,\n",
       "  '10%': -2.5670481326009735},\n",
       " 60325.53536377088)"
      ]
     },
     "execution_count": 104,
     "metadata": {},
     "output_type": "execute_result"
    }
   ],
   "source": [
    "sts.adfuller(df.res_ret)"
   ]
  },
  {
   "cell_type": "code",
   "execution_count": 105,
   "metadata": {},
   "outputs": [
    {
     "data": {
      "image/png": "[encoded data removed]",
      "text/plain": [
       "<Figure size 432x288 with 1 Axes>"
      ]
     },
     "metadata": {
      "needs_background": "light"
     },
     "output_type": "display_data"
    }
   ],
   "source": [
    "sgt.plot_acf(df.res_ret, zero = False, lags = 40)\n",
    "plt.title(\"ACF of Residuals for Returns\", size = 24)\n",
    "plt.show()"
   ]
  },
  {
   "cell_type": "code",
   "execution_count": 106,
   "metadata": {},
   "outputs": [
    {
     "data": {
      "image/png": "[encoded data removed]",
      "text/plain": [
       "<Figure size 1440x360 with 1 Axes>"
      ]
     },
     "metadata": {
      "needs_background": "light"
     },
     "output_type": "display_data"
    }
   ],
   "source": [
    "df.res_ret[1:].plot(figsize = (20,5))\n",
    "plt.title(\"Residual of Returns\", size = 24)\n",
    "plt.show()"
   ]
  },
  {
   "cell_type": "code",
   "execution_count": null,
   "metadata": {},
   "outputs": [],
   "source": []
  }
 ],
 "metadata": {
  "kernelspec": {
   "display_name": "Python 3",
   "language": "python",
   "name": "python3"
  },
  "language_info": {
   "codemirror_mode": {
    "name": "ipython",
    "version": 3
   },
   "file_extension": ".py",
   "mimetype": "text/x-python",
   "name": "python",
   "nbconvert_exporter": "python",
   "pygments_lexer": "ipython3",
   "version": "3.7.7"
  }
 },
 "nbformat": 4,
 "nbformat_minor": 4
}
